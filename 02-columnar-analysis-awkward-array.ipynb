{
 "cells": [
  {
   "cell_type": "markdown",
   "metadata": {},
   "source": [
    "# Columnar analysis with Awkward Array"
   ]
  },
  {
   "cell_type": "markdown",
   "metadata": {},
   "source": [
    "## How this works as a hands-on tutorial\n",
    "\n",
    "Even though I don't have formal exercises scattered throughout these notebooks, this session can still be interactive.\n",
    "\n",
    "   * **You** should open each notebook in Binder (see [GitHub README](https://github.com/jpivarski/2020-06-08-uproot-awkward-columnar-hats)) and evaluate cells, following along with me.\n",
    "   * **I** should pause frequently and stay open to questions. I'll be monitoring the videoconference chat.\n",
    "   * **We** should feel free to step off the path and try to answer \"What if?\" questions in real time.\n",
    "\n",
    "Not all digressions will lead to an answer—I often realize, \"That's why it didn't work!\" long after the tutorial is over—but tinkering is how we learn.\n",
    "\n",
    "Consider this a tour and I'm your guide. The planned route is a suggestion to get things started, but your questions are more important.\n",
    "\n",
    "(Also, I'm awful at writing formal exercises; they end up being too easy _and_ too hard.)\n",
    "\n",
    "<br><br><br>"
   ]
  },
  {
   "cell_type": "markdown",
   "metadata": {},
   "source": []
  }
 ],
 "metadata": {
  "kernelspec": {
   "display_name": "Python 3",
   "language": "python",
   "name": "python3"
  },
  "language_info": {
   "codemirror_mode": {
    "name": "ipython",
    "version": 3
   },
   "file_extension": ".py",
   "mimetype": "text/x-python",
   "name": "python",
   "nbconvert_exporter": "python",
   "pygments_lexer": "ipython3",
   "version": "3.7.6"
  }
 },
 "nbformat": 4,
 "nbformat_minor": 4
}
