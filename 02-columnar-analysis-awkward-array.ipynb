{
 "cells": [
  {
   "cell_type": "markdown",
   "metadata": {},
   "source": [
    "# Columnar analysis with Awkward Array"
   ]
  },
  {
   "cell_type": "markdown",
   "metadata": {},
   "source": [
    "## How this works as a hands-on tutorial\n",
    "\n",
    "Even though I don't have formal exercises scattered throughout these notebooks, this session can still be interactive.\n",
    "\n",
    "   * **You** should open each notebook in Binder (see [GitHub README](https://github.com/jpivarski/2020-06-08-uproot-awkward-columnar-hats)) and evaluate cells, following along with me.\n",
    "   * **I** should pause frequently and stay open to questions. I'll be monitoring the videoconference chat.\n",
    "   * **We** should feel free to step off the path and try to answer \"What if?\" questions in real time.\n",
    "\n",
    "Not all digressions will lead to an answer—I often realize, \"That's why it didn't work!\" long after the tutorial is over—but tinkering is how we learn.\n",
    "\n",
    "Consider this a tour and I'm your guide. The planned route is a suggestion to get things started, but your questions are more important.\n",
    "\n",
    "(Also, I'm awful at writing formal exercises; they end up being too easy _and_ too hard.)\n",
    "\n",
    "<br><br><br>"
   ]
  },
  {
   "cell_type": "markdown",
   "metadata": {},
   "source": [
    "## Array-based programming\n",
    "\n",
    "One of the first programming languages, named **APL** (\"A Programming Language\") was array-based. It started as a notation for _describing_ hand-written machine code and was later made interactive.\n",
    "\n",
    "**Nial** was also theoretically motivated, and the two of these inspired a generation of direct descendants (green).\n",
    "\n",
    "Meanwhile, the **S** language for statistics borrowed many of these ideas while being focused on a particular domain. Its descendent, **R**, is still widely used.\n",
    "\n",
    "**IDL** was invented for the sciences and gained a lot of traction as an alternative to writing custom Fortran, again using vectorization as a first-class concept.\n",
    "\n",
    "**MATLAB** was similarly gained traction in the sciences as a commercial product.\n",
    "\n",
    "**PDL** (Perl Data Language) and **NumPy** introduced the same concepts as libraries within an established language (Perl and Python). **Julia** has some vector-like interfaces, though its focus is on just-in-time compiling imperative code."
   ]
  },
  {
   "cell_type": "markdown",
   "metadata": {},
   "source": [
    "![](img/apl-timeline.png)\n",
    "\n",
    "<br><br><br>"
   ]
  },
  {
   "cell_type": "markdown",
   "metadata": {},
   "source": [
    "Common features of array-based languages:\n",
    "\n",
    "   * Arrays are the central data type with most operations applying to arrays. (By contrast, C requires explicit iteration over the arrays: it's imperative.)\n",
    "   * They are _all_ interactive languages. The array-at-a-time logic makes it possible to define precompiled routines that run in response to user commands.\n",
    "   * They are primarily data analysis languages, highly targeted to the sciences and statistics.\n",
    "\n",
    "In retrospect, it sounds like a perfect fit.\n",
    "\n",
    "<br><br><br>"
   ]
  },
  {
   "cell_type": "markdown",
   "metadata": {},
   "source": [
    "In this plot of the \"astronomical\" rise of Python, note that 2 of the 3 languages it's displacing are array languages.\n",
    "\n",
    "![](img/mentions-of-programming-languages.png)\n",
    "\n",
    "<br><br><br>"
   ]
  },
  {
   "cell_type": "markdown",
   "metadata": {},
   "source": [
    "## Why not for particle physics?\n",
    "\n",
    "Because **data structures**. Particle physicists have _always_ needed to deal with complex data structures, so much so that we invented packages to add them to Fortran.\n",
    "\n",
    "The following is from [_Initiation to HYDRA_ by R.K. Böck (1976)](https://cds.cern.ch/record/864527?ln=en) as part of an explanation of what a \"data structure\" is, at a time before Fortran had `FOR` loops. (HYDRA was merged into ZEBRA, which became the basis for ROOT I/O.)\n",
    "\n",
    "We would draw similar diagrams today.\n",
    "\n",
    "![](img/hydra-2.png)\n",
    "\n",
    "<br><br><br>"
   ]
  },
  {
   "cell_type": "markdown",
   "metadata": {},
   "source": [
    "But the modify-compile-rerun cycle of C++ is too long for interactive data analysis. That's why ROOT invented CINT and then Cling.\n",
    "\n",
    "But C++ is too complex of a language for data-focused tasks. That's why I was thinking a lot about [extending query languages (like SQL) to data structures](https://stackoverflow.com/questions/38831961/what-declarative-language-is-good-at-analysis-of-tree-like-data).\n",
    "\n",
    "But I was surprised by how useful the simple JaggedArray class in Uproot turned out to be. My conclusion was that you don't need a new language, just some data types and operations.\n",
    "\n",
    "![](img/uproot-awkward-timeline.png)\n",
    "\n",
    "<br><br><br>"
   ]
  },
  {
   "cell_type": "markdown",
   "metadata": {},
   "source": [
    "<font size=\"15\">That's what </font><img src=\"img/awkward-logo-300px.png\" style=\"vertical-align:middle\"><font size=\"15\"> is.</font>\n",
    "\n",
    "\n",
    "Just arrays, but with awkward shapes.\n",
    "\n",
    "![](img/cartoon-schematic.png)\n",
    "\n",
    "<br><br><br>"
   ]
  },
  {
   "cell_type": "markdown",
   "metadata": {},
   "source": [
    "## Let's start with a non-physics example\n",
    "\n",
    "To get a feel for what this means, let's look at _something completely different_ from a Z peak: [Chicago bike paths](https://github.com/Chicago/osd-bike-routes/blob/master/data/Bikeroutes.geojson)."
   ]
  },
  {
   "cell_type": "code",
   "execution_count": 1,
   "metadata": {},
   "outputs": [],
   "source": [
    "import json\n",
    "\n",
    "bikeroutes_json = open(\"data/Bikeroutes.geojson\").read()\n",
    "bikeroutes_pyobj = json.loads(bikeroutes_json)"
   ]
  },
  {
   "cell_type": "code",
   "execution_count": 2,
   "metadata": {},
   "outputs": [
    {
     "name": "stdout",
     "output_type": "stream",
     "text": [
      "{\n",
      "\"type\": \"FeatureCollection\",\n",
      "\"crs\": { \"type\": \"name\", \"properties\": { \"name\": \"urn:ogc:def:crs:OGC:1.3:CRS84\" } },\n",
      "                                                                                \n",
      "\"features\": [\n",
      "{ \"type\": \"Feature\", \"properties\": { \"STREET\": \"W FULLERTON AVE\", \"TYPE\": \"4\", \"BIKEROUTE\": \"RECOMMENDED BIKE ROUTE\", \"F_STREET\": \"W GRAND AVE\", \"T_STREET\": \"W GRAND AVE\" }, \"geometry\": { \"type\": \"MultiLineString\", \"coordinates\": [ [ [ -87.788572682391163, 41.923652047961923 ], [ -87.788645591836797, 41.923651405921802 ], [ -87.788844988373143, 41.923649881816345 ], [ -87.788950897155686, 41.923649066751238 ], [ -87.789091716222416, 41.923648060311677 ], [ -87.789279058225759, 41.923646752738705 ], [ -87.789396101278086, 41.923645907691565 ], [ -87.789781787237345, 41.923641532135363 ], [ -87.789851574317836, 41.923640764779442 ], [ -87.78989703352525, 41.923640238994977 ], [ -87.790052557345319, 41.923638477701097 ], [ -87.790253898265888, 41.92363731709856 ], [ -87.7903925124\n"
     ]
    }
   ],
   "source": [
    "# First thousand bytes...\n",
    "print(bikeroutes_json[:1000])"
   ]
  },
  {
   "cell_type": "markdown",
   "metadata": {},
   "source": [
    "It has a lot of structure—metadata and street names mixed in with the longitude, latitude points. But we can read it in as arrays."
   ]
  },
  {
   "cell_type": "code",
   "execution_count": 3,
   "metadata": {},
   "outputs": [
    {
     "data": {
      "text/plain": [
       "<Record ... [-87.7, 42], [-87.7, 42]]]}}]} type='{\"type\": string, \"crs\": {\"type\"...'>"
      ]
     },
     "execution_count": 3,
     "metadata": {},
     "output_type": "execute_result"
    }
   ],
   "source": [
    "import awkward1 as ak\n",
    "\n",
    "bikeroutes = ak.Record(bikeroutes_pyobj)\n",
    "bikeroutes"
   ]
  },
  {
   "cell_type": "markdown",
   "metadata": {},
   "source": [
    "The analysis-relevant information about the data's structure is contained in its `type`."
   ]
  },
  {
   "cell_type": "code",
   "execution_count": 4,
   "metadata": {},
   "outputs": [
    {
     "data": {
      "text/plain": [
       "{\"type\": string, \"crs\": {\"type\": string, \"properties\": {\"name\": string}}, \"features\": var * {\"type\": string, \"properties\": {\"STREET\": string, \"TYPE\": string, \"BIKEROUTE\": string, \"F_STREET\": string, \"T_STREET\": option[string]}, \"geometry\": {\"type\": string, \"coordinates\": var * var * var * float64}}}"
      ]
     },
     "execution_count": 4,
     "metadata": {},
     "output_type": "execute_result"
    }
   ],
   "source": [
    "ak.type(bikeroutes)"
   ]
  },
  {
   "cell_type": "markdown",
   "metadata": {},
   "source": [
    "Everything is a `string` or an `option[string]` (i.e. can be `null`) except the coordinates, which are `var * var * var * float64` (triply jagged array).\n",
    "\n",
    "Let's go straight for the coordinates."
   ]
  },
  {
   "cell_type": "code",
   "execution_count": 5,
   "metadata": {},
   "outputs": [
    {
     "data": {
      "text/plain": [
       "<Array [[[[-87.8, 41.9], ... [-87.7, 42]]]] type='1061 * var * var * var * float64'>"
      ]
     },
     "execution_count": 5,
     "metadata": {},
     "output_type": "execute_result"
    }
   ],
   "source": [
    "bikeroutes[\"features\", \"geometry\", \"coordinates\"]"
   ]
  },
  {
   "cell_type": "markdown",
   "metadata": {},
   "source": [
    "or"
   ]
  },
  {
   "cell_type": "code",
   "execution_count": 6,
   "metadata": {},
   "outputs": [
    {
     "data": {
      "text/plain": [
       "<Array [[[[-87.8, 41.9], ... [-87.7, 42]]]] type='1061 * var * var * var * float64'>"
      ]
     },
     "execution_count": 6,
     "metadata": {},
     "output_type": "execute_result"
    }
   ],
   "source": [
    "bikeroutes.features.geometry.coordinates"
   ]
  },
  {
   "cell_type": "code",
   "execution_count": 7,
   "metadata": {},
   "outputs": [
    {
     "data": {
      "text/plain": [
       "[[[[-87.78857268239116, 41.92365204796192],\n",
       "   [-87.7886455918368, 41.9236514059218],\n",
       "   [-87.78884498837314, 41.923649881816345],\n",
       "   [-87.78895089715569, 41.92364906675124],\n",
       "   [-87.78909171622242, 41.92364806031168],\n",
       "   [-87.78927905822576, 41.923646752738705],\n",
       "   [-87.78939610127809, 41.923645907691565],\n",
       "   [-87.78978178723735, 41.92364153213536],\n",
       "   [-87.78985157431784, 41.92364076477944],\n",
       "   [-87.78989703352525, 41.92364023899498],\n",
       "   [-87.79005255734532, 41.9236384777011],\n",
       "   [-87.79025389826589, 41.92363731709856],\n",
       "   [-87.79039251240177, 41.923636326077215],\n",
       "   [-87.79131231855902, 41.92362983196139],\n",
       "   [-87.79145920250602, 41.923628604266135],\n",
       "   [-87.79148375037359, 41.92362841824402]]],\n",
       " [[[-87.74815752805499, 41.914431860310785],\n",
       "   [-87.74816482757203, 41.91443315985752],\n",
       "   [-87.74819817563908, 41.914438543841555],\n",
       "   [-87.74823564553337, 41.914451221037915],\n",
       "   [-87.74829849193455, 41.91448927446621],\n",
       "   [-87.74836277977153, 41.914546517396424],\n",
       "   [-87.74841516152057, 41.91460400150793],\n",
       "   [-87.74844048225219, 41.914635497077086],\n",
       "   [-87.74850950533758, 41.91472141384247],\n",
       "   [-87.74857362468143, 41.91480118595212],\n",
       "   [-87.74864751632394, 41.91489313729711],\n",
       "   [-87.74868862640433, 41.914937748315985],\n",
       "   [-87.74872277966871, 41.91496363567131],\n",
       "   [-87.7487818459727, 41.915001312836864],\n",
       "   [-87.74890785915055, 41.915066663291434],\n",
       "   [-87.74891756051767, 41.91507049970957]]],\n",
       " [[[-87.61671282963914, 41.80391856700042],\n",
       "   [-87.61670796416882, 41.8037002018836],\n",
       "   [-87.6166999837239, 41.80339603118747],\n",
       "   [-87.616690428012, 41.803015998791665],\n",
       "   [-87.6166898890235, 41.80299524868399],\n",
       "   [-87.6166454826831, 41.802520485877494],\n",
       "   [-87.61663458293636, 41.80209653657321]]]]"
      ]
     },
     "execution_count": 7,
     "metadata": {},
     "output_type": "execute_result"
    }
   ],
   "source": [
    "ak.to_list(bikeroutes.features.geometry.coordinates[:3])"
   ]
  },
  {
   "cell_type": "markdown",
   "metadata": {},
   "source": [
    "The third axis happens to have length 2 in all cases, but since we came from JSON (which can't guarantee that lists have a certain length).\n",
    "\n",
    "We _could_ enforce this by applying a slice that has a fixed length."
   ]
  },
  {
   "cell_type": "code",
   "execution_count": 8,
   "metadata": {},
   "outputs": [
    {
     "data": {
      "text/plain": [
       "1061 * var * var * var * float64"
      ]
     },
     "execution_count": 8,
     "metadata": {},
     "output_type": "execute_result"
    }
   ],
   "source": [
    "ak.type(bikeroutes.features.geometry.coordinates)"
   ]
  },
  {
   "cell_type": "code",
   "execution_count": 9,
   "metadata": {},
   "outputs": [
    {
     "data": {
      "text/plain": [
       "1061 * var * var * 2 * float64"
      ]
     },
     "execution_count": 9,
     "metadata": {},
     "output_type": "execute_result"
    }
   ],
   "source": [
    "ak.type(bikeroutes.features.geometry.coordinates[:, :, :, [0, 1]])"
   ]
  },
  {
   "cell_type": "markdown",
   "metadata": {},
   "source": [
    "This distinction between fixed-size and in-principle-variable size is important in general, though not very important for this example.\n",
    "\n",
    "A more important question is, what do these levels of jaggedness represent?\n",
    "\n",
    "Let's pick one item and print it out in full detail."
   ]
  },
  {
   "cell_type": "code",
   "execution_count": 10,
   "metadata": {},
   "outputs": [
    {
     "data": {
      "text/plain": [
       "{'type': 'Feature',\n",
       " 'properties': {'STREET': 'E 26TH ST',\n",
       "  'TYPE': '1',\n",
       "  'BIKEROUTE': 'EXISTING BIKE LANE',\n",
       "  'F_STREET': 'S STATE ST',\n",
       "  'T_STREET': 'S DR MARTIN LUTHER KING JR DR'},\n",
       " 'geometry': {'type': 'MultiLineString',\n",
       "  'coordinates': [[[-87.62685625163756, 41.84558714841179],\n",
       "    [-87.62675996392576, 41.84558902593194],\n",
       "    [-87.62637708895348, 41.845596494328554],\n",
       "    [-87.62626461651281, 41.845598326696425],\n",
       "    [-87.62618268489398, 41.84559966093136],\n",
       "    [-87.6261438116618, 41.84560027230502],\n",
       "    [-87.62613206507362, 41.845600474403334],\n",
       "    [-87.6261027723024, 41.8456009526551],\n",
       "    [-87.62579736038116, 41.84560626159298],\n",
       "    [-87.62553890383363, 41.845610239979905],\n",
       "    [-87.62532611036139, 41.845613593674],\n",
       "    [-87.6247932635836, 41.84562202574476]],\n",
       "   [[-87.62532611036139, 41.845613593674],\n",
       "    [-87.6247932635836, 41.84562202574476]],\n",
       "   [[-87.6247932635836, 41.84562202574476],\n",
       "    [-87.62446484629727, 41.84562675013391],\n",
       "    [-87.62444032614908, 41.845627092762086]],\n",
       "   [[-87.6247932635836, 41.84562202574476],\n",
       "    [-87.62446484629727, 41.84562675013391],\n",
       "    [-87.62444032614908, 41.845627092762086]],\n",
       "   [[-87.62444032614908, 41.845627092762086],\n",
       "    [-87.62417259047609, 41.84563048939241]],\n",
       "   [[-87.62417259047609, 41.84563048939241],\n",
       "    [-87.62407957610536, 41.845631726253856],\n",
       "    [-87.62363619038385, 41.845638290417284],\n",
       "    [-87.62339190417225, 41.845641912449615],\n",
       "    [-87.62213773032211, 41.84566047069409],\n",
       "    [-87.620481318361, 41.845684971736716],\n",
       "    [-87.62033059867875, 41.84568719208078],\n",
       "    [-87.61886420422526, 41.84571018731772],\n",
       "    [-87.61783987848477, 41.845726258794926],\n",
       "    [-87.61768559736353, 41.84572529758383],\n",
       "    [-87.61767695024436, 41.84572400878766]],\n",
       "   [[-87.62417259047609, 41.84563048939241],\n",
       "    [-87.62407957610536, 41.845631726253856],\n",
       "    [-87.62363619038385, 41.845638290417284]]]}}"
      ]
     },
     "execution_count": 10,
     "metadata": {},
     "output_type": "execute_result"
    }
   ],
   "source": [
    "ak.to_list(bikeroutes.features[751])"
   ]
  },
  {
   "cell_type": "markdown",
   "metadata": {},
   "source": [
    "The hint is \"MultiLineString\": a bike route consists of disconnected lines. (I guess you have to pick up your bike and walk it.)\n",
    "\n",
    "Most routes are a single connected line; I found this extreme with [ak.num](https://awkward-array.readthedocs.io/en/latest/_auto/ak.num.html), a function for jagged multiplicity."
   ]
  },
  {
   "cell_type": "code",
   "execution_count": 11,
   "metadata": {},
   "outputs": [
    {
     "data": {
      "text/plain": [
       "<Array [1, 1, 1, 1, 1, 1, ... 1, 1, 1, 1, 1, 1] type='1061 * int64'>"
      ]
     },
     "execution_count": 11,
     "metadata": {},
     "output_type": "execute_result"
    }
   ],
   "source": [
    "ak.num(bikeroutes.features.geometry.coordinates)"
   ]
  },
  {
   "cell_type": "code",
   "execution_count": 12,
   "metadata": {},
   "outputs": [
    {
     "data": {
      "text/plain": [
       "751"
      ]
     },
     "execution_count": 12,
     "metadata": {},
     "output_type": "execute_result"
    }
   ],
   "source": [
    "ak.argmax(ak.num(bikeroutes.features.geometry.coordinates))"
   ]
  },
  {
   "cell_type": "markdown",
   "metadata": {},
   "source": [
    "[ak.max](https://awkward-array.readthedocs.io/en/latest/_auto/ak.max.html) is just like [np.max](https://numpy.org/doc/1.18/reference/generated/numpy.amax.html) from NumPy except that it recognizes Awkward Arrays.\n",
    "\n",
    "By contrast, [ak.num](https://awkward-array.readthedocs.io/en/latest/_auto/ak.num.html) could not have a NumPy equivalent because it provides information that would always be trivial with NumPy's rectangular arrays.\n",
    "\n",
    "Functions that overlap NumPy functions, like [ak.max](https://awkward-array.readthedocs.io/en/latest/_auto/ak.max.html) does for [np.max](https://numpy.org/doc/1.18/reference/generated/numpy.amax.html), have exactly the same interface and defaults. If you have NumPy 1.17 or above, they're actually interchangeable (NumPy recognizes that it's looking at a non-NumPy arrays and defers to our implementation)."
   ]
  },
  {
   "cell_type": "code",
   "execution_count": 13,
   "metadata": {},
   "outputs": [
    {
     "data": {
      "text/plain": [
       "751"
      ]
     },
     "execution_count": 13,
     "metadata": {},
     "output_type": "execute_result"
    }
   ],
   "source": [
    "import numpy as np\n",
    "\n",
    "np.argmax(ak.num(bikeroutes.features.geometry.coordinates))"
   ]
  },
  {
   "cell_type": "markdown",
   "metadata": {},
   "source": [
    "To fill out the pattern set by NumPy, most of the functions have an `axis` parameter indicating the depth of nestedness where you want the function to apply.\n",
    "\n",
    "This can be particularly useful for [ak.num](https://awkward-array.readthedocs.io/en/latest/_auto/ak.num.html)."
   ]
  },
  {
   "cell_type": "code",
   "execution_count": 14,
   "metadata": {},
   "outputs": [
    {
     "data": {
      "text/plain": [
       "<Array [1, 1, 1, 1, 1, 1, ... 1, 1, 1, 1, 1, 1] type='1061 * int64'>"
      ]
     },
     "execution_count": 14,
     "metadata": {},
     "output_type": "execute_result"
    }
   ],
   "source": [
    "# most routes have a single contiguous path\n",
    "ak.num(bikeroutes.features.geometry.coordinates, axis=1)"
   ]
  },
  {
   "cell_type": "code",
   "execution_count": 15,
   "metadata": {},
   "outputs": [
    {
     "data": {
      "text/plain": [
       "<Array [[16], [16], [7], ... [80], [20], [11]] type='1061 * var * int64'>"
      ]
     },
     "execution_count": 15,
     "metadata": {},
     "output_type": "execute_result"
    }
   ],
   "source": [
    "# paths can have many or few longitude, latitude points\n",
    "ak.num(bikeroutes.features.geometry.coordinates, axis=2)"
   ]
  },
  {
   "cell_type": "code",
   "execution_count": 16,
   "metadata": {},
   "outputs": [
    {
     "data": {
      "text/plain": [
       "<Array [[[2, 2, 2, 2, 2, ... 2, 2, 2, 2, 2]]] type='1061 * var * var * int64'>"
      ]
     },
     "execution_count": 16,
     "metadata": {},
     "output_type": "execute_result"
    }
   ],
   "source": [
    "# all of the longitude, latitude points have exactly two numbers\n",
    "ak.num(bikeroutes.features.geometry.coordinates, axis=3)"
   ]
  },
  {
   "cell_type": "markdown",
   "metadata": {},
   "source": [
    "Notice the data type: the number of entries in deeply nested data is itself a nested structure.\n",
    "\n",
    "We can verify that the longitude, latitude points really do have two values like this:"
   ]
  },
  {
   "cell_type": "code",
   "execution_count": 17,
   "metadata": {},
   "outputs": [
    {
     "data": {
      "text/plain": [
       "<Array [[[True, True, True, ... True, True]]] type='1061 * var * var * bool'>"
      ]
     },
     "execution_count": 17,
     "metadata": {},
     "output_type": "execute_result"
    }
   ],
   "source": [
    "num = ak.num(bikeroutes.features.geometry.coordinates, axis=3)\n",
    "num == 2"
   ]
  },
  {
   "cell_type": "code",
   "execution_count": 18,
   "metadata": {},
   "outputs": [
    {
     "data": {
      "text/plain": [
       "True"
      ]
     },
     "execution_count": 18,
     "metadata": {},
     "output_type": "execute_result"
    }
   ],
   "source": [
    "ak.all(num == 2)"
   ]
  },
  {
   "cell_type": "markdown",
   "metadata": {},
   "source": [
    "[ak.all](https://awkward-array.readthedocs.io/en/latest/_auto/ak.all.html) is a reducer (like [np.all](https://numpy.org/doc/1.18/reference/generated/numpy.all.html)), which turns arrays into scalars.\n",
    "\n",
    "Its default `axis` is `None`, meaning \"reduce everything.\" We can also partially reduce.\n",
    "\n",
    "`axis=-1` means \"deepest axis,\" which is the most-often useful axis, apart from `None`."
   ]
  },
  {
   "cell_type": "code",
   "execution_count": 19,
   "metadata": {},
   "outputs": [
    {
     "data": {
      "text/plain": [
       "<Array [[True], [True], ... [True], [True]] type='1061 * var * bool'>"
      ]
     },
     "execution_count": 19,
     "metadata": {},
     "output_type": "execute_result"
    }
   ],
   "source": [
    "ak.all(num == 2, axis=-1)"
   ]
  },
  {
   "cell_type": "markdown",
   "metadata": {},
   "source": [
    "So now let's do something useful: how about computing the length of each bike route?\n",
    "\n",
    "First, get the longitude and latitude separately."
   ]
  },
  {
   "cell_type": "code",
   "execution_count": 20,
   "metadata": {},
   "outputs": [
    {
     "data": {
      "text/plain": [
       "(<Array [[[-87.8, -87.8, ... -87.7, -87.7]]] type='1061 * var * var * float64'>,\n",
       " <Array [[[41.9, 41.9, 41.9, ... 42, 42, 42]]] type='1061 * var * var * float64'>)"
      ]
     },
     "execution_count": 20,
     "metadata": {},
     "output_type": "execute_result"
    }
   ],
   "source": [
    "longitude = bikeroutes.features.geometry.coordinates[..., 0]\n",
    "latitude = bikeroutes.features.geometry.coordinates[..., 1]\n",
    "longitude, latitude"
   ]
  },
  {
   "cell_type": "markdown",
   "metadata": {},
   "source": [
    "The ellipsis (`...`) saved me from having to type `coordinates[:, :, :, 0]`, having to know the exact depth when I wanted the deepest."
   ]
  },
  {
   "cell_type": "markdown",
   "metadata": {},
   "source": [
    "At our longtidue and latitude, one degree of longitude corresponds to 82.7 km and one degree of latitude corresponds to 111.1 km (I looked that up elsewhere).\n",
    "\n",
    "Functions like [ak.mean](https://awkward-array.readthedocs.io/en/latest/_auto/ak.mean.html)/[np.mean](https://numpy.org/doc/1.18/reference/generated/numpy.mean.html) have the same interface as reducers."
   ]
  },
  {
   "cell_type": "code",
   "execution_count": 21,
   "metadata": {},
   "outputs": [
    {
     "data": {
      "text/plain": [
       "(<Array [[[-9.68, -9.69, ... -3.58, -3.62]]] type='1061 * var * var * float64'>,\n",
       " <Array [[[6.68, 6.68, 6.67, ... 9.68, 9.72]]] type='1061 * var * var * float64'>)"
      ]
     },
     "execution_count": 21,
     "metadata": {},
     "output_type": "execute_result"
    }
   ],
   "source": [
    "km_east = (longitude - np.mean(longitude)) * 82.7\n",
    "km_north = (latitude - np.mean(latitude)) * 111.1\n",
    "km_east, km_north"
   ]
  },
  {
   "cell_type": "markdown",
   "metadata": {},
   "source": [
    "So now all of the paths are in distance units (km), relative to the center of Chicago (the center of all the points at least; we only needed a convenient origin).\n",
    "\n",
    "Think, for a moment, about what that transformation would have required to do it in \"for\" loops. Even if speed were not an issue, it would be a lot of typing."
   ]
  },
  {
   "cell_type": "markdown",
   "metadata": {},
   "source": [
    "To compute lengths, we need distances _between_ points. So we want to match pairs of points along each path.\n",
    "\n",
    "The way you'd do this with a NumPy array is with slices:"
   ]
  },
  {
   "cell_type": "code",
   "execution_count": 22,
   "metadata": {},
   "outputs": [
    {
     "data": {
      "text/plain": [
       "array([1.1, 1.1, 1.1, 1.1, 1.1, 1.1, 1.1, 1.1])"
      ]
     },
     "execution_count": 22,
     "metadata": {},
     "output_type": "execute_result"
    }
   ],
   "source": [
    "path = np.array([1.1, 2.2, 3.3, 4.4, 5.5, 6.6, 7.7, 8.8, 9.9])\n",
    "path[1:] - path[:-1]"
   ]
  },
  {
   "cell_type": "markdown",
   "metadata": {},
   "source": [
    "where `path[1:]` drops the first element and `path[:-1]` drops the last element, which is exactly what you want to subtract to get all the distances in between.\n",
    "\n",
    "We can do the same thing with our Awkward Arrays, even though they have different lengths at the deepest level of jaggedness."
   ]
  },
  {
   "cell_type": "code",
   "execution_count": 23,
   "metadata": {},
   "outputs": [
    {
     "data": {
      "text/plain": [
       "(<Array [-9.68, -9.69, -9.7, ... -9.91, -9.92] type='15 * float64'>,\n",
       " <Array [-9.69, -9.7, -9.71, ... -9.92, -9.92] type='15 * float64'>)"
      ]
     },
     "execution_count": 23,
     "metadata": {},
     "output_type": "execute_result"
    }
   ],
   "source": [
    "km_east[0, 0, :-1], km_east[0, 0, 1:]"
   ]
  },
  {
   "cell_type": "code",
   "execution_count": 24,
   "metadata": {},
   "outputs": [
    {
     "data": {
      "text/plain": [
       "<Array [0.00603, 0.0165, ... 0.0121, 0.00203] type='15 * float64'>"
      ]
     },
     "execution_count": 24,
     "metadata": {},
     "output_type": "execute_result"
    }
   ],
   "source": [
    "km_east[0, 0, :-1] - km_east[0, 0, 1:]"
   ]
  },
  {
   "cell_type": "markdown",
   "metadata": {},
   "source": [
    "Doing it for all paths at once is no more difficult than doing it for the first path."
   ]
  },
  {
   "cell_type": "code",
   "execution_count": 25,
   "metadata": {},
   "outputs": [
    {
     "data": {
      "text/plain": [
       "<Array [[[0.00603, 0.0165, ... 0.0385]]] type='1061 * var * var * float64'>"
      ]
     },
     "execution_count": 25,
     "metadata": {},
     "output_type": "execute_result"
    }
   ],
   "source": [
    "km_east[:, :, :-1] - km_east[:, :, 1:]"
   ]
  },
  {
   "cell_type": "markdown",
   "metadata": {},
   "source": [
    "(The issue that might come up in a physics analysis is that you might have some empty lists. This dataset didn't have empty paths—why would it?—so we'll deal with empty lists in the physics section, below.)"
   ]
  },
  {
   "cell_type": "markdown",
   "metadata": {},
   "source": [
    "Since we're all familiar with using $\\sqrt{(x_i - x_{i + 1})^2 + (y_i - y_{i + 1})^2}$ as a distance formula, let's jump to the answer."
   ]
  },
  {
   "cell_type": "code",
   "execution_count": 26,
   "metadata": {},
   "outputs": [
    {
     "data": {
      "text/plain": [
       "<Array [[[0.00603, 0.0165, ... 0.0523]]] type='1061 * var * var * float64'>"
      ]
     },
     "execution_count": 26,
     "metadata": {},
     "output_type": "execute_result"
    }
   ],
   "source": [
    "segment_length = np.sqrt((km_east[:, :, 1:] - km_east[:, :, :-1])**2 +\n",
    "                         (km_north[:, :, 1:] - km_north[:, :, :-1])**2)\n",
    "segment_length"
   ]
  },
  {
   "cell_type": "markdown",
   "metadata": {},
   "source": [
    "So now we have replaced paths of length _n_ (where _n_ is variable) with segment distances of length _n ‒ 1_.\n",
    "\n",
    "We probably want the length of each path, so... reducer! This one is [ak.sum](https://awkward-array.readthedocs.io/en/latest/_auto/ak.sum.html)/[np.sum](https://numpy.org/doc/1.18/reference/generated/numpy.sum.html)."
   ]
  },
  {
   "cell_type": "code",
   "execution_count": 27,
   "metadata": {},
   "outputs": [
    {
     "data": {
      "text/plain": [
       "<Array [[0.241], [0.0971], ... 0.347], [0.281]] type='1061 * var * float64'>"
      ]
     },
     "execution_count": 27,
     "metadata": {},
     "output_type": "execute_result"
    }
   ],
   "source": [
    "path_length = np.sum(segment_length, axis=-1)\n",
    "path_length"
   ]
  },
  {
   "cell_type": "markdown",
   "metadata": {},
   "source": [
    "Okay, but some routes have multiple paths (though most have exactly one). These `path_lengths` have the same multiplicity as the paths."
   ]
  },
  {
   "cell_type": "code",
   "execution_count": 28,
   "metadata": {},
   "outputs": [
    {
     "data": {
      "text/plain": [
       "(<Array [1, 1, 1, 1, 1, 1, ... 1, 1, 1, 1, 1, 1] type='1061 * int64'>,\n",
       " <Array [1, 1, 1, 1, 1, 1, ... 1, 1, 1, 1, 1, 1] type='1061 * int64'>)"
      ]
     },
     "execution_count": 28,
     "metadata": {},
     "output_type": "execute_result"
    }
   ],
   "source": [
    "ak.num(path_length), ak.num(bikeroutes.features.geometry.coordinates)"
   ]
  },
  {
   "cell_type": "code",
   "execution_count": 29,
   "metadata": {},
   "outputs": [
    {
     "data": {
      "text/plain": [
       "<Array [True, True, True, ... True, True, True] type='1061 * bool'>"
      ]
     },
     "execution_count": 29,
     "metadata": {},
     "output_type": "execute_result"
    }
   ],
   "source": [
    "ak.num(path_length) == ak.num(bikeroutes.features.geometry.coordinates)"
   ]
  },
  {
   "cell_type": "code",
   "execution_count": 30,
   "metadata": {},
   "outputs": [
    {
     "data": {
      "text/plain": [
       "True"
      ]
     },
     "execution_count": 30,
     "metadata": {},
     "output_type": "execute_result"
    }
   ],
   "source": [
    "ak.all(ak.num(path_length) == ak.num(bikeroutes.features.geometry.coordinates))"
   ]
  },
  {
   "cell_type": "markdown",
   "metadata": {},
   "source": [
    "So let's reduce again."
   ]
  },
  {
   "cell_type": "code",
   "execution_count": 31,
   "metadata": {},
   "outputs": [
    {
     "data": {
      "text/plain": [
       "<Array [0.241, 0.0971, 0.203, ... 0.347, 0.281] type='1061 * float64'>"
      ]
     },
     "execution_count": 31,
     "metadata": {},
     "output_type": "execute_result"
    }
   ],
   "source": [
    "route_length = np.sum(path_length, axis=-1)\n",
    "route_length"
   ]
  },
  {
   "cell_type": "markdown",
   "metadata": {},
   "source": [
    "There you have it. We can also put this new derived column into the original array, if that's useful for anything.\n",
    "\n",
    "(Note: you have to assign with square brackets and strings, not attributes, because attribute-assignment would lead to confusion about assigning to temporary copies. Pandas has the same problem, and they're deprecating attribute-assignemnt because of it.)"
   ]
  },
  {
   "cell_type": "code",
   "execution_count": 32,
   "metadata": {},
   "outputs": [],
   "source": [
    "bikeroutes[\"features\", \"route_length\"] = route_length"
   ]
  },
  {
   "cell_type": "code",
   "execution_count": 36,
   "metadata": {},
   "outputs": [
    {
     "data": {
      "text/plain": [
       "{'type': 'Feature',\n",
       " 'properties': {'STREET': 'E 26TH ST',\n",
       "  'TYPE': '1',\n",
       "  'BIKEROUTE': 'EXISTING BIKE LANE',\n",
       "  'F_STREET': 'S STATE ST',\n",
       "  'T_STREET': 'S DR MARTIN LUTHER KING JR DR'},\n",
       " 'geometry': {'type': 'MultiLineString',\n",
       "  'coordinates': [[[-87.62685625163756, 41.84558714841179],\n",
       "    [-87.62675996392576, 41.84558902593194],\n",
       "    [-87.62637708895348, 41.845596494328554],\n",
       "    [-87.62626461651281, 41.845598326696425],\n",
       "    [-87.62618268489398, 41.84559966093136],\n",
       "    [-87.6261438116618, 41.84560027230502],\n",
       "    [-87.62613206507362, 41.845600474403334],\n",
       "    [-87.6261027723024, 41.8456009526551],\n",
       "    [-87.62579736038116, 41.84560626159298],\n",
       "    [-87.62553890383363, 41.845610239979905],\n",
       "    [-87.62532611036139, 41.845613593674],\n",
       "    [-87.6247932635836, 41.84562202574476]],\n",
       "   [[-87.62532611036139, 41.845613593674],\n",
       "    [-87.6247932635836, 41.84562202574476]],\n",
       "   [[-87.6247932635836, 41.84562202574476],\n",
       "    [-87.62446484629727, 41.84562675013391],\n",
       "    [-87.62444032614908, 41.845627092762086]],\n",
       "   [[-87.6247932635836, 41.84562202574476],\n",
       "    [-87.62446484629727, 41.84562675013391],\n",
       "    [-87.62444032614908, 41.845627092762086]],\n",
       "   [[-87.62444032614908, 41.845627092762086],\n",
       "    [-87.62417259047609, 41.84563048939241]],\n",
       "   [[-87.62417259047609, 41.84563048939241],\n",
       "    [-87.62407957610536, 41.845631726253856],\n",
       "    [-87.62363619038385, 41.845638290417284],\n",
       "    [-87.62339190417225, 41.845641912449615],\n",
       "    [-87.62213773032211, 41.84566047069409],\n",
       "    [-87.620481318361, 41.845684971736716],\n",
       "    [-87.62033059867875, 41.84568719208078],\n",
       "    [-87.61886420422526, 41.84571018731772],\n",
       "    [-87.61783987848477, 41.845726258794926],\n",
       "    [-87.61768559736353, 41.84572529758383],\n",
       "    [-87.61767695024436, 41.84572400878766]],\n",
       "   [[-87.62417259047609, 41.84563048939241],\n",
       "    [-87.62407957610536, 41.845631726253856],\n",
       "    [-87.62363619038385, 41.845638290417284]]]},\n",
       " 'route_length': 0.8769425650373858}"
      ]
     },
     "execution_count": 36,
     "metadata": {},
     "output_type": "execute_result"
    }
   ],
   "source": [
    "ak.to_list(bikeroutes.features[751])"
   ]
  },
  {
   "cell_type": "markdown",
   "metadata": {},
   "source": [
    "Now every record has a `route_length` field."
   ]
  },
  {
   "cell_type": "code",
   "execution_count": 37,
   "metadata": {},
   "outputs": [
    {
     "data": {
      "text/plain": [
       "<Array [0.241, 0.0971, 0.203, ... 0.347, 0.281] type='1061 * float64'>"
      ]
     },
     "execution_count": 37,
     "metadata": {},
     "output_type": "execute_result"
    }
   ],
   "source": [
    "bikeroutes.features.route_length"
   ]
  },
  {
   "cell_type": "markdown",
   "metadata": {},
   "source": [
    "That's how these calculations go. If we were to do the same thing with Python for loops, it would be a lot more verbose and slower."
   ]
  },
  {
   "cell_type": "code",
   "execution_count": 38,
   "metadata": {},
   "outputs": [
    {
     "name": "stdout",
     "output_type": "stream",
     "text": [
      "57.9 ms ± 6.31 ms per loop (mean ± std. dev. of 7 runs, 10 loops each)\n"
     ]
    }
   ],
   "source": [
    "%%timeit\n",
    "\n",
    "total_length = []\n",
    "for route in bikeroutes_pyobj[\"features\"]:\n",
    "    route_length = []\n",
    "    for polyline in route[\"geometry\"][\"coordinates\"]:\n",
    "        segment_length = []\n",
    "        last = None\n",
    "        for lng, lat in polyline:\n",
    "            km_east = lng * 82.7\n",
    "            km_north = lat * 111.1\n",
    "            if last is not None:\n",
    "                dx2 = (km_east - last[0])**2\n",
    "                dy2 = (km_north - last[1])**2\n",
    "                segment_length.append(np.sqrt(dx2 + dy2))\n",
    "            last = (km_east, km_north)\n",
    "\n",
    "        route_length.append(sum(segment_length))\n",
    "    total_length.append(sum(route_length))"
   ]
  },
  {
   "cell_type": "code",
   "execution_count": 39,
   "metadata": {},
   "outputs": [
    {
     "name": "stdout",
     "output_type": "stream",
     "text": [
      "9.63 ms ± 440 µs per loop (mean ± std. dev. of 7 runs, 100 loops each)\n"
     ]
    }
   ],
   "source": [
    "%%timeit\n",
    "\n",
    "km_east = bikeroutes.features.geometry.coordinates[..., 0] * 82.7\n",
    "km_north = bikeroutes.features.geometry.coordinates[..., 1] * 111.1\n",
    "\n",
    "segment_length = np.sqrt((km_east[:, :, 1:] - km_east[:, :, :-1])**2 +\n",
    "                         (km_north[:, :, 1:] - km_north[:, :, :-1])**2)\n",
    "\n",
    "route_length = np.sum(segment_length, axis=-1)\n",
    "total_length = np.sum(route_length, axis=-1)"
   ]
  },
  {
   "cell_type": "markdown",
   "metadata": {},
   "source": [
    "In the limit, it's a factor of 8 faster. This isn't even _great_ scaling; other examples could easily reach a factor of 100. The point is that we're in the \n",
    "\n",
    "![](img/bikeroutes-scaling.png)"
   ]
  },
  {
   "cell_type": "code",
   "execution_count": null,
   "metadata": {},
   "outputs": [],
   "source": []
  },
  {
   "cell_type": "code",
   "execution_count": null,
   "metadata": {},
   "outputs": [],
   "source": []
  },
  {
   "cell_type": "code",
   "execution_count": null,
   "metadata": {},
   "outputs": [],
   "source": []
  },
  {
   "cell_type": "code",
   "execution_count": null,
   "metadata": {},
   "outputs": [],
   "source": []
  },
  {
   "cell_type": "code",
   "execution_count": null,
   "metadata": {},
   "outputs": [],
   "source": []
  },
  {
   "cell_type": "code",
   "execution_count": null,
   "metadata": {},
   "outputs": [],
   "source": []
  },
  {
   "cell_type": "code",
   "execution_count": null,
   "metadata": {},
   "outputs": [],
   "source": []
  },
  {
   "cell_type": "code",
   "execution_count": null,
   "metadata": {},
   "outputs": [],
   "source": []
  },
  {
   "cell_type": "markdown",
   "metadata": {},
   "source": [
    "The way that the data has been split up into arrays is contained in its `form`. Unless you're developing software on Awkward Array, you probably don't need to know about an array's form."
   ]
  },
  {
   "cell_type": "code",
   "execution_count": 35,
   "metadata": {},
   "outputs": [
    {
     "data": {
      "text/plain": [
       "{\n",
       "    \"class\": \"RecordArray\",\n",
       "    \"contents\": {\n",
       "        \"type\": {\n",
       "            \"class\": \"ListArray64\",\n",
       "            \"starts\": \"i64\",\n",
       "            \"stops\": \"i64\",\n",
       "            \"content\": \"uint8\",\n",
       "            \"parameters\": {\n",
       "                \"__array__\": \"string\"\n",
       "            }\n",
       "        },\n",
       "        \"crs\": {\n",
       "            \"class\": \"RecordArray\",\n",
       "            \"contents\": {\n",
       "                \"type\": {\n",
       "                    \"class\": \"ListArray64\",\n",
       "                    \"starts\": \"i64\",\n",
       "                    \"stops\": \"i64\",\n",
       "                    \"content\": \"uint8\",\n",
       "                    \"parameters\": {\n",
       "                        \"__array__\": \"string\"\n",
       "                    }\n",
       "                },\n",
       "                \"properties\": {\n",
       "                    \"class\": \"RecordArray\",\n",
       "                    \"contents\": {\n",
       "                        \"name\": {\n",
       "                            \"class\": \"ListArray64\",\n",
       "                            \"starts\": \"i64\",\n",
       "                            \"stops\": \"i64\",\n",
       "                            \"content\": \"uint8\",\n",
       "                            \"parameters\": {\n",
       "                                \"__array__\": \"string\"\n",
       "                            }\n",
       "                        }\n",
       "                    }\n",
       "                }\n",
       "            }\n",
       "        },\n",
       "        \"features\": {\n",
       "            \"class\": \"RecordArray\",\n",
       "            \"contents\": {\n",
       "                \"type\": {\n",
       "                    \"class\": \"ListOffsetArray64\",\n",
       "                    \"offsets\": \"i64\",\n",
       "                    \"content\": \"uint8\",\n",
       "                    \"parameters\": {\n",
       "                        \"__array__\": \"string\"\n",
       "                    }\n",
       "                },\n",
       "                \"properties\": {\n",
       "                    \"class\": \"RecordArray\",\n",
       "                    \"contents\": {\n",
       "                        \"STREET\": {\n",
       "                            \"class\": \"ListOffsetArray64\",\n",
       "                            \"offsets\": \"i64\",\n",
       "                            \"content\": \"uint8\",\n",
       "                            \"parameters\": {\n",
       "                                \"__array__\": \"string\"\n",
       "                            }\n",
       "                        },\n",
       "                        \"TYPE\": {\n",
       "                            \"class\": \"ListOffsetArray64\",\n",
       "                            \"offsets\": \"i64\",\n",
       "                            \"content\": \"uint8\",\n",
       "                            \"parameters\": {\n",
       "                                \"__array__\": \"string\"\n",
       "                            }\n",
       "                        },\n",
       "                        \"BIKEROUTE\": {\n",
       "                            \"class\": \"ListOffsetArray64\",\n",
       "                            \"offsets\": \"i64\",\n",
       "                            \"content\": \"uint8\",\n",
       "                            \"parameters\": {\n",
       "                                \"__array__\": \"string\"\n",
       "                            }\n",
       "                        },\n",
       "                        \"F_STREET\": {\n",
       "                            \"class\": \"ListOffsetArray64\",\n",
       "                            \"offsets\": \"i64\",\n",
       "                            \"content\": \"uint8\",\n",
       "                            \"parameters\": {\n",
       "                                \"__array__\": \"string\"\n",
       "                            }\n",
       "                        },\n",
       "                        \"T_STREET\": {\n",
       "                            \"class\": \"IndexedOptionArray64\",\n",
       "                            \"index\": \"i64\",\n",
       "                            \"content\": {\n",
       "                                \"class\": \"ListOffsetArray64\",\n",
       "                                \"offsets\": \"i64\",\n",
       "                                \"content\": \"uint8\",\n",
       "                                \"parameters\": {\n",
       "                                    \"__array__\": \"string\"\n",
       "                                }\n",
       "                            }\n",
       "                        }\n",
       "                    }\n",
       "                },\n",
       "                \"geometry\": {\n",
       "                    \"class\": \"RecordArray\",\n",
       "                    \"contents\": {\n",
       "                        \"type\": {\n",
       "                            \"class\": \"ListOffsetArray64\",\n",
       "                            \"offsets\": \"i64\",\n",
       "                            \"content\": \"uint8\",\n",
       "                            \"parameters\": {\n",
       "                                \"__array__\": \"string\"\n",
       "                            }\n",
       "                        },\n",
       "                        \"coordinates\": {\n",
       "                            \"class\": \"ListOffsetArray64\",\n",
       "                            \"offsets\": \"i64\",\n",
       "                            \"content\": {\n",
       "                                \"class\": \"ListOffsetArray64\",\n",
       "                                \"offsets\": \"i64\",\n",
       "                                \"content\": {\n",
       "                                    \"class\": \"ListOffsetArray64\",\n",
       "                                    \"offsets\": \"i64\",\n",
       "                                    \"content\": \"float64\"\n",
       "                                }\n",
       "                            }\n",
       "                        }\n",
       "                    }\n",
       "                },\n",
       "                \"route_length\": \"float64\"\n",
       "            }\n",
       "        }\n",
       "    }\n",
       "}"
      ]
     },
     "execution_count": 35,
     "metadata": {},
     "output_type": "execute_result"
    }
   ],
   "source": [
    "bikeroutes.layout.form"
   ]
  },
  {
   "cell_type": "markdown",
   "metadata": {},
   "source": [
    "In general, any data structure can be built from nested nodes that each point to an array.\n",
    "\n",
    "The key thing is that the number of nodes scales with the data complexity (5 in the example below, 32 for the bike routes), not with data volume.\n",
    "\n",
    "![](img/example-hierarchy.png)"
   ]
  },
  {
   "cell_type": "markdown",
   "metadata": {},
   "source": [
    "The CMS example that we'll be using for most of this tutorial has 17 layout nodes in its form but a million events.\n",
    "\n",
    "\"Bookkeeping\" code that needs to iterate over slow, dynamically typed nodes iterates over 17 objects. Fast, precompiled, vectorized code runs over the million."
   ]
  },
  {
   "cell_type": "code",
   "execution_count": null,
   "metadata": {},
   "outputs": [],
   "source": [
    "import uproot\n",
    "cms_dict = uproot.open(\"data/cms_opendata_2012_nanoaod_DoubleMuParked.root\")[\"Events\"].arrays()\n",
    "\n",
    "cms_events = ak.zip({\n",
    "    \"run\": ak.from_awkward0(cms_dict[b\"run\"]),\n",
    "    \"luminosityBlock\": ak.from_awkward0(cms_dict[b\"luminosityBlock\"]),\n",
    "    \"event\": ak.from_awkward0(cms_dict[b\"event\"]),\n",
    "    \"PV\": ak.zip({\n",
    "        \"x\": ak.from_awkward0(cms_dict[b\"PV_x\"]),\n",
    "        \"y\": ak.from_awkward0(cms_dict[b\"PV_y\"]),\n",
    "        \"z\": ak.from_awkward0(cms_dict[b\"PV_z\"])\n",
    "    }),\n",
    "    \"muons\": ak.zip({\n",
    "        \"pt\": ak.from_awkward0(cms_dict[b\"Muon_pt\"]),\n",
    "        \"eta\": ak.from_awkward0(cms_dict[b\"Muon_eta\"]),\n",
    "        \"phi\": ak.from_awkward0(cms_dict[b\"Muon_phi\"]),\n",
    "        \"pt\": ak.from_awkward0(cms_dict[b\"Muon_pt\"]),\n",
    "        \"mass\": ak.from_awkward0(cms_dict[b\"Muon_mass\"]),\n",
    "        \"charge\": ak.from_awkward0(cms_dict[b\"Muon_charge\"]),\n",
    "        \"pfRelIso04_all\": ak.from_awkward0(cms_dict[b\"Muon_pfRelIso04_all\"]),\n",
    "        \"tightId\": ak.from_awkward0(cms_dict[b\"Muon_tightId\"])\n",
    "    })\n",
    "}, depth_limit=1)\n",
    "\n",
    "cms_events"
   ]
  },
  {
   "cell_type": "code",
   "execution_count": null,
   "metadata": {},
   "outputs": [],
   "source": [
    "ak.type(cms_events)"
   ]
  },
  {
   "cell_type": "code",
   "execution_count": null,
   "metadata": {},
   "outputs": [],
   "source": [
    "cms_events.layout.form"
   ]
  },
  {
   "cell_type": "code",
   "execution_count": null,
   "metadata": {},
   "outputs": [],
   "source": [
    "len(cms_events)"
   ]
  },
  {
   "cell_type": "code",
   "execution_count": null,
   "metadata": {},
   "outputs": [],
   "source": []
  }
 ],
 "metadata": {
  "kernelspec": {
   "display_name": "Python 3",
   "language": "python",
   "name": "python3"
  },
  "language_info": {
   "codemirror_mode": {
    "name": "ipython",
    "version": 3
   },
   "file_extension": ".py",
   "mimetype": "text/x-python",
   "name": "python",
   "nbconvert_exporter": "python",
   "pygments_lexer": "ipython3",
   "version": "3.7.6"
  }
 },
 "nbformat": 4,
 "nbformat_minor": 4
}
