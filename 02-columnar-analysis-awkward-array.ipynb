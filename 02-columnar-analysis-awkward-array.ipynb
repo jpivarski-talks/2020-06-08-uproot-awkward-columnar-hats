{
 "cells": [
  {
   "cell_type": "markdown",
   "metadata": {},
   "source": [
    "# Columnar analysis with Awkward Array"
   ]
  },
  {
   "cell_type": "markdown",
   "metadata": {},
   "source": [
    "## How this works as a hands-on tutorial\n",
    "\n",
    "Even though I don't have formal exercises scattered throughout these notebooks, this session can still be interactive.\n",
    "\n",
    "   * **You** should open each notebook in Binder (see [GitHub README](https://github.com/jpivarski/2020-06-08-uproot-awkward-columnar-hats)) and evaluate cells, following along with me.\n",
    "   * **I** should pause frequently and stay open to questions. I'll be monitoring the videoconference chat.\n",
    "   * **We** should feel free to step off the path and try to answer \"What if?\" questions in real time.\n",
    "\n",
    "Not all digressions will lead to an answer—I often realize, \"That's why it didn't work!\" long after the tutorial is over—but tinkering is how we learn.\n",
    "\n",
    "Consider this a tour and I'm your guide. The planned route is a suggestion to get things started, but your questions are more important.\n",
    "\n",
    "(Also, I'm awful at writing formal exercises; they end up being too easy _and_ too hard.)\n",
    "\n",
    "<br><br><br>"
   ]
  },
  {
   "cell_type": "markdown",
   "metadata": {},
   "source": [
    "## Array-based programming\n",
    "\n",
    "One of the first programming languages, named **APL** (\"A Programming Language\") was array-based. It started as a notation for _describing_ hand-written machine code and was later made interactive.\n",
    "\n",
    "**Nial** was also theoretically motivated, and the two of these inspired a generation of direct descendants (green).\n",
    "\n",
    "Meanwhile, the **S** language for statistics borrowed many of these ideas while being focused on a particular domain. Its descendent, **R**, is still widely used.\n",
    "\n",
    "**IDL** was invented for the sciences and gained a lot of traction as an alternative to writing custom Fortran, again using vectorization as a first-class concept.\n",
    "\n",
    "**MATLAB** was similarly gained traction in the sciences as a commercial product.\n",
    "\n",
    "**PDL** (Perl Data Language) and **NumPy** introduced the same concepts as libraries within an established language (Perl and Python). **Julia** has some vector-like interfaces, though its focus is on just-in-time compiling imperative code."
   ]
  },
  {
   "cell_type": "markdown",
   "metadata": {},
   "source": [
    "![](img/apl-timeline.png)\n",
    "\n",
    "<br><br><br>"
   ]
  },
  {
   "cell_type": "markdown",
   "metadata": {},
   "source": [
    "Common features of array-based languages:\n",
    "\n",
    "   * Arrays are the central data type with most operations applying to arrays. (By contrast, C requires explicit iteration over the arrays: it's imperative.)\n",
    "   * They are _all_ interactive languages. The array-at-a-time logic makes it possible to define precompiled routines that run in response to user commands.\n",
    "   * They are primarily data analysis languages, highly targeted to the sciences and statistics.\n",
    "\n",
    "In retrospect, it sounds like a perfect fit.\n",
    "\n",
    "<br><br><br>"
   ]
  },
  {
   "cell_type": "markdown",
   "metadata": {},
   "source": [
    "In this plot of the \"astronomical\" rise of Python, note that 2 of the 3 languages it's displacing are array languages.\n",
    "\n",
    "![](img/mentions-of-programming-languages.png)\n",
    "\n",
    "<br><br><br>"
   ]
  },
  {
   "cell_type": "markdown",
   "metadata": {},
   "source": [
    "## Why not for particle physics?\n",
    "\n",
    "Because **data structures**. Particle physicists have _always_ needed to deal with complex data structures, so much so that we invented packages to add them to Fortran.\n",
    "\n",
    "The following is from [_Initiation to HYDRA_ by R.K. Böck (1976)](https://cds.cern.ch/record/864527?ln=en) as part of an explanation of what a \"data structure\" is, at a time before Fortran had `FOR` loops. (HYDRA was merged into ZEBRA, which became the basis for ROOT I/O.)\n",
    "\n",
    "We would draw similar diagrams today.\n",
    "\n",
    "![](img/hydra-2.png)\n",
    "\n",
    "<br><br><br>"
   ]
  },
  {
   "cell_type": "markdown",
   "metadata": {},
   "source": [
    "But the modify-compile-rerun cycle of C++ is too long for interactive data analysis. That's why ROOT invented CINT and then Cling.\n",
    "\n",
    "But C++ is too complex of a language for data-focused tasks. That's why I was thinking a lot about [extending query languages (like SQL) to data structures](https://stackoverflow.com/questions/38831961/what-declarative-language-is-good-at-analysis-of-tree-like-data).\n",
    "\n",
    "But I was surprised by how useful the simple JaggedArray class in Uproot turned out to be. My conclusion was that you don't need a new language, just some data types and operations.\n",
    "\n",
    "![](img/uproot-awkward-timeline.png)\n",
    "\n",
    "<br><br><br>"
   ]
  },
  {
   "cell_type": "markdown",
   "metadata": {},
   "source": [
    "<font size=\"15\">That's what </font><img src=\"img/awkward-logo-300px.png\" style=\"vertical-align:middle\"><font size=\"15\"> is.</font>\n",
    "\n",
    "\n",
    "Just arrays, but with awkward shapes.\n",
    "\n",
    "![](img/cartoon-schematic.png)\n",
    "\n",
    "<br><br><br>"
   ]
  },
  {
   "cell_type": "markdown",
   "metadata": {},
   "source": [
    "## Let's start with a non-physics example\n",
    "\n",
    "Chicago bike paths [as a GeoJSON file](https://github.com/Chicago/osd-bike-routes/blob/master/data/Bikeroutes.geojson)."
   ]
  },
  {
   "cell_type": "code",
   "execution_count": 8,
   "metadata": {},
   "outputs": [
    {
     "name": "stdout",
     "output_type": "stream",
     "text": [
      "{\n",
      "\"type\": \"FeatureCollection\",\n",
      "\"crs\": { \"type\": \"name\", \"properties\": { \"name\": \"urn:ogc:def:crs:OGC:1.3:CRS84\" } },\n",
      "                                                                                \n",
      "\"features\": [\n",
      "{ \"type\": \"Feature\", \"properties\": { \"STREET\": \"W FULLERTON AVE\", \"TYPE\": \"4\", \"BIKEROUTE\": \"RECOMMENDED BIKE ROUTE\", \"F_STREET\": \"W GRAND AVE\", \"T_STREET\": \"W GRAND AVE\" }, \"geometry\": { \"type\": \"MultiLineString\", \"coordinates\": [ [ [ -87.788572682391163, 41.923652047961923 ], [ -87.788645591836797, 41.923651405921802 ], [ -87.788844988373143, 41.923649881816345 ], [ -87.788950897155686, 41.923649066751238 ], [ -87.789091716222416, 41.923648060311677 ], [ -87.789279058225759, 41.923646752738705 ], [ -87.789396101278086, 41.923645907691565 ], [ -87.789781787237345, 41.923641532135363 ], [ -87.789851574317836, 41.923640764779442 ], [ -87.78989703352525, 41.923640238994977 ], [ -87.790052557345319, 41.923638477701097 ], [ -87.790253898265888, 41.92363731709856 ], [ -87.7903925124\n"
     ]
    }
   ],
   "source": [
    "import json\n",
    "\n",
    "bikeroutes_json = open(\"data/Bikeroutes.geojson\").read()\n",
    "bikeroutes_pyobj = json.loads(bikeroutes_json)\n",
    "\n",
    "print(bikeroutes_json[:1000])"
   ]
  },
  {
   "cell_type": "markdown",
   "metadata": {},
   "source": [
    "It has a lot of structure—metadata and street names mixed in with the longitude, latitude points. But we can read it in as arrays."
   ]
  },
  {
   "cell_type": "code",
   "execution_count": 9,
   "metadata": {},
   "outputs": [
    {
     "data": {
      "text/plain": [
       "<Record ... [-87.7, 42], [-87.7, 42]]]}}]} type='{\"type\": string, \"crs\": {\"type\"...'>"
      ]
     },
     "execution_count": 9,
     "metadata": {},
     "output_type": "execute_result"
    }
   ],
   "source": [
    "import awkward1 as ak\n",
    "\n",
    "bikeroutes = ak.Record(bikeroutes_pyobj)\n",
    "bikeroutes"
   ]
  },
  {
   "cell_type": "markdown",
   "metadata": {},
   "source": [
    "The analysis-relevant information about the data's structure is contained in its `type`."
   ]
  },
  {
   "cell_type": "code",
   "execution_count": 10,
   "metadata": {},
   "outputs": [
    {
     "data": {
      "text/plain": [
       "{\"type\": string, \"crs\": {\"type\": string, \"properties\": {\"name\": string}}, \"features\": var * {\"type\": string, \"properties\": {\"STREET\": string, \"TYPE\": string, \"BIKEROUTE\": string, \"F_STREET\": string, \"T_STREET\": option[string]}, \"geometry\": {\"type\": string, \"coordinates\": var * var * var * float64}}}"
      ]
     },
     "execution_count": 10,
     "metadata": {},
     "output_type": "execute_result"
    }
   ],
   "source": [
    "ak.type(bikeroutes)"
   ]
  },
  {
   "cell_type": "markdown",
   "metadata": {},
   "source": [
    "Everything is a `string` or an `option[string]` (i.e. can be `null`) except the coordinates, which are `var * var * var * float64` (triply jagged array)."
   ]
  },
  {
   "cell_type": "code",
   "execution_count": null,
   "metadata": {},
   "outputs": [],
   "source": []
  },
  {
   "cell_type": "code",
   "execution_count": null,
   "metadata": {},
   "outputs": [],
   "source": []
  },
  {
   "cell_type": "code",
   "execution_count": null,
   "metadata": {},
   "outputs": [],
   "source": []
  },
  {
   "cell_type": "code",
   "execution_count": null,
   "metadata": {},
   "outputs": [],
   "source": []
  },
  {
   "cell_type": "code",
   "execution_count": null,
   "metadata": {},
   "outputs": [],
   "source": []
  },
  {
   "cell_type": "code",
   "execution_count": null,
   "metadata": {},
   "outputs": [],
   "source": []
  },
  {
   "cell_type": "code",
   "execution_count": null,
   "metadata": {},
   "outputs": [],
   "source": []
  },
  {
   "cell_type": "code",
   "execution_count": null,
   "metadata": {},
   "outputs": [],
   "source": []
  },
  {
   "cell_type": "code",
   "execution_count": null,
   "metadata": {},
   "outputs": [],
   "source": []
  },
  {
   "cell_type": "code",
   "execution_count": null,
   "metadata": {},
   "outputs": [],
   "source": []
  },
  {
   "cell_type": "code",
   "execution_count": null,
   "metadata": {},
   "outputs": [],
   "source": []
  },
  {
   "cell_type": "code",
   "execution_count": null,
   "metadata": {},
   "outputs": [],
   "source": []
  },
  {
   "cell_type": "code",
   "execution_count": null,
   "metadata": {},
   "outputs": [],
   "source": []
  },
  {
   "cell_type": "markdown",
   "metadata": {},
   "source": [
    "The way that the data has been split up into arrays is contained in its `form`. Unless you're developing software on Awkward Array, you probably don't need to know about an array's form."
   ]
  },
  {
   "cell_type": "code",
   "execution_count": 12,
   "metadata": {},
   "outputs": [
    {
     "data": {
      "text/plain": [
       "{\n",
       "    \"class\": \"RecordArray\",\n",
       "    \"contents\": {\n",
       "        \"type\": {\n",
       "            \"class\": \"ListOffsetArray64\",\n",
       "            \"offsets\": \"i64\",\n",
       "            \"content\": \"uint8\",\n",
       "            \"parameters\": {\n",
       "                \"__array__\": \"string\"\n",
       "            }\n",
       "        },\n",
       "        \"crs\": {\n",
       "            \"class\": \"RecordArray\",\n",
       "            \"contents\": {\n",
       "                \"type\": {\n",
       "                    \"class\": \"ListOffsetArray64\",\n",
       "                    \"offsets\": \"i64\",\n",
       "                    \"content\": \"uint8\",\n",
       "                    \"parameters\": {\n",
       "                        \"__array__\": \"string\"\n",
       "                    }\n",
       "                },\n",
       "                \"properties\": {\n",
       "                    \"class\": \"RecordArray\",\n",
       "                    \"contents\": {\n",
       "                        \"name\": {\n",
       "                            \"class\": \"ListOffsetArray64\",\n",
       "                            \"offsets\": \"i64\",\n",
       "                            \"content\": \"uint8\",\n",
       "                            \"parameters\": {\n",
       "                                \"__array__\": \"string\"\n",
       "                            }\n",
       "                        }\n",
       "                    }\n",
       "                }\n",
       "            }\n",
       "        },\n",
       "        \"features\": {\n",
       "            \"class\": \"ListOffsetArray64\",\n",
       "            \"offsets\": \"i64\",\n",
       "            \"content\": {\n",
       "                \"class\": \"RecordArray\",\n",
       "                \"contents\": {\n",
       "                    \"type\": {\n",
       "                        \"class\": \"ListOffsetArray64\",\n",
       "                        \"offsets\": \"i64\",\n",
       "                        \"content\": \"uint8\",\n",
       "                        \"parameters\": {\n",
       "                            \"__array__\": \"string\"\n",
       "                        }\n",
       "                    },\n",
       "                    \"properties\": {\n",
       "                        \"class\": \"RecordArray\",\n",
       "                        \"contents\": {\n",
       "                            \"STREET\": {\n",
       "                                \"class\": \"ListOffsetArray64\",\n",
       "                                \"offsets\": \"i64\",\n",
       "                                \"content\": \"uint8\",\n",
       "                                \"parameters\": {\n",
       "                                    \"__array__\": \"string\"\n",
       "                                }\n",
       "                            },\n",
       "                            \"TYPE\": {\n",
       "                                \"class\": \"ListOffsetArray64\",\n",
       "                                \"offsets\": \"i64\",\n",
       "                                \"content\": \"uint8\",\n",
       "                                \"parameters\": {\n",
       "                                    \"__array__\": \"string\"\n",
       "                                }\n",
       "                            },\n",
       "                            \"BIKEROUTE\": {\n",
       "                                \"class\": \"ListOffsetArray64\",\n",
       "                                \"offsets\": \"i64\",\n",
       "                                \"content\": \"uint8\",\n",
       "                                \"parameters\": {\n",
       "                                    \"__array__\": \"string\"\n",
       "                                }\n",
       "                            },\n",
       "                            \"F_STREET\": {\n",
       "                                \"class\": \"ListOffsetArray64\",\n",
       "                                \"offsets\": \"i64\",\n",
       "                                \"content\": \"uint8\",\n",
       "                                \"parameters\": {\n",
       "                                    \"__array__\": \"string\"\n",
       "                                }\n",
       "                            },\n",
       "                            \"T_STREET\": {\n",
       "                                \"class\": \"IndexedOptionArray64\",\n",
       "                                \"index\": \"i64\",\n",
       "                                \"content\": {\n",
       "                                    \"class\": \"ListOffsetArray64\",\n",
       "                                    \"offsets\": \"i64\",\n",
       "                                    \"content\": \"uint8\",\n",
       "                                    \"parameters\": {\n",
       "                                        \"__array__\": \"string\"\n",
       "                                    }\n",
       "                                }\n",
       "                            }\n",
       "                        }\n",
       "                    },\n",
       "                    \"geometry\": {\n",
       "                        \"class\": \"RecordArray\",\n",
       "                        \"contents\": {\n",
       "                            \"type\": {\n",
       "                                \"class\": \"ListOffsetArray64\",\n",
       "                                \"offsets\": \"i64\",\n",
       "                                \"content\": \"uint8\",\n",
       "                                \"parameters\": {\n",
       "                                    \"__array__\": \"string\"\n",
       "                                }\n",
       "                            },\n",
       "                            \"coordinates\": {\n",
       "                                \"class\": \"ListOffsetArray64\",\n",
       "                                \"offsets\": \"i64\",\n",
       "                                \"content\": {\n",
       "                                    \"class\": \"ListOffsetArray64\",\n",
       "                                    \"offsets\": \"i64\",\n",
       "                                    \"content\": {\n",
       "                                        \"class\": \"ListOffsetArray64\",\n",
       "                                        \"offsets\": \"i64\",\n",
       "                                        \"content\": \"float64\"\n",
       "                                    }\n",
       "                                }\n",
       "                            }\n",
       "                        }\n",
       "                    }\n",
       "                }\n",
       "            }\n",
       "        }\n",
       "    }\n",
       "}"
      ]
     },
     "execution_count": 12,
     "metadata": {},
     "output_type": "execute_result"
    }
   ],
   "source": [
    "bikeroutes.layout.array.form"
   ]
  },
  {
   "cell_type": "markdown",
   "metadata": {},
   "source": [
    "In general, any data structure can be built from nested nodes that each point to an array.\n",
    "\n",
    "The key thing is that the number of nodes scales with the data complexity (5 in the example below, 32 for the bike routes), not with data volume.\n",
    "\n",
    "![](img/example-hierarchy.png)"
   ]
  },
  {
   "cell_type": "markdown",
   "metadata": {},
   "source": [
    "The CMS example that we'll be using for most of this tutorial has 17 layout nodes in its form but a million events.\n",
    "\n",
    "\"Bookkeeping\" code that needs to iterate over slow, dynamically typed nodes iterates over 17 objects. Fast, precompiled, vectorized code runs over the million."
   ]
  },
  {
   "cell_type": "code",
   "execution_count": 16,
   "metadata": {},
   "outputs": [
    {
     "data": {
      "text/plain": [
       "<Array [{run: 194778, ... ] type='1000000 * {\"run\": int32, \"luminosityBlock\": ui...'>"
      ]
     },
     "execution_count": 16,
     "metadata": {},
     "output_type": "execute_result"
    }
   ],
   "source": [
    "import uproot\n",
    "cms_dict = uproot.open(\"data/cms_opendata_2012_nanoaod_DoubleMuParked.root\")[\"Events\"].arrays()\n",
    "\n",
    "cms_events = ak.zip({\n",
    "    \"run\": ak.from_awkward0(cms_dict[b\"run\"]),\n",
    "    \"luminosityBlock\": ak.from_awkward0(cms_dict[b\"luminosityBlock\"]),\n",
    "    \"event\": ak.from_awkward0(cms_dict[b\"event\"]),\n",
    "    \"PV\": ak.zip({\n",
    "        \"x\": ak.from_awkward0(cms_dict[b\"PV_x\"]),\n",
    "        \"y\": ak.from_awkward0(cms_dict[b\"PV_y\"]),\n",
    "        \"z\": ak.from_awkward0(cms_dict[b\"PV_z\"])\n",
    "    }),\n",
    "    \"muons\": ak.zip({\n",
    "        \"pt\": ak.from_awkward0(cms_dict[b\"Muon_pt\"]),\n",
    "        \"eta\": ak.from_awkward0(cms_dict[b\"Muon_eta\"]),\n",
    "        \"phi\": ak.from_awkward0(cms_dict[b\"Muon_phi\"]),\n",
    "        \"pt\": ak.from_awkward0(cms_dict[b\"Muon_pt\"]),\n",
    "        \"mass\": ak.from_awkward0(cms_dict[b\"Muon_mass\"]),\n",
    "        \"charge\": ak.from_awkward0(cms_dict[b\"Muon_charge\"]),\n",
    "        \"pfRelIso04_all\": ak.from_awkward0(cms_dict[b\"Muon_pfRelIso04_all\"]),\n",
    "        \"tightId\": ak.from_awkward0(cms_dict[b\"Muon_tightId\"])\n",
    "    })\n",
    "}, depth_limit=1)\n",
    "\n",
    "cms_events"
   ]
  },
  {
   "cell_type": "code",
   "execution_count": 17,
   "metadata": {},
   "outputs": [
    {
     "data": {
      "text/plain": [
       "1000000 * {\"run\": int32, \"luminosityBlock\": uint32, \"event\": uint64, \"PV\": {\"x\": float32, \"y\": float32, \"z\": float32}, \"muons\": var * {\"pt\": float32, \"eta\": float32, \"phi\": float32, \"mass\": float32, \"charge\": int32, \"pfRelIso04_all\": float32, \"tightId\": bool}}"
      ]
     },
     "execution_count": 17,
     "metadata": {},
     "output_type": "execute_result"
    }
   ],
   "source": [
    "ak.type(cms_events)"
   ]
  },
  {
   "cell_type": "code",
   "execution_count": 18,
   "metadata": {},
   "outputs": [
    {
     "data": {
      "text/plain": [
       "{\n",
       "    \"class\": \"RecordArray\",\n",
       "    \"contents\": {\n",
       "        \"run\": \"int32\",\n",
       "        \"luminosityBlock\": \"uint32\",\n",
       "        \"event\": \"uint64\",\n",
       "        \"PV\": {\n",
       "            \"class\": \"RecordArray\",\n",
       "            \"contents\": {\n",
       "                \"x\": \"float32\",\n",
       "                \"y\": \"float32\",\n",
       "                \"z\": \"float32\"\n",
       "            }\n",
       "        },\n",
       "        \"muons\": {\n",
       "            \"class\": \"ListOffsetArray64\",\n",
       "            \"offsets\": \"i64\",\n",
       "            \"content\": {\n",
       "                \"class\": \"RecordArray\",\n",
       "                \"contents\": {\n",
       "                    \"pt\": \"float32\",\n",
       "                    \"eta\": \"float32\",\n",
       "                    \"phi\": \"float32\",\n",
       "                    \"mass\": \"float32\",\n",
       "                    \"charge\": \"int32\",\n",
       "                    \"pfRelIso04_all\": \"float32\",\n",
       "                    \"tightId\": \"bool\"\n",
       "                }\n",
       "            }\n",
       "        }\n",
       "    }\n",
       "}"
      ]
     },
     "execution_count": 18,
     "metadata": {},
     "output_type": "execute_result"
    }
   ],
   "source": [
    "cms_events.layout.form"
   ]
  },
  {
   "cell_type": "code",
   "execution_count": 19,
   "metadata": {},
   "outputs": [
    {
     "data": {
      "text/plain": [
       "1000000"
      ]
     },
     "execution_count": 19,
     "metadata": {},
     "output_type": "execute_result"
    }
   ],
   "source": [
    "len(cms_events)"
   ]
  },
  {
   "cell_type": "code",
   "execution_count": null,
   "metadata": {},
   "outputs": [],
   "source": []
  }
 ],
 "metadata": {
  "kernelspec": {
   "display_name": "Python 3",
   "language": "python",
   "name": "python3"
  },
  "language_info": {
   "codemirror_mode": {
    "name": "ipython",
    "version": 3
   },
   "file_extension": ".py",
   "mimetype": "text/x-python",
   "name": "python",
   "nbconvert_exporter": "python",
   "pygments_lexer": "ipython3",
   "version": "3.7.6"
  }
 },
 "nbformat": 4,
 "nbformat_minor": 4
}
