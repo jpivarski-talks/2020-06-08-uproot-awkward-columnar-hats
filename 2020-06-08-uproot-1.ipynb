{
 "cells": [
  {
   "cell_type": "markdown",
   "metadata": {},
   "source": [
    "# Using Uproot effectively"
   ]
  },
  {
   "cell_type": "markdown",
   "metadata": {},
   "source": [
    "## Increasingly unnecessary introduction to/motivation for Python\n",
    "\n",
    "I used to start these tutorials by asking, \"Why Python?\" but that doesn't seem necessary anymore.\n",
    "\n",
    "![](img/python-usage.png)"
   ]
  },
  {
   "cell_type": "markdown",
   "metadata": {},
   "source": [
    "## What is Uproot?\n",
    "\n",
    "![](img/abstraction-layers.png)"
   ]
  },
  {
   "cell_type": "markdown",
   "metadata": {},
   "source": [
    "Uproot is an independent implementation of ROOT I/O and only I/O, using standard Python libraries wherever possible."
   ]
  },
  {
   "cell_type": "markdown",
   "metadata": {},
   "source": [
    "## Why was it made?\n",
    "\n",
    "![](img/uproot-awkward-timeline.png)"
   ]
  },
  {
   "cell_type": "markdown",
   "metadata": {},
   "source": [
    "Uproot was originally a part of Femtocode, a somewhat monolithic environment for columnar analysis.\n",
    "\n",
    "   * **Uproot 1.x** was released as a Python package \"in case anyone finds it useful.\"\n",
    "   * Machine learning users did find it useful, so I quickly cleaned it up and made it presentable as **Uproot 2.x**.\n",
    "   * The way people were using Uproot influenced how I thought about columnar analysis: breaking it out into smaller pieces and eventually the exposing array-at-a-time interface to users, rather than hiding the columnar processing behind a query language.\n",
    "   * Uproot's \"bottom up\" JaggedArrays were moved into a new package, **Awkward Array**, replacing the \"top down\" view of OAMap. This was **Uproot 3.x**.\n",
    "   * Awkward Array is successful even though it has interface flaws and its pure Python \"no for loops!\" implementation is hard to maintain.\n",
    "   * **Awkward 1.x** started last fall with a long development time to \"do it right.\" It is complete, but not very visible because Uproot doesn't produce the new-style arrays yet.\n",
    "   * **Uproot 4.x** started development in May with a release date of July 1.\n",
    "\n",
    "Unlike previous version updates (which were more minor), Uproot 3.x and Awkward 0.x will continue to exist as `uproot3` and `awkward0`.\n",
    "\n",
    "Sometime this summer, `uproot4` → `uproot` and `awkward1` → `awkward`. If you need to keep old scripts working, you'll be able to\n",
    "\n",
    "```python\n",
    "import uproot3 as uproot\n",
    "import awkward0 as awkward\n",
    "```\n",
    "\n",
    "but new work should use the new libraries. (The old ones will continue to exist, but won't be actively maintained.)\n",
    "\n",
    "![](img/Raiders-of-the-Lost-Ark-Chamber.jpg)"
   ]
  }
 ],
 "metadata": {
  "kernelspec": {
   "display_name": "Python 3",
   "language": "python",
   "name": "python3"
  },
  "language_info": {
   "codemirror_mode": {
    "name": "ipython",
    "version": 3
   },
   "file_extension": ".py",
   "mimetype": "text/x-python",
   "name": "python",
   "nbconvert_exporter": "python",
   "pygments_lexer": "ipython3",
   "version": "3.7.6"
  }
 },
 "nbformat": 4,
 "nbformat_minor": 4
}
