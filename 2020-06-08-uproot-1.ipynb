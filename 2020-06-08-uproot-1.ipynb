{
 "cells": [
  {
   "cell_type": "markdown",
   "metadata": {},
   "source": [
    "# Using Uproot effectively"
   ]
  },
  {
   "cell_type": "markdown",
   "metadata": {},
   "source": [
    "## Increasingly unnecessary introduction to/motivation for Python\n",
    "\n",
    "I used to start these tutorials by asking, \"Why Python?\" but that doesn't seem necessary anymore.\n",
    "\n",
    "![](img/python-usage.png)"
   ]
  },
  {
   "cell_type": "markdown",
   "metadata": {},
   "source": [
    "## What is Uproot?\n",
    "\n",
    "![](img/abstraction-layers.png)\n",
    "\n",
    "Uproot is an independent implementation of ROOT I/O and only I/O, using standard Python libraries wherever possible."
   ]
  },
  {
   "cell_type": "markdown",
   "metadata": {},
   "source": [
    "It is widely used:\n",
    "\n",
    "![](img/awkward-0-popularity.png)"
   ]
  },
  {
   "cell_type": "markdown",
   "metadata": {},
   "source": [
    "## Why was Uproot written?\n",
    "\n",
    "![](img/uproot-awkward-timeline.png)"
   ]
  },
  {
   "cell_type": "markdown",
   "metadata": {},
   "source": [
    "Uproot was originally a part of Femtocode, a query language for calculations on columnar data. I needed an easier way to deploy ROOT I/O.\n",
    "\n",
    "   * **Uproot 1.x** was released as a Python package \"in case anyone finds it useful.\"\n",
    "   * Machine learning users did find it useful, so I quickly cleaned it up and made it presentable as **Uproot 2.x**.\n",
    "   * The way people were using Uproot influenced how I thought about columnar analysis: breaking it out into smaller pieces and eventually the exposing array-at-a-time interface to users, rather than hiding the columnar processing behind a query language.\n",
    "   * Uproot's \"bottom up\" JaggedArrays were moved into a new package, **Awkward Array**, replacing the \"top down\" view of OAMap. This was **Uproot 3.x**.\n",
    "   * Awkward Array is successful even though it has interface flaws and its pure Python \"no for loops!\" implementation is hard to maintain.\n",
    "   * **Awkward 1.x** started last fall with a long development time to \"do it right.\" It is complete, but not very visible because Uproot doesn't produce the new-style arrays yet.\n",
    "   * **Uproot 4.x** started development in May with a release date of July 1.\n",
    "\n",
    "Unlike previous version updates (which were more minor), Uproot 3.x and Awkward 0.x will continue to exist as `uproot3` and `awkward0`.\n",
    "\n",
    "Sometime this summer, `uproot4` → `uproot` and `awkward1` → `awkward`. If you need to keep old scripts working, you'll be able to\n",
    "\n",
    "```python\n",
    "import uproot3 as uproot\n",
    "import awkward0 as awkward\n",
    "```\n",
    "\n",
    "but new work should use the new libraries. (The old ones will continue to exist, but won't be actively maintained.)\n",
    "\n",
    "![](img/Raiders-of-the-Lost-Ark-Chamber.jpg)"
   ]
  },
  {
   "cell_type": "markdown",
   "metadata": {},
   "source": [
    "## Opening a file with Uproot\n",
    "\n",
    "The read-only interface starts with `uproot.open`."
   ]
  },
  {
   "cell_type": "code",
   "execution_count": 1,
   "metadata": {},
   "outputs": [
    {
     "data": {
      "text/plain": [
       "<ROOTDirectory b'tests/nesteddirs.root' at 0x7fb678296090>"
      ]
     },
     "execution_count": 1,
     "metadata": {},
     "output_type": "execute_result"
    }
   ],
   "source": [
    "import uproot\n",
    "\n",
    "file = uproot.open(\"data/nesteddirs.root\")\n",
    "file"
   ]
  },
  {
   "cell_type": "markdown",
   "metadata": {},
   "source": [
    "A file has a dict-like interface, meaning that you can access objects with square brackets and list them with `keys`."
   ]
  },
  {
   "cell_type": "code",
   "execution_count": 2,
   "metadata": {},
   "outputs": [
    {
     "data": {
      "text/plain": [
       "[b'one;1', b'three;1']"
      ]
     },
     "execution_count": 2,
     "metadata": {},
     "output_type": "execute_result"
    }
   ],
   "source": [
    "file.keys()"
   ]
  },
  {
   "cell_type": "code",
   "execution_count": 3,
   "metadata": {},
   "outputs": [
    {
     "data": {
      "text/plain": [
       "<ROOTDirectory b'one' at 0x7fb6782be610>"
      ]
     },
     "execution_count": 3,
     "metadata": {},
     "output_type": "execute_result"
    }
   ],
   "source": [
    "file[\"one\"]"
   ]
  },
  {
   "cell_type": "code",
   "execution_count": 4,
   "metadata": {},
   "outputs": [
    {
     "data": {
      "text/plain": [
       "[b'two;1', b'tree;1']"
      ]
     },
     "execution_count": 4,
     "metadata": {},
     "output_type": "execute_result"
    }
   ],
   "source": [
    "file[\"one\"].keys()"
   ]
  },
  {
   "cell_type": "code",
   "execution_count": 5,
   "metadata": {},
   "outputs": [
    {
     "data": {
      "text/plain": [
       "[b'one;1',\n",
       " b'one/two;1',\n",
       " b'one/two/tree;1',\n",
       " b'one/tree;1',\n",
       " b'three;1',\n",
       " b'three/tree;1']"
      ]
     },
     "execution_count": 5,
     "metadata": {},
     "output_type": "execute_result"
    }
   ],
   "source": [
    "file.allkeys()"
   ]
  },
  {
   "cell_type": "code",
   "execution_count": 6,
   "metadata": {},
   "outputs": [
    {
     "data": {
      "text/plain": [
       "[(b'one;1', 'TDirectory'),\n",
       " (b'one/two;1', 'TDirectory'),\n",
       " (b'one/two/tree;1', 'TTree'),\n",
       " (b'one/tree;1', 'TTree'),\n",
       " (b'three;1', 'TDirectory'),\n",
       " (b'three/tree;1', 'TTree')]"
      ]
     },
     "execution_count": 6,
     "metadata": {},
     "output_type": "execute_result"
    }
   ],
   "source": [
    "file.allclassnames()"
   ]
  },
  {
   "cell_type": "markdown",
   "metadata": {},
   "source": [
    "### What's the `b` at the beginning of each file path?\n",
    "\n",
    "These are bytestrings, not strings, and Python 3 emphasizes the difference.\n",
    "\n",
    "(I was worried that old ROOT files would use strange encodings and thought that presuming everything to be UTF-8 would make hist�gr�m title� l��k like th�s. But the issue of encodings never came up. Dealing with the Python bytestrings has been more of a nuisance.)"
   ]
  },
  {
   "cell_type": "markdown",
   "metadata": {},
   "source": [
    "### Technology preview: Uproot 4\n",
    "\n",
    "Uproot 4 is only half-written and might fail in simple cases. However, we can try it out side-by-side with Uproot 3 because of the different package name."
   ]
  },
  {
   "cell_type": "code",
   "execution_count": 7,
   "metadata": {},
   "outputs": [
    {
     "data": {
      "text/plain": [
       "<ReadOnlyDirectory '/' at 0x7fb68136fcd0>"
      ]
     },
     "execution_count": 7,
     "metadata": {},
     "output_type": "execute_result"
    }
   ],
   "source": [
    "import uproot4\n",
    "\n",
    "file_uproot4 = uproot4.open(\"data/nesteddirs.root\")\n",
    "file_uproot4"
   ]
  },
  {
   "cell_type": "code",
   "execution_count": 8,
   "metadata": {},
   "outputs": [
    {
     "data": {
      "text/plain": [
       "['one;1',\n",
       " 'one/two;1',\n",
       " 'one/two/tree;1',\n",
       " 'one/tree;1',\n",
       " 'three;1',\n",
       " 'three/tree;1']"
      ]
     },
     "execution_count": 8,
     "metadata": {},
     "output_type": "execute_result"
    }
   ],
   "source": [
    "# recursive=True is now the default; there's no allkeys\n",
    "file_uproot4.keys()"
   ]
  },
  {
   "cell_type": "code",
   "execution_count": 9,
   "metadata": {},
   "outputs": [
    {
     "data": {
      "text/plain": [
       "{'one': 'TDirectory',\n",
       " 'one/two': 'TDirectory',\n",
       " 'one/two/tree': 'TTree',\n",
       " 'one/tree': 'TTree',\n",
       " 'three': 'TDirectory',\n",
       " 'three/tree': 'TTree'}"
      ]
     },
     "execution_count": 9,
     "metadata": {},
     "output_type": "execute_result"
    }
   ],
   "source": [
    "file_uproot4.classnames()"
   ]
  },
  {
   "cell_type": "code",
   "execution_count": 10,
   "metadata": {},
   "outputs": [
    {
     "data": {
      "text/plain": [
       "'TTree'"
      ]
     },
     "execution_count": 10,
     "metadata": {},
     "output_type": "execute_result"
    }
   ],
   "source": [
    "file_uproot4.classname_of(\"one/two/tree\")"
   ]
  },
  {
   "cell_type": "code",
   "execution_count": 11,
   "metadata": {},
   "outputs": [
    {
     "data": {
      "text/plain": [
       "'TTree'"
      ]
     },
     "execution_count": 11,
     "metadata": {},
     "output_type": "execute_result"
    }
   ],
   "source": [
    "file_uproot4.classname_of(\"one/two/tree;1\")"
   ]
  },
  {
   "cell_type": "markdown",
   "metadata": {},
   "source": [
    "No more bytestrings. (Invalid UTF-8 uses the \"surrogate escape\" method, so a strangely encoded string won't _break_ anything, at least.)"
   ]
  },
  {
   "cell_type": "markdown",
   "metadata": {},
   "source": [
    "### What's the `;1` at the end of the key name?\n",
    "\n",
    "These are ROOT \"cycle numbers,\" which allow objects with the same name to exist in the same directory. We display them to disambiguate, but you don't have to type them to look up an object. (You'll get the latest one; the one with the highest cycle.)"
   ]
  },
  {
   "cell_type": "markdown",
   "metadata": {},
   "source": [
    "## Exploring a TTree\n",
    "\n",
    "TTrees also have a dict-like interface, though the `show` method has been very useful."
   ]
  },
  {
   "cell_type": "code",
   "execution_count": 12,
   "metadata": {},
   "outputs": [
    {
     "data": {
      "text/plain": [
       "<TTree b'tree' at 0x7fb678239590>"
      ]
     },
     "execution_count": 12,
     "metadata": {},
     "output_type": "execute_result"
    }
   ],
   "source": [
    "tree = file[\"one/two/tree\"]\n",
    "tree"
   ]
  },
  {
   "cell_type": "code",
   "execution_count": 13,
   "metadata": {},
   "outputs": [
    {
     "data": {
      "text/plain": [
       "[b'Int32',\n",
       " b'Int64',\n",
       " b'UInt32',\n",
       " b'UInt64',\n",
       " b'Float32',\n",
       " b'Float64',\n",
       " b'Str',\n",
       " b'ArrayInt32',\n",
       " b'ArrayInt64',\n",
       " b'ArrayUInt32',\n",
       " b'ArrayUInt64',\n",
       " b'ArrayFloat32',\n",
       " b'ArrayFloat64',\n",
       " b'N',\n",
       " b'SliceInt32',\n",
       " b'SliceInt64',\n",
       " b'SliceUInt32',\n",
       " b'SliceUInt64',\n",
       " b'SliceFloat32',\n",
       " b'SliceFloat64']"
      ]
     },
     "execution_count": 13,
     "metadata": {},
     "output_type": "execute_result"
    }
   ],
   "source": [
    "tree.keys()"
   ]
  },
  {
   "cell_type": "code",
   "execution_count": 14,
   "metadata": {},
   "outputs": [
    {
     "name": "stdout",
     "output_type": "stream",
     "text": [
      "Int32                      (no streamer)              asdtype('>i4')\n",
      "Int64                      (no streamer)              asdtype('>i8')\n",
      "UInt32                     (no streamer)              asdtype('>u4')\n",
      "UInt64                     (no streamer)              asdtype('>u8')\n",
      "Float32                    (no streamer)              asdtype('>f4')\n",
      "Float64                    (no streamer)              asdtype('>f8')\n",
      "Str                        (no streamer)              asstring()\n",
      "ArrayInt32                 (no streamer)              asdtype(\"('>i4', (10,))\")\n",
      "ArrayInt64                 (no streamer)              asdtype(\"('>i8', (10,))\")\n",
      "ArrayUInt32                (no streamer)              asdtype(\"('>u4', (10,))\")\n",
      "ArrayUInt64                (no streamer)              asdtype(\"('>u8', (10,))\")\n",
      "ArrayFloat32               (no streamer)              asdtype(\"('>f4', (10,))\")\n",
      "ArrayFloat64               (no streamer)              asdtype(\"('>f8', (10,))\")\n",
      "N                          (no streamer)              asdtype('>i4')\n",
      "SliceInt32                 (no streamer)              asjagged(asdtype('>i4'))\n",
      "SliceInt64                 (no streamer)              asjagged(asdtype('>i8'))\n",
      "SliceUInt32                (no streamer)              asjagged(asdtype('>u4'))\n",
      "SliceUInt64                (no streamer)              asjagged(asdtype('>u8'))\n",
      "SliceFloat32               (no streamer)              asjagged(asdtype('>f4'))\n",
      "SliceFloat64               (no streamer)              asjagged(asdtype('>f8'))\n"
     ]
    }
   ],
   "source": [
    "tree.show()"
   ]
  },
  {
   "cell_type": "markdown",
   "metadata": {},
   "source": [
    "Left column: branch names, middle column: streamers (which define complex types), right column: how _we_ interpret the branch as an array (Uproot-specific)."
   ]
  },
  {
   "cell_type": "code",
   "execution_count": 15,
   "metadata": {},
   "outputs": [
    {
     "data": {
      "text/plain": [
       "array([ 0.,  1.,  2.,  3.,  4.,  5.,  6.,  7.,  8.,  9., 10., 11., 12.,\n",
       "       13., 14., 15., 16., 17., 18., 19., 20., 21., 22., 23., 24., 25.,\n",
       "       26., 27., 28., 29., 30., 31., 32., 33., 34., 35., 36., 37., 38.,\n",
       "       39., 40., 41., 42., 43., 44., 45., 46., 47., 48., 49., 50., 51.,\n",
       "       52., 53., 54., 55., 56., 57., 58., 59., 60., 61., 62., 63., 64.,\n",
       "       65., 66., 67., 68., 69., 70., 71., 72., 73., 74., 75., 76., 77.,\n",
       "       78., 79., 80., 81., 82., 83., 84., 85., 86., 87., 88., 89., 90.,\n",
       "       91., 92., 93., 94., 95., 96., 97., 98., 99.])"
      ]
     },
     "execution_count": 15,
     "metadata": {},
     "output_type": "execute_result"
    }
   ],
   "source": [
    "tree[\"Float64\"].array()"
   ]
  },
  {
   "cell_type": "code",
   "execution_count": 16,
   "metadata": {},
   "outputs": [
    {
     "data": {
      "text/plain": [
       "array([[ 0,  0,  0,  0,  0,  0,  0,  0,  0,  0],\n",
       "       [ 1,  1,  1,  1,  1,  1,  1,  1,  1,  1],\n",
       "       [ 2,  2,  2,  2,  2,  2,  2,  2,  2,  2],\n",
       "       [ 3,  3,  3,  3,  3,  3,  3,  3,  3,  3],\n",
       "       [ 4,  4,  4,  4,  4,  4,  4,  4,  4,  4],\n",
       "       [ 5,  5,  5,  5,  5,  5,  5,  5,  5,  5],\n",
       "       [ 6,  6,  6,  6,  6,  6,  6,  6,  6,  6],\n",
       "       [ 7,  7,  7,  7,  7,  7,  7,  7,  7,  7],\n",
       "       [ 8,  8,  8,  8,  8,  8,  8,  8,  8,  8],\n",
       "       [ 9,  9,  9,  9,  9,  9,  9,  9,  9,  9],\n",
       "       [10, 10, 10, 10, 10, 10, 10, 10, 10, 10],\n",
       "       [11, 11, 11, 11, 11, 11, 11, 11, 11, 11],\n",
       "       [12, 12, 12, 12, 12, 12, 12, 12, 12, 12],\n",
       "       [13, 13, 13, 13, 13, 13, 13, 13, 13, 13],\n",
       "       [14, 14, 14, 14, 14, 14, 14, 14, 14, 14],\n",
       "       [15, 15, 15, 15, 15, 15, 15, 15, 15, 15],\n",
       "       [16, 16, 16, 16, 16, 16, 16, 16, 16, 16],\n",
       "       [17, 17, 17, 17, 17, 17, 17, 17, 17, 17],\n",
       "       [18, 18, 18, 18, 18, 18, 18, 18, 18, 18],\n",
       "       [19, 19, 19, 19, 19, 19, 19, 19, 19, 19],\n",
       "       [20, 20, 20, 20, 20, 20, 20, 20, 20, 20],\n",
       "       [21, 21, 21, 21, 21, 21, 21, 21, 21, 21],\n",
       "       [22, 22, 22, 22, 22, 22, 22, 22, 22, 22],\n",
       "       [23, 23, 23, 23, 23, 23, 23, 23, 23, 23],\n",
       "       [24, 24, 24, 24, 24, 24, 24, 24, 24, 24],\n",
       "       [25, 25, 25, 25, 25, 25, 25, 25, 25, 25],\n",
       "       [26, 26, 26, 26, 26, 26, 26, 26, 26, 26],\n",
       "       [27, 27, 27, 27, 27, 27, 27, 27, 27, 27],\n",
       "       [28, 28, 28, 28, 28, 28, 28, 28, 28, 28],\n",
       "       [29, 29, 29, 29, 29, 29, 29, 29, 29, 29],\n",
       "       [30, 30, 30, 30, 30, 30, 30, 30, 30, 30],\n",
       "       [31, 31, 31, 31, 31, 31, 31, 31, 31, 31],\n",
       "       [32, 32, 32, 32, 32, 32, 32, 32, 32, 32],\n",
       "       [33, 33, 33, 33, 33, 33, 33, 33, 33, 33],\n",
       "       [34, 34, 34, 34, 34, 34, 34, 34, 34, 34],\n",
       "       [35, 35, 35, 35, 35, 35, 35, 35, 35, 35],\n",
       "       [36, 36, 36, 36, 36, 36, 36, 36, 36, 36],\n",
       "       [37, 37, 37, 37, 37, 37, 37, 37, 37, 37],\n",
       "       [38, 38, 38, 38, 38, 38, 38, 38, 38, 38],\n",
       "       [39, 39, 39, 39, 39, 39, 39, 39, 39, 39],\n",
       "       [40, 40, 40, 40, 40, 40, 40, 40, 40, 40],\n",
       "       [41, 41, 41, 41, 41, 41, 41, 41, 41, 41],\n",
       "       [42, 42, 42, 42, 42, 42, 42, 42, 42, 42],\n",
       "       [43, 43, 43, 43, 43, 43, 43, 43, 43, 43],\n",
       "       [44, 44, 44, 44, 44, 44, 44, 44, 44, 44],\n",
       "       [45, 45, 45, 45, 45, 45, 45, 45, 45, 45],\n",
       "       [46, 46, 46, 46, 46, 46, 46, 46, 46, 46],\n",
       "       [47, 47, 47, 47, 47, 47, 47, 47, 47, 47],\n",
       "       [48, 48, 48, 48, 48, 48, 48, 48, 48, 48],\n",
       "       [49, 49, 49, 49, 49, 49, 49, 49, 49, 49],\n",
       "       [50, 50, 50, 50, 50, 50, 50, 50, 50, 50],\n",
       "       [51, 51, 51, 51, 51, 51, 51, 51, 51, 51],\n",
       "       [52, 52, 52, 52, 52, 52, 52, 52, 52, 52],\n",
       "       [53, 53, 53, 53, 53, 53, 53, 53, 53, 53],\n",
       "       [54, 54, 54, 54, 54, 54, 54, 54, 54, 54],\n",
       "       [55, 55, 55, 55, 55, 55, 55, 55, 55, 55],\n",
       "       [56, 56, 56, 56, 56, 56, 56, 56, 56, 56],\n",
       "       [57, 57, 57, 57, 57, 57, 57, 57, 57, 57],\n",
       "       [58, 58, 58, 58, 58, 58, 58, 58, 58, 58],\n",
       "       [59, 59, 59, 59, 59, 59, 59, 59, 59, 59],\n",
       "       [60, 60, 60, 60, 60, 60, 60, 60, 60, 60],\n",
       "       [61, 61, 61, 61, 61, 61, 61, 61, 61, 61],\n",
       "       [62, 62, 62, 62, 62, 62, 62, 62, 62, 62],\n",
       "       [63, 63, 63, 63, 63, 63, 63, 63, 63, 63],\n",
       "       [64, 64, 64, 64, 64, 64, 64, 64, 64, 64],\n",
       "       [65, 65, 65, 65, 65, 65, 65, 65, 65, 65],\n",
       "       [66, 66, 66, 66, 66, 66, 66, 66, 66, 66],\n",
       "       [67, 67, 67, 67, 67, 67, 67, 67, 67, 67],\n",
       "       [68, 68, 68, 68, 68, 68, 68, 68, 68, 68],\n",
       "       [69, 69, 69, 69, 69, 69, 69, 69, 69, 69],\n",
       "       [70, 70, 70, 70, 70, 70, 70, 70, 70, 70],\n",
       "       [71, 71, 71, 71, 71, 71, 71, 71, 71, 71],\n",
       "       [72, 72, 72, 72, 72, 72, 72, 72, 72, 72],\n",
       "       [73, 73, 73, 73, 73, 73, 73, 73, 73, 73],\n",
       "       [74, 74, 74, 74, 74, 74, 74, 74, 74, 74],\n",
       "       [75, 75, 75, 75, 75, 75, 75, 75, 75, 75],\n",
       "       [76, 76, 76, 76, 76, 76, 76, 76, 76, 76],\n",
       "       [77, 77, 77, 77, 77, 77, 77, 77, 77, 77],\n",
       "       [78, 78, 78, 78, 78, 78, 78, 78, 78, 78],\n",
       "       [79, 79, 79, 79, 79, 79, 79, 79, 79, 79],\n",
       "       [80, 80, 80, 80, 80, 80, 80, 80, 80, 80],\n",
       "       [81, 81, 81, 81, 81, 81, 81, 81, 81, 81],\n",
       "       [82, 82, 82, 82, 82, 82, 82, 82, 82, 82],\n",
       "       [83, 83, 83, 83, 83, 83, 83, 83, 83, 83],\n",
       "       [84, 84, 84, 84, 84, 84, 84, 84, 84, 84],\n",
       "       [85, 85, 85, 85, 85, 85, 85, 85, 85, 85],\n",
       "       [86, 86, 86, 86, 86, 86, 86, 86, 86, 86],\n",
       "       [87, 87, 87, 87, 87, 87, 87, 87, 87, 87],\n",
       "       [88, 88, 88, 88, 88, 88, 88, 88, 88, 88],\n",
       "       [89, 89, 89, 89, 89, 89, 89, 89, 89, 89],\n",
       "       [90, 90, 90, 90, 90, 90, 90, 90, 90, 90],\n",
       "       [91, 91, 91, 91, 91, 91, 91, 91, 91, 91],\n",
       "       [92, 92, 92, 92, 92, 92, 92, 92, 92, 92],\n",
       "       [93, 93, 93, 93, 93, 93, 93, 93, 93, 93],\n",
       "       [94, 94, 94, 94, 94, 94, 94, 94, 94, 94],\n",
       "       [95, 95, 95, 95, 95, 95, 95, 95, 95, 95],\n",
       "       [96, 96, 96, 96, 96, 96, 96, 96, 96, 96],\n",
       "       [97, 97, 97, 97, 97, 97, 97, 97, 97, 97],\n",
       "       [98, 98, 98, 98, 98, 98, 98, 98, 98, 98],\n",
       "       [99, 99, 99, 99, 99, 99, 99, 99, 99, 99]], dtype=int32)"
      ]
     },
     "execution_count": 16,
     "metadata": {},
     "output_type": "execute_result"
    }
   ],
   "source": [
    "tree[\"ArrayInt32\"].array()"
   ]
  },
  {
   "cell_type": "code",
   "execution_count": 17,
   "metadata": {},
   "outputs": [
    {
     "data": {
      "text/plain": [
       "<JaggedArray [[] [1] [2 2] ... [97 97 97 ... 97 97 97] [98 98 98 ... 98 98 98] [99 99 99 ... 99 99 99]] at 0x7fb678252690>"
      ]
     },
     "execution_count": 17,
     "metadata": {},
     "output_type": "execute_result"
    }
   ],
   "source": [
    "tree[\"SliceInt64\"].array()"
   ]
  },
  {
   "cell_type": "markdown",
   "metadata": {},
   "source": [
    "The last of these is a jagged array, which has a variable number of items in each entry.\n",
    "\n",
    "   * Uproot 3 returns NumPy arrays for scalar and fixed-length per entry types.\n",
    "   * Uproot 3 returns Awkward 0 JaggedArrays for variable-length per entry types.\n",
    "   * Uproot 4 (by default) returns Awkward 1 arrays for all branches."
   ]
  },
  {
   "cell_type": "code",
   "execution_count": 18,
   "metadata": {},
   "outputs": [
    {
     "data": {
      "text/plain": [
       "<Array [0, 1, 2, 3, 4, ... 95, 96, 97, 98, 99] type='100 * float64'>"
      ]
     },
     "execution_count": 18,
     "metadata": {},
     "output_type": "execute_result"
    }
   ],
   "source": [
    "file_uproot4[\"one/two/tree/Float64\"].array()"
   ]
  },
  {
   "cell_type": "code",
   "execution_count": 19,
   "metadata": {},
   "outputs": [
    {
     "data": {
      "text/plain": [
       "<Array [[0, 0, 0, 0, 0, ... 99, 99, 99, 99]] type='100 * 10 * int32'>"
      ]
     },
     "execution_count": 19,
     "metadata": {},
     "output_type": "execute_result"
    }
   ],
   "source": [
    "file_uproot4[\"one/two/tree/ArrayInt32\"].array()"
   ]
  },
  {
   "cell_type": "code",
   "execution_count": 20,
   "metadata": {},
   "outputs": [
    {
     "data": {
      "text/plain": [
       "<Array [[], [1], [2, ... 99, 99, 99, 99, 99]] type='100 * var * int64'>"
      ]
     },
     "execution_count": 20,
     "metadata": {},
     "output_type": "execute_result"
    }
   ],
   "source": [
    "file_uproot4[\"one/two/tree/SliceInt64\"].array()"
   ]
  },
  {
   "cell_type": "markdown",
   "metadata": {},
   "source": [
    "It's still possible to get NumPy arrays with `library=\"np\"` (i.e. return type depends on what you ask for, not the contents of the file)."
   ]
  },
  {
   "cell_type": "code",
   "execution_count": 21,
   "metadata": {},
   "outputs": [
    {
     "data": {
      "text/plain": [
       "array([ 0.,  1.,  2.,  3.,  4.,  5.,  6.,  7.,  8.,  9., 10., 11., 12.,\n",
       "       13., 14., 15., 16., 17., 18., 19., 20., 21., 22., 23., 24., 25.,\n",
       "       26., 27., 28., 29., 30., 31., 32., 33., 34., 35., 36., 37., 38.,\n",
       "       39., 40., 41., 42., 43., 44., 45., 46., 47., 48., 49., 50., 51.,\n",
       "       52., 53., 54., 55., 56., 57., 58., 59., 60., 61., 62., 63., 64.,\n",
       "       65., 66., 67., 68., 69., 70., 71., 72., 73., 74., 75., 76., 77.,\n",
       "       78., 79., 80., 81., 82., 83., 84., 85., 86., 87., 88., 89., 90.,\n",
       "       91., 92., 93., 94., 95., 96., 97., 98., 99.])"
      ]
     },
     "execution_count": 21,
     "metadata": {},
     "output_type": "execute_result"
    }
   ],
   "source": [
    "file_uproot4[\"one/two/tree/Float64\"].array(library=\"np\")"
   ]
  },
  {
   "cell_type": "code",
   "execution_count": 22,
   "metadata": {},
   "outputs": [
    {
     "data": {
      "text/plain": [
       "array([[ 0,  0,  0,  0,  0,  0,  0,  0,  0,  0],\n",
       "       [ 1,  1,  1,  1,  1,  1,  1,  1,  1,  1],\n",
       "       [ 2,  2,  2,  2,  2,  2,  2,  2,  2,  2],\n",
       "       [ 3,  3,  3,  3,  3,  3,  3,  3,  3,  3],\n",
       "       [ 4,  4,  4,  4,  4,  4,  4,  4,  4,  4],\n",
       "       [ 5,  5,  5,  5,  5,  5,  5,  5,  5,  5],\n",
       "       [ 6,  6,  6,  6,  6,  6,  6,  6,  6,  6],\n",
       "       [ 7,  7,  7,  7,  7,  7,  7,  7,  7,  7],\n",
       "       [ 8,  8,  8,  8,  8,  8,  8,  8,  8,  8],\n",
       "       [ 9,  9,  9,  9,  9,  9,  9,  9,  9,  9],\n",
       "       [10, 10, 10, 10, 10, 10, 10, 10, 10, 10],\n",
       "       [11, 11, 11, 11, 11, 11, 11, 11, 11, 11],\n",
       "       [12, 12, 12, 12, 12, 12, 12, 12, 12, 12],\n",
       "       [13, 13, 13, 13, 13, 13, 13, 13, 13, 13],\n",
       "       [14, 14, 14, 14, 14, 14, 14, 14, 14, 14],\n",
       "       [15, 15, 15, 15, 15, 15, 15, 15, 15, 15],\n",
       "       [16, 16, 16, 16, 16, 16, 16, 16, 16, 16],\n",
       "       [17, 17, 17, 17, 17, 17, 17, 17, 17, 17],\n",
       "       [18, 18, 18, 18, 18, 18, 18, 18, 18, 18],\n",
       "       [19, 19, 19, 19, 19, 19, 19, 19, 19, 19],\n",
       "       [20, 20, 20, 20, 20, 20, 20, 20, 20, 20],\n",
       "       [21, 21, 21, 21, 21, 21, 21, 21, 21, 21],\n",
       "       [22, 22, 22, 22, 22, 22, 22, 22, 22, 22],\n",
       "       [23, 23, 23, 23, 23, 23, 23, 23, 23, 23],\n",
       "       [24, 24, 24, 24, 24, 24, 24, 24, 24, 24],\n",
       "       [25, 25, 25, 25, 25, 25, 25, 25, 25, 25],\n",
       "       [26, 26, 26, 26, 26, 26, 26, 26, 26, 26],\n",
       "       [27, 27, 27, 27, 27, 27, 27, 27, 27, 27],\n",
       "       [28, 28, 28, 28, 28, 28, 28, 28, 28, 28],\n",
       "       [29, 29, 29, 29, 29, 29, 29, 29, 29, 29],\n",
       "       [30, 30, 30, 30, 30, 30, 30, 30, 30, 30],\n",
       "       [31, 31, 31, 31, 31, 31, 31, 31, 31, 31],\n",
       "       [32, 32, 32, 32, 32, 32, 32, 32, 32, 32],\n",
       "       [33, 33, 33, 33, 33, 33, 33, 33, 33, 33],\n",
       "       [34, 34, 34, 34, 34, 34, 34, 34, 34, 34],\n",
       "       [35, 35, 35, 35, 35, 35, 35, 35, 35, 35],\n",
       "       [36, 36, 36, 36, 36, 36, 36, 36, 36, 36],\n",
       "       [37, 37, 37, 37, 37, 37, 37, 37, 37, 37],\n",
       "       [38, 38, 38, 38, 38, 38, 38, 38, 38, 38],\n",
       "       [39, 39, 39, 39, 39, 39, 39, 39, 39, 39],\n",
       "       [40, 40, 40, 40, 40, 40, 40, 40, 40, 40],\n",
       "       [41, 41, 41, 41, 41, 41, 41, 41, 41, 41],\n",
       "       [42, 42, 42, 42, 42, 42, 42, 42, 42, 42],\n",
       "       [43, 43, 43, 43, 43, 43, 43, 43, 43, 43],\n",
       "       [44, 44, 44, 44, 44, 44, 44, 44, 44, 44],\n",
       "       [45, 45, 45, 45, 45, 45, 45, 45, 45, 45],\n",
       "       [46, 46, 46, 46, 46, 46, 46, 46, 46, 46],\n",
       "       [47, 47, 47, 47, 47, 47, 47, 47, 47, 47],\n",
       "       [48, 48, 48, 48, 48, 48, 48, 48, 48, 48],\n",
       "       [49, 49, 49, 49, 49, 49, 49, 49, 49, 49],\n",
       "       [50, 50, 50, 50, 50, 50, 50, 50, 50, 50],\n",
       "       [51, 51, 51, 51, 51, 51, 51, 51, 51, 51],\n",
       "       [52, 52, 52, 52, 52, 52, 52, 52, 52, 52],\n",
       "       [53, 53, 53, 53, 53, 53, 53, 53, 53, 53],\n",
       "       [54, 54, 54, 54, 54, 54, 54, 54, 54, 54],\n",
       "       [55, 55, 55, 55, 55, 55, 55, 55, 55, 55],\n",
       "       [56, 56, 56, 56, 56, 56, 56, 56, 56, 56],\n",
       "       [57, 57, 57, 57, 57, 57, 57, 57, 57, 57],\n",
       "       [58, 58, 58, 58, 58, 58, 58, 58, 58, 58],\n",
       "       [59, 59, 59, 59, 59, 59, 59, 59, 59, 59],\n",
       "       [60, 60, 60, 60, 60, 60, 60, 60, 60, 60],\n",
       "       [61, 61, 61, 61, 61, 61, 61, 61, 61, 61],\n",
       "       [62, 62, 62, 62, 62, 62, 62, 62, 62, 62],\n",
       "       [63, 63, 63, 63, 63, 63, 63, 63, 63, 63],\n",
       "       [64, 64, 64, 64, 64, 64, 64, 64, 64, 64],\n",
       "       [65, 65, 65, 65, 65, 65, 65, 65, 65, 65],\n",
       "       [66, 66, 66, 66, 66, 66, 66, 66, 66, 66],\n",
       "       [67, 67, 67, 67, 67, 67, 67, 67, 67, 67],\n",
       "       [68, 68, 68, 68, 68, 68, 68, 68, 68, 68],\n",
       "       [69, 69, 69, 69, 69, 69, 69, 69, 69, 69],\n",
       "       [70, 70, 70, 70, 70, 70, 70, 70, 70, 70],\n",
       "       [71, 71, 71, 71, 71, 71, 71, 71, 71, 71],\n",
       "       [72, 72, 72, 72, 72, 72, 72, 72, 72, 72],\n",
       "       [73, 73, 73, 73, 73, 73, 73, 73, 73, 73],\n",
       "       [74, 74, 74, 74, 74, 74, 74, 74, 74, 74],\n",
       "       [75, 75, 75, 75, 75, 75, 75, 75, 75, 75],\n",
       "       [76, 76, 76, 76, 76, 76, 76, 76, 76, 76],\n",
       "       [77, 77, 77, 77, 77, 77, 77, 77, 77, 77],\n",
       "       [78, 78, 78, 78, 78, 78, 78, 78, 78, 78],\n",
       "       [79, 79, 79, 79, 79, 79, 79, 79, 79, 79],\n",
       "       [80, 80, 80, 80, 80, 80, 80, 80, 80, 80],\n",
       "       [81, 81, 81, 81, 81, 81, 81, 81, 81, 81],\n",
       "       [82, 82, 82, 82, 82, 82, 82, 82, 82, 82],\n",
       "       [83, 83, 83, 83, 83, 83, 83, 83, 83, 83],\n",
       "       [84, 84, 84, 84, 84, 84, 84, 84, 84, 84],\n",
       "       [85, 85, 85, 85, 85, 85, 85, 85, 85, 85],\n",
       "       [86, 86, 86, 86, 86, 86, 86, 86, 86, 86],\n",
       "       [87, 87, 87, 87, 87, 87, 87, 87, 87, 87],\n",
       "       [88, 88, 88, 88, 88, 88, 88, 88, 88, 88],\n",
       "       [89, 89, 89, 89, 89, 89, 89, 89, 89, 89],\n",
       "       [90, 90, 90, 90, 90, 90, 90, 90, 90, 90],\n",
       "       [91, 91, 91, 91, 91, 91, 91, 91, 91, 91],\n",
       "       [92, 92, 92, 92, 92, 92, 92, 92, 92, 92],\n",
       "       [93, 93, 93, 93, 93, 93, 93, 93, 93, 93],\n",
       "       [94, 94, 94, 94, 94, 94, 94, 94, 94, 94],\n",
       "       [95, 95, 95, 95, 95, 95, 95, 95, 95, 95],\n",
       "       [96, 96, 96, 96, 96, 96, 96, 96, 96, 96],\n",
       "       [97, 97, 97, 97, 97, 97, 97, 97, 97, 97],\n",
       "       [98, 98, 98, 98, 98, 98, 98, 98, 98, 98],\n",
       "       [99, 99, 99, 99, 99, 99, 99, 99, 99, 99]], dtype=int32)"
      ]
     },
     "execution_count": 22,
     "metadata": {},
     "output_type": "execute_result"
    }
   ],
   "source": [
    "file_uproot4[\"one/two/tree/ArrayInt32\"].array(library=\"np\")"
   ]
  },
  {
   "cell_type": "code",
   "execution_count": 23,
   "metadata": {},
   "outputs": [
    {
     "data": {
      "text/plain": [
       "array([array([], dtype=int64), array([1]), array([2, 2]),\n",
       "       array([3, 3, 3]), array([4, 4, 4, 4]), array([5, 5, 5, 5, 5]),\n",
       "       array([6, 6, 6, 6, 6, 6]), array([7, 7, 7, 7, 7, 7, 7]),\n",
       "       array([8, 8, 8, 8, 8, 8, 8, 8]),\n",
       "       array([9, 9, 9, 9, 9, 9, 9, 9, 9]), array([], dtype=int64),\n",
       "       array([11]), array([12, 12]), array([13, 13, 13]),\n",
       "       array([14, 14, 14, 14]), array([15, 15, 15, 15, 15]),\n",
       "       array([16, 16, 16, 16, 16, 16]),\n",
       "       array([17, 17, 17, 17, 17, 17, 17]),\n",
       "       array([18, 18, 18, 18, 18, 18, 18, 18]),\n",
       "       array([19, 19, 19, 19, 19, 19, 19, 19, 19]),\n",
       "       array([], dtype=int64), array([21]), array([22, 22]),\n",
       "       array([23, 23, 23]), array([24, 24, 24, 24]),\n",
       "       array([25, 25, 25, 25, 25]), array([26, 26, 26, 26, 26, 26]),\n",
       "       array([27, 27, 27, 27, 27, 27, 27]),\n",
       "       array([28, 28, 28, 28, 28, 28, 28, 28]),\n",
       "       array([29, 29, 29, 29, 29, 29, 29, 29, 29]),\n",
       "       array([], dtype=int64), array([31]), array([32, 32]),\n",
       "       array([33, 33, 33]), array([34, 34, 34, 34]),\n",
       "       array([35, 35, 35, 35, 35]), array([36, 36, 36, 36, 36, 36]),\n",
       "       array([37, 37, 37, 37, 37, 37, 37]),\n",
       "       array([38, 38, 38, 38, 38, 38, 38, 38]),\n",
       "       array([39, 39, 39, 39, 39, 39, 39, 39, 39]),\n",
       "       array([], dtype=int64), array([41]), array([42, 42]),\n",
       "       array([43, 43, 43]), array([44, 44, 44, 44]),\n",
       "       array([45, 45, 45, 45, 45]), array([46, 46, 46, 46, 46, 46]),\n",
       "       array([47, 47, 47, 47, 47, 47, 47]),\n",
       "       array([48, 48, 48, 48, 48, 48, 48, 48]),\n",
       "       array([49, 49, 49, 49, 49, 49, 49, 49, 49]),\n",
       "       array([], dtype=int64), array([51]), array([52, 52]),\n",
       "       array([53, 53, 53]), array([54, 54, 54, 54]),\n",
       "       array([55, 55, 55, 55, 55]), array([56, 56, 56, 56, 56, 56]),\n",
       "       array([57, 57, 57, 57, 57, 57, 57]),\n",
       "       array([58, 58, 58, 58, 58, 58, 58, 58]),\n",
       "       array([59, 59, 59, 59, 59, 59, 59, 59, 59]),\n",
       "       array([], dtype=int64), array([61]), array([62, 62]),\n",
       "       array([63, 63, 63]), array([64, 64, 64, 64]),\n",
       "       array([65, 65, 65, 65, 65]), array([66, 66, 66, 66, 66, 66]),\n",
       "       array([67, 67, 67, 67, 67, 67, 67]),\n",
       "       array([68, 68, 68, 68, 68, 68, 68, 68]),\n",
       "       array([69, 69, 69, 69, 69, 69, 69, 69, 69]),\n",
       "       array([], dtype=int64), array([71]), array([72, 72]),\n",
       "       array([73, 73, 73]), array([74, 74, 74, 74]),\n",
       "       array([75, 75, 75, 75, 75]), array([76, 76, 76, 76, 76, 76]),\n",
       "       array([77, 77, 77, 77, 77, 77, 77]),\n",
       "       array([78, 78, 78, 78, 78, 78, 78, 78]),\n",
       "       array([79, 79, 79, 79, 79, 79, 79, 79, 79]),\n",
       "       array([], dtype=int64), array([81]), array([82, 82]),\n",
       "       array([83, 83, 83]), array([84, 84, 84, 84]),\n",
       "       array([85, 85, 85, 85, 85]), array([86, 86, 86, 86, 86, 86]),\n",
       "       array([87, 87, 87, 87, 87, 87, 87]),\n",
       "       array([88, 88, 88, 88, 88, 88, 88, 88]),\n",
       "       array([89, 89, 89, 89, 89, 89, 89, 89, 89]),\n",
       "       array([], dtype=int64), array([91]), array([92, 92]),\n",
       "       array([93, 93, 93]), array([94, 94, 94, 94]),\n",
       "       array([95, 95, 95, 95, 95]), array([96, 96, 96, 96, 96, 96]),\n",
       "       array([97, 97, 97, 97, 97, 97, 97]),\n",
       "       array([98, 98, 98, 98, 98, 98, 98, 98]),\n",
       "       array([99, 99, 99, 99, 99, 99, 99, 99, 99])], dtype=object)"
      ]
     },
     "execution_count": 23,
     "metadata": {},
     "output_type": "execute_result"
    }
   ],
   "source": [
    "file_uproot4[\"one/two/tree/SliceInt64\"].array(library=\"np\")"
   ]
  },
  {
   "cell_type": "markdown",
   "metadata": {},
   "source": [
    "Also, Pandas is a `library`, rather than a special function, as well as CuPy (GPU arrays) and any others we might want to add in the future."
   ]
  },
  {
   "cell_type": "code",
   "execution_count": 24,
   "metadata": {},
   "outputs": [
    {
     "data": {
      "text/plain": [
       "entry  subentry\n",
       "1      0            1\n",
       "2      0            2\n",
       "       1            2\n",
       "3      0            3\n",
       "       1            3\n",
       "                   ..\n",
       "99     4           99\n",
       "       5           99\n",
       "       6           99\n",
       "       7           99\n",
       "       8           99\n",
       "Length: 450, dtype: int64"
      ]
     },
     "execution_count": 24,
     "metadata": {},
     "output_type": "execute_result"
    }
   ],
   "source": [
    "file_uproot4[\"one/two/tree/SliceInt64\"].array(library=\"pd\")"
   ]
  },
  {
   "cell_type": "markdown",
   "metadata": {},
   "source": [
    "## How ROOT data are organized\n",
    "\n",
    "Objects in directories are referenced by keys—you can ignore these, as they just make the square brackets syntax work.\n",
    "\n",
    "A TTree's TBranches are either containers of data, convertible to arrays, or placeholders in a hierarchy describing a \"split\" object (more on that later).\n",
    "\n",
    "The actual data are broken up into TBaskets, which is the smallest unit that can be read from a compressed file. There's no such thing as \"reading one event,\" unless you have one TBasket per event (which would be inefficient when reading many events).\n",
    "\n",
    "![](img/terminology.png)\n",
    "\n",
    "Often, you can ignore TBaskets: Uproot treats TBranches as the fundamental unit, with one TBranch → one array.\n",
    "\n",
    "But if your file compresses poorly or is slow to read, check the TBasket sizes to see that they are at least 10's to 100's of kilobytes each."
   ]
  },
  {
   "cell_type": "code",
   "execution_count": 27,
   "metadata": {},
   "outputs": [
    {
     "data": {
      "text/plain": [
       "<TTree b'Events' at 0x7fb6780d7fd0>"
      ]
     },
     "execution_count": 27,
     "metadata": {},
     "output_type": "execute_result"
    }
   ],
   "source": [
    "events = uproot.open(\"data/cms_opendata_2012_nanoaod_DoubleMuParked.root\")[\"Events\"]\n",
    "events"
   ]
  },
  {
   "cell_type": "code",
   "execution_count": 45,
   "metadata": {},
   "outputs": [
    {
     "name": "stdout",
     "output_type": "stream",
     "text": [
      "run                   5 baskets [950.0234375, 950.0234375, 950.0234375, 950.0234375, 106.15625] kB each\n",
      "luminosityBlock       5 baskets [950.0234375, 950.0234375, 950.0234375, 950.0234375, 106.15625] kB each\n",
      "event                 5 baskets [1900.046875, 1900.046875, 1900.046875, 1900.046875, 212.3125] kB each\n",
      "PV_npvs               5 baskets [950.0234375, 950.0234375, 950.0234375, 950.0234375, 106.15625] kB each\n",
      "PV_x                  5 baskets [950.0234375, 950.0234375, 950.0234375, 950.0234375, 106.15625] kB each\n",
      "PV_y                  5 baskets [950.0234375, 950.0234375, 950.0234375, 950.0234375, 106.15625] kB each\n",
      "PV_z                  5 baskets [950.0234375, 950.0234375, 950.0234375, 950.0234375, 106.15625] kB each\n",
      "nMuon                 5 baskets [950.0234375, 950.0234375, 950.0234375, 950.0234375, 106.15625] kB each\n",
      "Muon_pt              12 baskets [2486.1875, 709.421875, 1502.57421875, 1502.59375, 193.62890625, 1502.984375, 1502.25, 192.41015625, 1502.4765625, 1502.4140625, 192.50390625, 360.43359375] kB each\n",
      "Muon_eta             12 baskets [2486.1875, 709.421875, 1502.57421875, 1502.59375, 193.62890625, 1502.984375, 1502.25, 192.41015625, 1502.4765625, 1502.4140625, 192.50390625, 360.43359375] kB each\n",
      "Muon_phi             12 baskets [2486.1875, 709.421875, 1502.57421875, 1502.59375, 193.62890625, 1502.984375, 1502.25, 192.41015625, 1502.4765625, 1502.4140625, 192.50390625, 360.43359375] kB each\n",
      "Muon_mass            12 baskets [2486.5625, 709.046875, 1502.57421875, 1502.59375, 193.62890625, 1502.984375, 1502.25, 192.41015625, 1502.4765625, 1502.4140625, 192.50390625, 360.43359375] kB each\n",
      "Muon_charge          12 baskets [2486.5546875, 709.0546875, 1502.57421875, 1502.59375, 193.62890625, 1502.984375, 1502.25, 192.41015625, 1502.4765625, 1502.4140625, 192.50390625, 360.43359375] kB each\n",
      "Muon_pfRelIso04_all  12 baskets [2487.703125, 707.90625, 1502.5625, 1502.58203125, 193.65234375, 1502.984375, 1502.25, 192.41015625, 1502.4609375, 1502.40625, 192.52734375, 360.43359375] kB each\n",
      "Muon_tightId          9 baskets [937.4560546875, 573.9755859375, 1196.84375, 315.3828125, 1196.822265625, 315.1162109375, 1196.85546875, 315.0205078125, 169.7314453125] kB each\n"
     ]
    }
   ],
   "source": [
    "for name in events.keys():\n",
    "    print(f\"{name.decode():20} {events[name].numbaskets:2d} baskets {[events[name].basket_uncompressedbytes(i)/1024 for i in range(events[name].numbaskets)]} kB each\")"
   ]
  },
  {
   "cell_type": "markdown",
   "metadata": {},
   "source": [
    "This affects ROOT performance, but it affects Uproot performance _more_.\n",
    "\n",
    "![](img/root-none-muon.png)\n",
    "\n",
    "(The TFile-TTree-TBranch-TBasket structure has to be navigated in slow Python, but reading/decompressing/interpreting a TBasket is a NumPy call, about as fast as the hardware allows.)"
   ]
  },
  {
   "cell_type": "code",
   "execution_count": null,
   "metadata": {},
   "outputs": [],
   "source": []
  }
 ],
 "metadata": {
  "kernelspec": {
   "display_name": "Python 3",
   "language": "python",
   "name": "python3"
  },
  "language_info": {
   "codemirror_mode": {
    "name": "ipython",
    "version": 3
   },
   "file_extension": ".py",
   "mimetype": "text/x-python",
   "name": "python",
   "nbconvert_exporter": "python",
   "pygments_lexer": "ipython3",
   "version": "3.7.6"
  }
 },
 "nbformat": 4,
 "nbformat_minor": 4
}
