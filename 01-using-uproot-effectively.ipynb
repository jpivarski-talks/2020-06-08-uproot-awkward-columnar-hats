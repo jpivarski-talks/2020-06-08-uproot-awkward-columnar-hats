{
 "cells": [
  {
   "cell_type": "markdown",
   "metadata": {},
   "source": [
    "# Using Uproot effectively"
   ]
  },
  {
   "cell_type": "markdown",
   "metadata": {},
   "source": [
    "## How this works as a hands-on tutorial\n",
    "\n",
    "Even though I don't have formal exercises scattered throughout these notebooks, this session can still be interactive.\n",
    "\n",
    "   * **You** should open each notebook in Binder (see [GitHub README](https://github.com/jpivarski/2020-06-08-uproot-awkward-columnar-hats)) and evaluate cells, following along with me.\n",
    "   * **I** should pause frequently and stay open to questions. I'll be monitoring the videoconference chat.\n",
    "   * **We** should feel free to step off the path and try to answer \"What if?\" questions in real time.\n",
    "\n",
    "Not all digressions will lead to an answer—I often realize, \"That's why it didn't work!\" long after the tutorial is over—but tinkering is how we learn.\n",
    "\n",
    "Consider this a tour and I'm your guide. The planned route is a suggestion to get things started, but your questions are more important.\n",
    "\n",
    "(Also, I'm awful at writing formal exercises; they end up being too easy _and_ too hard.)\n",
    "\n",
    "<br><br><br>"
   ]
  },
  {
   "cell_type": "markdown",
   "metadata": {},
   "source": [
    "## Increasingly unnecessary introduction to/motivation for Python\n",
    "\n",
    "I used to start these tutorials by asking, \"Why Python?\" but that doesn't seem necessary anymore.\n",
    "\n",
    "![](img/python-usage.png)\n",
    "\n",
    "<br><br><br>"
   ]
  },
  {
   "cell_type": "markdown",
   "metadata": {},
   "source": [
    "## What is Uproot?\n",
    "\n",
    "![](img/abstraction-layers.png)\n",
    "\n",
    "Uproot is an independent implementation of ROOT I/O and only I/O, using standard Python libraries wherever possible.\n",
    "\n",
    "<br><br><br>"
   ]
  },
  {
   "cell_type": "markdown",
   "metadata": {},
   "source": [
    "It's fairly popular, at least among _Python_ packages for _particle physics_.\n",
    "\n",
    "![](img/awkward-0-popularity.png)\n",
    "\n",
    "(Apologies to Coffea members: it would be very interesting to reload this analysis with 2020 data!)\n",
    "\n",
    "<br><br><br>"
   ]
  },
  {
   "cell_type": "markdown",
   "metadata": {},
   "source": [
    "## Why was Uproot written?\n",
    "\n",
    "![](img/uproot-awkward-timeline.png)"
   ]
  },
  {
   "cell_type": "markdown",
   "metadata": {},
   "source": [
    "Uproot was originally a part of Femtocode, a query language for calculations on columnar data. I needed an easier way to deploy ROOT I/O.\n",
    "\n",
    "   * **Uproot 1.x** was released as a Python package \"in case anyone finds it useful.\"\n",
    "   * Machine learning users did find it useful, so I quickly cleaned it up and made it presentable as **Uproot 2.x**.\n",
    "   * The way people were using Uproot influenced how I thought about columnar analysis: breaking it out into smaller pieces and eventually the exposing array-at-a-time interface to users, rather than hiding the columnar processing behind a query language.\n",
    "   * Uproot's \"bottom up\" JaggedArrays were moved into a new package, **Awkward Array**, replacing the \"top down\" view of OAMap. This was **Uproot 3.x**.\n",
    "   * Awkward Array is successful even though it has interface flaws and its pure Python \"no for loops!\" implementation is hard to maintain.\n",
    "   * **Awkward 1.x** started last fall with a long development time to \"do it right.\" It is complete, but not very visible because Uproot doesn't produce the new-style arrays yet.\n",
    "   * **Uproot 4.x** started development in May with a release date of July 1.\n",
    "\n",
    "Unlike previous version updates (which were more minor), Uproot 3.x and Awkward 0.x will continue to exist as `uproot3` and `awkward0`.\n",
    "\n",
    "<br><br><br>"
   ]
  },
  {
   "cell_type": "markdown",
   "metadata": {},
   "source": [
    "Sometime this summer, `uproot4` → `uproot` and `awkward1` → `awkward`. If you need to keep old scripts working, you'll be able to\n",
    "\n",
    "```python\n",
    "import uproot3 as uproot\n",
    "import awkward0 as awkward\n",
    "```\n",
    "\n",
    "but new work should use the new libraries. (The old ones will continue to exist, but won't be actively maintained.)\n",
    "\n",
    "![](img/Raiders-of-the-Lost-Ark-Chamber.jpg)\n",
    "\n",
    "<br><br><br>"
   ]
  },
  {
   "cell_type": "markdown",
   "metadata": {},
   "source": [
    "## Opening a file with Uproot\n",
    "\n",
    "The read-only interface starts with `uproot.open`."
   ]
  },
  {
   "cell_type": "code",
   "execution_count": 1,
   "metadata": {},
   "outputs": [
    {
     "data": {
      "text/plain": [
       "<ROOTDirectory b'tests/nesteddirs.root' at 0x7f0e003e9950>"
      ]
     },
     "execution_count": 1,
     "metadata": {},
     "output_type": "execute_result"
    }
   ],
   "source": [
    "import uproot\n",
    "\n",
    "file = uproot.open(\"data/nesteddirs.root\")\n",
    "file"
   ]
  },
  {
   "cell_type": "markdown",
   "metadata": {},
   "source": [
    "A file has a dict-like interface, meaning that you can access objects with square brackets and list them with `keys`."
   ]
  },
  {
   "cell_type": "code",
   "execution_count": 2,
   "metadata": {},
   "outputs": [
    {
     "data": {
      "text/plain": [
       "[b'one;1', b'three;1']"
      ]
     },
     "execution_count": 2,
     "metadata": {},
     "output_type": "execute_result"
    }
   ],
   "source": [
    "file.keys()"
   ]
  },
  {
   "cell_type": "code",
   "execution_count": 3,
   "metadata": {},
   "outputs": [
    {
     "data": {
      "text/plain": [
       "<ROOTDirectory b'one' at 0x7f0e003e87d0>"
      ]
     },
     "execution_count": 3,
     "metadata": {},
     "output_type": "execute_result"
    }
   ],
   "source": [
    "file[\"one\"]"
   ]
  },
  {
   "cell_type": "code",
   "execution_count": 4,
   "metadata": {},
   "outputs": [
    {
     "data": {
      "text/plain": [
       "[b'two;1', b'tree;1']"
      ]
     },
     "execution_count": 4,
     "metadata": {},
     "output_type": "execute_result"
    }
   ],
   "source": [
    "file[\"one\"].keys()"
   ]
  },
  {
   "cell_type": "code",
   "execution_count": 5,
   "metadata": {},
   "outputs": [
    {
     "data": {
      "text/plain": [
       "[b'one;1',\n",
       " b'one/two;1',\n",
       " b'one/two/tree;1',\n",
       " b'one/tree;1',\n",
       " b'three;1',\n",
       " b'three/tree;1']"
      ]
     },
     "execution_count": 5,
     "metadata": {},
     "output_type": "execute_result"
    }
   ],
   "source": [
    "file.allkeys()"
   ]
  },
  {
   "cell_type": "code",
   "execution_count": 6,
   "metadata": {},
   "outputs": [
    {
     "data": {
      "text/plain": [
       "[(b'one;1', 'TDirectory'),\n",
       " (b'one/two;1', 'TDirectory'),\n",
       " (b'one/two/tree;1', 'TTree'),\n",
       " (b'one/tree;1', 'TTree'),\n",
       " (b'three;1', 'TDirectory'),\n",
       " (b'three/tree;1', 'TTree')]"
      ]
     },
     "execution_count": 6,
     "metadata": {},
     "output_type": "execute_result"
    }
   ],
   "source": [
    "file.allclassnames()"
   ]
  },
  {
   "cell_type": "markdown",
   "metadata": {},
   "source": [
    "### What's the `b` at the beginning of each file path?\n",
    "\n",
    "These are bytestrings, not strings, and Python 3 emphasizes the difference.\n",
    "\n",
    "(I was worried that old ROOT files would use strange encodings and thought that presuming everything to be UTF-8 would make hist�gr�m title� l��k like th�s. But the issue of encodings never came up. Dealing with the Python bytestrings has been more of a nuisance.)"
   ]
  },
  {
   "cell_type": "markdown",
   "metadata": {},
   "source": [
    "### Technology preview: Uproot 4\n",
    "\n",
    "Uproot 4 is only half-written and might fail in simple cases. However, we can try it out side-by-side with Uproot 3 because of the different package name."
   ]
  },
  {
   "cell_type": "code",
   "execution_count": 7,
   "metadata": {},
   "outputs": [
    {
     "data": {
      "text/plain": [
       "<ReadOnlyDirectory '/' at 0x7f0e002f3b10>"
      ]
     },
     "execution_count": 7,
     "metadata": {},
     "output_type": "execute_result"
    }
   ],
   "source": [
    "import uproot4\n",
    "\n",
    "file_uproot4 = uproot4.open(\"data/nesteddirs.root\")\n",
    "file_uproot4"
   ]
  },
  {
   "cell_type": "code",
   "execution_count": 8,
   "metadata": {},
   "outputs": [
    {
     "data": {
      "text/plain": [
       "['one;1',\n",
       " 'one/two;1',\n",
       " 'one/two/tree;1',\n",
       " 'one/tree;1',\n",
       " 'three;1',\n",
       " 'three/tree;1']"
      ]
     },
     "execution_count": 8,
     "metadata": {},
     "output_type": "execute_result"
    }
   ],
   "source": [
    "# recursive=True is now the default; there's no allkeys\n",
    "file_uproot4.keys()"
   ]
  },
  {
   "cell_type": "code",
   "execution_count": 9,
   "metadata": {},
   "outputs": [
    {
     "data": {
      "text/plain": [
       "{'one': 'TDirectory',\n",
       " 'one/two': 'TDirectory',\n",
       " 'one/two/tree': 'TTree',\n",
       " 'one/tree': 'TTree',\n",
       " 'three': 'TDirectory',\n",
       " 'three/tree': 'TTree'}"
      ]
     },
     "execution_count": 9,
     "metadata": {},
     "output_type": "execute_result"
    }
   ],
   "source": [
    "file_uproot4.classnames()"
   ]
  },
  {
   "cell_type": "code",
   "execution_count": 10,
   "metadata": {},
   "outputs": [
    {
     "data": {
      "text/plain": [
       "'TTree'"
      ]
     },
     "execution_count": 10,
     "metadata": {},
     "output_type": "execute_result"
    }
   ],
   "source": [
    "file_uproot4.classname_of(\"one/two/tree\")"
   ]
  },
  {
   "cell_type": "code",
   "execution_count": 11,
   "metadata": {},
   "outputs": [
    {
     "data": {
      "text/plain": [
       "'TTree'"
      ]
     },
     "execution_count": 11,
     "metadata": {},
     "output_type": "execute_result"
    }
   ],
   "source": [
    "file_uproot4.classname_of(\"one/two/tree;1\")"
   ]
  },
  {
   "cell_type": "markdown",
   "metadata": {},
   "source": [
    "No more bytestrings. (Invalid UTF-8 uses the \"surrogate escape\" method, so a strangely encoded string won't _break_ anything, at least.)"
   ]
  },
  {
   "cell_type": "markdown",
   "metadata": {},
   "source": [
    "### What's the `;1` at the end of the key name?\n",
    "\n",
    "These are ROOT \"cycle numbers,\" which allow objects with the same name to exist in the same directory. We display them to disambiguate, but you don't have to type them to look up an object. (You'll get the latest one; the one with the highest cycle.)"
   ]
  },
  {
   "cell_type": "markdown",
   "metadata": {},
   "source": [
    "## Exploring a TTree\n",
    "\n",
    "TTrees also have a dict-like interface, though the `show` method has been very useful."
   ]
  },
  {
   "cell_type": "code",
   "execution_count": 12,
   "metadata": {},
   "outputs": [
    {
     "data": {
      "text/plain": [
       "<TTree b'tree' at 0x7f0e002a0b90>"
      ]
     },
     "execution_count": 12,
     "metadata": {},
     "output_type": "execute_result"
    }
   ],
   "source": [
    "tree = file[\"one/two/tree\"]\n",
    "tree"
   ]
  },
  {
   "cell_type": "code",
   "execution_count": 13,
   "metadata": {},
   "outputs": [
    {
     "data": {
      "text/plain": [
       "[b'Int32',\n",
       " b'Int64',\n",
       " b'UInt32',\n",
       " b'UInt64',\n",
       " b'Float32',\n",
       " b'Float64',\n",
       " b'Str',\n",
       " b'ArrayInt32',\n",
       " b'ArrayInt64',\n",
       " b'ArrayUInt32',\n",
       " b'ArrayUInt64',\n",
       " b'ArrayFloat32',\n",
       " b'ArrayFloat64',\n",
       " b'N',\n",
       " b'SliceInt32',\n",
       " b'SliceInt64',\n",
       " b'SliceUInt32',\n",
       " b'SliceUInt64',\n",
       " b'SliceFloat32',\n",
       " b'SliceFloat64']"
      ]
     },
     "execution_count": 13,
     "metadata": {},
     "output_type": "execute_result"
    }
   ],
   "source": [
    "tree.keys()"
   ]
  },
  {
   "cell_type": "code",
   "execution_count": 14,
   "metadata": {},
   "outputs": [
    {
     "name": "stdout",
     "output_type": "stream",
     "text": [
      "Int32                      (no streamer)              asdtype('>i4')\n",
      "Int64                      (no streamer)              asdtype('>i8')\n",
      "UInt32                     (no streamer)              asdtype('>u4')\n",
      "UInt64                     (no streamer)              asdtype('>u8')\n",
      "Float32                    (no streamer)              asdtype('>f4')\n",
      "Float64                    (no streamer)              asdtype('>f8')\n",
      "Str                        (no streamer)              asstring()\n",
      "ArrayInt32                 (no streamer)              asdtype(\"('>i4', (10,))\")\n",
      "ArrayInt64                 (no streamer)              asdtype(\"('>i8', (10,))\")\n",
      "ArrayUInt32                (no streamer)              asdtype(\"('>u4', (10,))\")\n",
      "ArrayUInt64                (no streamer)              asdtype(\"('>u8', (10,))\")\n",
      "ArrayFloat32               (no streamer)              asdtype(\"('>f4', (10,))\")\n",
      "ArrayFloat64               (no streamer)              asdtype(\"('>f8', (10,))\")\n",
      "N                          (no streamer)              asdtype('>i4')\n",
      "SliceInt32                 (no streamer)              asjagged(asdtype('>i4'))\n",
      "SliceInt64                 (no streamer)              asjagged(asdtype('>i8'))\n",
      "SliceUInt32                (no streamer)              asjagged(asdtype('>u4'))\n",
      "SliceUInt64                (no streamer)              asjagged(asdtype('>u8'))\n",
      "SliceFloat32               (no streamer)              asjagged(asdtype('>f4'))\n",
      "SliceFloat64               (no streamer)              asjagged(asdtype('>f8'))\n"
     ]
    }
   ],
   "source": [
    "tree.show()"
   ]
  },
  {
   "cell_type": "markdown",
   "metadata": {},
   "source": [
    "Left column: branch names, middle column: streamers (which define complex types), right column: how _we_ interpret the branch as an array (Uproot-specific)."
   ]
  },
  {
   "cell_type": "code",
   "execution_count": 15,
   "metadata": {},
   "outputs": [
    {
     "data": {
      "text/plain": [
       "array([ 0.,  1.,  2.,  3.,  4.,  5.,  6.,  7.,  8.,  9., 10., 11., 12.,\n",
       "       13., 14., 15., 16., 17., 18., 19., 20., 21., 22., 23., 24., 25.,\n",
       "       26., 27., 28., 29., 30., 31., 32., 33., 34., 35., 36., 37., 38.,\n",
       "       39., 40., 41., 42., 43., 44., 45., 46., 47., 48., 49., 50., 51.,\n",
       "       52., 53., 54., 55., 56., 57., 58., 59., 60., 61., 62., 63., 64.,\n",
       "       65., 66., 67., 68., 69., 70., 71., 72., 73., 74., 75., 76., 77.,\n",
       "       78., 79., 80., 81., 82., 83., 84., 85., 86., 87., 88., 89., 90.,\n",
       "       91., 92., 93., 94., 95., 96., 97., 98., 99.])"
      ]
     },
     "execution_count": 15,
     "metadata": {},
     "output_type": "execute_result"
    }
   ],
   "source": [
    "tree[\"Float64\"].array()"
   ]
  },
  {
   "cell_type": "code",
   "execution_count": 16,
   "metadata": {},
   "outputs": [
    {
     "data": {
      "text/plain": [
       "array([[ 0,  0,  0,  0,  0,  0,  0,  0,  0,  0],\n",
       "       [ 1,  1,  1,  1,  1,  1,  1,  1,  1,  1],\n",
       "       [ 2,  2,  2,  2,  2,  2,  2,  2,  2,  2],\n",
       "       [ 3,  3,  3,  3,  3,  3,  3,  3,  3,  3],\n",
       "       [ 4,  4,  4,  4,  4,  4,  4,  4,  4,  4],\n",
       "       [ 5,  5,  5,  5,  5,  5,  5,  5,  5,  5],\n",
       "       [ 6,  6,  6,  6,  6,  6,  6,  6,  6,  6],\n",
       "       [ 7,  7,  7,  7,  7,  7,  7,  7,  7,  7],\n",
       "       [ 8,  8,  8,  8,  8,  8,  8,  8,  8,  8],\n",
       "       [ 9,  9,  9,  9,  9,  9,  9,  9,  9,  9],\n",
       "       [10, 10, 10, 10, 10, 10, 10, 10, 10, 10],\n",
       "       [11, 11, 11, 11, 11, 11, 11, 11, 11, 11],\n",
       "       [12, 12, 12, 12, 12, 12, 12, 12, 12, 12],\n",
       "       [13, 13, 13, 13, 13, 13, 13, 13, 13, 13],\n",
       "       [14, 14, 14, 14, 14, 14, 14, 14, 14, 14],\n",
       "       [15, 15, 15, 15, 15, 15, 15, 15, 15, 15],\n",
       "       [16, 16, 16, 16, 16, 16, 16, 16, 16, 16],\n",
       "       [17, 17, 17, 17, 17, 17, 17, 17, 17, 17],\n",
       "       [18, 18, 18, 18, 18, 18, 18, 18, 18, 18],\n",
       "       [19, 19, 19, 19, 19, 19, 19, 19, 19, 19],\n",
       "       [20, 20, 20, 20, 20, 20, 20, 20, 20, 20],\n",
       "       [21, 21, 21, 21, 21, 21, 21, 21, 21, 21],\n",
       "       [22, 22, 22, 22, 22, 22, 22, 22, 22, 22],\n",
       "       [23, 23, 23, 23, 23, 23, 23, 23, 23, 23],\n",
       "       [24, 24, 24, 24, 24, 24, 24, 24, 24, 24],\n",
       "       [25, 25, 25, 25, 25, 25, 25, 25, 25, 25],\n",
       "       [26, 26, 26, 26, 26, 26, 26, 26, 26, 26],\n",
       "       [27, 27, 27, 27, 27, 27, 27, 27, 27, 27],\n",
       "       [28, 28, 28, 28, 28, 28, 28, 28, 28, 28],\n",
       "       [29, 29, 29, 29, 29, 29, 29, 29, 29, 29],\n",
       "       [30, 30, 30, 30, 30, 30, 30, 30, 30, 30],\n",
       "       [31, 31, 31, 31, 31, 31, 31, 31, 31, 31],\n",
       "       [32, 32, 32, 32, 32, 32, 32, 32, 32, 32],\n",
       "       [33, 33, 33, 33, 33, 33, 33, 33, 33, 33],\n",
       "       [34, 34, 34, 34, 34, 34, 34, 34, 34, 34],\n",
       "       [35, 35, 35, 35, 35, 35, 35, 35, 35, 35],\n",
       "       [36, 36, 36, 36, 36, 36, 36, 36, 36, 36],\n",
       "       [37, 37, 37, 37, 37, 37, 37, 37, 37, 37],\n",
       "       [38, 38, 38, 38, 38, 38, 38, 38, 38, 38],\n",
       "       [39, 39, 39, 39, 39, 39, 39, 39, 39, 39],\n",
       "       [40, 40, 40, 40, 40, 40, 40, 40, 40, 40],\n",
       "       [41, 41, 41, 41, 41, 41, 41, 41, 41, 41],\n",
       "       [42, 42, 42, 42, 42, 42, 42, 42, 42, 42],\n",
       "       [43, 43, 43, 43, 43, 43, 43, 43, 43, 43],\n",
       "       [44, 44, 44, 44, 44, 44, 44, 44, 44, 44],\n",
       "       [45, 45, 45, 45, 45, 45, 45, 45, 45, 45],\n",
       "       [46, 46, 46, 46, 46, 46, 46, 46, 46, 46],\n",
       "       [47, 47, 47, 47, 47, 47, 47, 47, 47, 47],\n",
       "       [48, 48, 48, 48, 48, 48, 48, 48, 48, 48],\n",
       "       [49, 49, 49, 49, 49, 49, 49, 49, 49, 49],\n",
       "       [50, 50, 50, 50, 50, 50, 50, 50, 50, 50],\n",
       "       [51, 51, 51, 51, 51, 51, 51, 51, 51, 51],\n",
       "       [52, 52, 52, 52, 52, 52, 52, 52, 52, 52],\n",
       "       [53, 53, 53, 53, 53, 53, 53, 53, 53, 53],\n",
       "       [54, 54, 54, 54, 54, 54, 54, 54, 54, 54],\n",
       "       [55, 55, 55, 55, 55, 55, 55, 55, 55, 55],\n",
       "       [56, 56, 56, 56, 56, 56, 56, 56, 56, 56],\n",
       "       [57, 57, 57, 57, 57, 57, 57, 57, 57, 57],\n",
       "       [58, 58, 58, 58, 58, 58, 58, 58, 58, 58],\n",
       "       [59, 59, 59, 59, 59, 59, 59, 59, 59, 59],\n",
       "       [60, 60, 60, 60, 60, 60, 60, 60, 60, 60],\n",
       "       [61, 61, 61, 61, 61, 61, 61, 61, 61, 61],\n",
       "       [62, 62, 62, 62, 62, 62, 62, 62, 62, 62],\n",
       "       [63, 63, 63, 63, 63, 63, 63, 63, 63, 63],\n",
       "       [64, 64, 64, 64, 64, 64, 64, 64, 64, 64],\n",
       "       [65, 65, 65, 65, 65, 65, 65, 65, 65, 65],\n",
       "       [66, 66, 66, 66, 66, 66, 66, 66, 66, 66],\n",
       "       [67, 67, 67, 67, 67, 67, 67, 67, 67, 67],\n",
       "       [68, 68, 68, 68, 68, 68, 68, 68, 68, 68],\n",
       "       [69, 69, 69, 69, 69, 69, 69, 69, 69, 69],\n",
       "       [70, 70, 70, 70, 70, 70, 70, 70, 70, 70],\n",
       "       [71, 71, 71, 71, 71, 71, 71, 71, 71, 71],\n",
       "       [72, 72, 72, 72, 72, 72, 72, 72, 72, 72],\n",
       "       [73, 73, 73, 73, 73, 73, 73, 73, 73, 73],\n",
       "       [74, 74, 74, 74, 74, 74, 74, 74, 74, 74],\n",
       "       [75, 75, 75, 75, 75, 75, 75, 75, 75, 75],\n",
       "       [76, 76, 76, 76, 76, 76, 76, 76, 76, 76],\n",
       "       [77, 77, 77, 77, 77, 77, 77, 77, 77, 77],\n",
       "       [78, 78, 78, 78, 78, 78, 78, 78, 78, 78],\n",
       "       [79, 79, 79, 79, 79, 79, 79, 79, 79, 79],\n",
       "       [80, 80, 80, 80, 80, 80, 80, 80, 80, 80],\n",
       "       [81, 81, 81, 81, 81, 81, 81, 81, 81, 81],\n",
       "       [82, 82, 82, 82, 82, 82, 82, 82, 82, 82],\n",
       "       [83, 83, 83, 83, 83, 83, 83, 83, 83, 83],\n",
       "       [84, 84, 84, 84, 84, 84, 84, 84, 84, 84],\n",
       "       [85, 85, 85, 85, 85, 85, 85, 85, 85, 85],\n",
       "       [86, 86, 86, 86, 86, 86, 86, 86, 86, 86],\n",
       "       [87, 87, 87, 87, 87, 87, 87, 87, 87, 87],\n",
       "       [88, 88, 88, 88, 88, 88, 88, 88, 88, 88],\n",
       "       [89, 89, 89, 89, 89, 89, 89, 89, 89, 89],\n",
       "       [90, 90, 90, 90, 90, 90, 90, 90, 90, 90],\n",
       "       [91, 91, 91, 91, 91, 91, 91, 91, 91, 91],\n",
       "       [92, 92, 92, 92, 92, 92, 92, 92, 92, 92],\n",
       "       [93, 93, 93, 93, 93, 93, 93, 93, 93, 93],\n",
       "       [94, 94, 94, 94, 94, 94, 94, 94, 94, 94],\n",
       "       [95, 95, 95, 95, 95, 95, 95, 95, 95, 95],\n",
       "       [96, 96, 96, 96, 96, 96, 96, 96, 96, 96],\n",
       "       [97, 97, 97, 97, 97, 97, 97, 97, 97, 97],\n",
       "       [98, 98, 98, 98, 98, 98, 98, 98, 98, 98],\n",
       "       [99, 99, 99, 99, 99, 99, 99, 99, 99, 99]], dtype=int32)"
      ]
     },
     "execution_count": 16,
     "metadata": {},
     "output_type": "execute_result"
    }
   ],
   "source": [
    "tree[\"ArrayInt32\"].array()"
   ]
  },
  {
   "cell_type": "code",
   "execution_count": 17,
   "metadata": {},
   "outputs": [
    {
     "data": {
      "text/plain": [
       "<JaggedArray [[] [1] [2 2] ... [97 97 97 ... 97 97 97] [98 98 98 ... 98 98 98] [99 99 99 ... 99 99 99]] at 0x7f0e002c0910>"
      ]
     },
     "execution_count": 17,
     "metadata": {},
     "output_type": "execute_result"
    }
   ],
   "source": [
    "tree[\"SliceInt64\"].array()"
   ]
  },
  {
   "cell_type": "markdown",
   "metadata": {},
   "source": [
    "The last of these is a jagged array, which has a variable number of items in each entry.\n",
    "\n",
    "   * Uproot 3 returns NumPy arrays for scalar and fixed-length per entry types.\n",
    "   * Uproot 3 returns Awkward 0 JaggedArrays for variable-length per entry types.\n",
    "   * Uproot 4 (by default) returns Awkward 1 arrays for all branches."
   ]
  },
  {
   "cell_type": "code",
   "execution_count": 18,
   "metadata": {},
   "outputs": [
    {
     "data": {
      "text/plain": [
       "<Array [0, 1, 2, 3, 4, ... 95, 96, 97, 98, 99] type='100 * float64'>"
      ]
     },
     "execution_count": 18,
     "metadata": {},
     "output_type": "execute_result"
    }
   ],
   "source": [
    "file_uproot4[\"one/two/tree/Float64\"].array()"
   ]
  },
  {
   "cell_type": "code",
   "execution_count": 19,
   "metadata": {},
   "outputs": [
    {
     "data": {
      "text/plain": [
       "<Array [[0, 0, 0, 0, 0, ... 99, 99, 99, 99]] type='100 * 10 * int32'>"
      ]
     },
     "execution_count": 19,
     "metadata": {},
     "output_type": "execute_result"
    }
   ],
   "source": [
    "file_uproot4[\"one/two/tree/ArrayInt32\"].array()"
   ]
  },
  {
   "cell_type": "code",
   "execution_count": 20,
   "metadata": {},
   "outputs": [
    {
     "data": {
      "text/plain": [
       "<Array [[], [1], [2, ... 99, 99, 99, 99, 99]] type='100 * var * int64'>"
      ]
     },
     "execution_count": 20,
     "metadata": {},
     "output_type": "execute_result"
    }
   ],
   "source": [
    "file_uproot4[\"one/two/tree/SliceInt64\"].array()"
   ]
  },
  {
   "cell_type": "markdown",
   "metadata": {},
   "source": [
    "It's still possible to get NumPy arrays with `library=\"np\"` (i.e. return type depends on what you ask for, not the contents of the file)."
   ]
  },
  {
   "cell_type": "code",
   "execution_count": 21,
   "metadata": {},
   "outputs": [
    {
     "data": {
      "text/plain": [
       "array([ 0.,  1.,  2.,  3.,  4.,  5.,  6.,  7.,  8.,  9., 10., 11., 12.,\n",
       "       13., 14., 15., 16., 17., 18., 19., 20., 21., 22., 23., 24., 25.,\n",
       "       26., 27., 28., 29., 30., 31., 32., 33., 34., 35., 36., 37., 38.,\n",
       "       39., 40., 41., 42., 43., 44., 45., 46., 47., 48., 49., 50., 51.,\n",
       "       52., 53., 54., 55., 56., 57., 58., 59., 60., 61., 62., 63., 64.,\n",
       "       65., 66., 67., 68., 69., 70., 71., 72., 73., 74., 75., 76., 77.,\n",
       "       78., 79., 80., 81., 82., 83., 84., 85., 86., 87., 88., 89., 90.,\n",
       "       91., 92., 93., 94., 95., 96., 97., 98., 99.])"
      ]
     },
     "execution_count": 21,
     "metadata": {},
     "output_type": "execute_result"
    }
   ],
   "source": [
    "file_uproot4[\"one/two/tree/Float64\"].array(library=\"np\")"
   ]
  },
  {
   "cell_type": "code",
   "execution_count": 22,
   "metadata": {},
   "outputs": [
    {
     "data": {
      "text/plain": [
       "array([[ 0,  0,  0,  0,  0,  0,  0,  0,  0,  0],\n",
       "       [ 1,  1,  1,  1,  1,  1,  1,  1,  1,  1],\n",
       "       [ 2,  2,  2,  2,  2,  2,  2,  2,  2,  2],\n",
       "       [ 3,  3,  3,  3,  3,  3,  3,  3,  3,  3],\n",
       "       [ 4,  4,  4,  4,  4,  4,  4,  4,  4,  4],\n",
       "       [ 5,  5,  5,  5,  5,  5,  5,  5,  5,  5],\n",
       "       [ 6,  6,  6,  6,  6,  6,  6,  6,  6,  6],\n",
       "       [ 7,  7,  7,  7,  7,  7,  7,  7,  7,  7],\n",
       "       [ 8,  8,  8,  8,  8,  8,  8,  8,  8,  8],\n",
       "       [ 9,  9,  9,  9,  9,  9,  9,  9,  9,  9],\n",
       "       [10, 10, 10, 10, 10, 10, 10, 10, 10, 10],\n",
       "       [11, 11, 11, 11, 11, 11, 11, 11, 11, 11],\n",
       "       [12, 12, 12, 12, 12, 12, 12, 12, 12, 12],\n",
       "       [13, 13, 13, 13, 13, 13, 13, 13, 13, 13],\n",
       "       [14, 14, 14, 14, 14, 14, 14, 14, 14, 14],\n",
       "       [15, 15, 15, 15, 15, 15, 15, 15, 15, 15],\n",
       "       [16, 16, 16, 16, 16, 16, 16, 16, 16, 16],\n",
       "       [17, 17, 17, 17, 17, 17, 17, 17, 17, 17],\n",
       "       [18, 18, 18, 18, 18, 18, 18, 18, 18, 18],\n",
       "       [19, 19, 19, 19, 19, 19, 19, 19, 19, 19],\n",
       "       [20, 20, 20, 20, 20, 20, 20, 20, 20, 20],\n",
       "       [21, 21, 21, 21, 21, 21, 21, 21, 21, 21],\n",
       "       [22, 22, 22, 22, 22, 22, 22, 22, 22, 22],\n",
       "       [23, 23, 23, 23, 23, 23, 23, 23, 23, 23],\n",
       "       [24, 24, 24, 24, 24, 24, 24, 24, 24, 24],\n",
       "       [25, 25, 25, 25, 25, 25, 25, 25, 25, 25],\n",
       "       [26, 26, 26, 26, 26, 26, 26, 26, 26, 26],\n",
       "       [27, 27, 27, 27, 27, 27, 27, 27, 27, 27],\n",
       "       [28, 28, 28, 28, 28, 28, 28, 28, 28, 28],\n",
       "       [29, 29, 29, 29, 29, 29, 29, 29, 29, 29],\n",
       "       [30, 30, 30, 30, 30, 30, 30, 30, 30, 30],\n",
       "       [31, 31, 31, 31, 31, 31, 31, 31, 31, 31],\n",
       "       [32, 32, 32, 32, 32, 32, 32, 32, 32, 32],\n",
       "       [33, 33, 33, 33, 33, 33, 33, 33, 33, 33],\n",
       "       [34, 34, 34, 34, 34, 34, 34, 34, 34, 34],\n",
       "       [35, 35, 35, 35, 35, 35, 35, 35, 35, 35],\n",
       "       [36, 36, 36, 36, 36, 36, 36, 36, 36, 36],\n",
       "       [37, 37, 37, 37, 37, 37, 37, 37, 37, 37],\n",
       "       [38, 38, 38, 38, 38, 38, 38, 38, 38, 38],\n",
       "       [39, 39, 39, 39, 39, 39, 39, 39, 39, 39],\n",
       "       [40, 40, 40, 40, 40, 40, 40, 40, 40, 40],\n",
       "       [41, 41, 41, 41, 41, 41, 41, 41, 41, 41],\n",
       "       [42, 42, 42, 42, 42, 42, 42, 42, 42, 42],\n",
       "       [43, 43, 43, 43, 43, 43, 43, 43, 43, 43],\n",
       "       [44, 44, 44, 44, 44, 44, 44, 44, 44, 44],\n",
       "       [45, 45, 45, 45, 45, 45, 45, 45, 45, 45],\n",
       "       [46, 46, 46, 46, 46, 46, 46, 46, 46, 46],\n",
       "       [47, 47, 47, 47, 47, 47, 47, 47, 47, 47],\n",
       "       [48, 48, 48, 48, 48, 48, 48, 48, 48, 48],\n",
       "       [49, 49, 49, 49, 49, 49, 49, 49, 49, 49],\n",
       "       [50, 50, 50, 50, 50, 50, 50, 50, 50, 50],\n",
       "       [51, 51, 51, 51, 51, 51, 51, 51, 51, 51],\n",
       "       [52, 52, 52, 52, 52, 52, 52, 52, 52, 52],\n",
       "       [53, 53, 53, 53, 53, 53, 53, 53, 53, 53],\n",
       "       [54, 54, 54, 54, 54, 54, 54, 54, 54, 54],\n",
       "       [55, 55, 55, 55, 55, 55, 55, 55, 55, 55],\n",
       "       [56, 56, 56, 56, 56, 56, 56, 56, 56, 56],\n",
       "       [57, 57, 57, 57, 57, 57, 57, 57, 57, 57],\n",
       "       [58, 58, 58, 58, 58, 58, 58, 58, 58, 58],\n",
       "       [59, 59, 59, 59, 59, 59, 59, 59, 59, 59],\n",
       "       [60, 60, 60, 60, 60, 60, 60, 60, 60, 60],\n",
       "       [61, 61, 61, 61, 61, 61, 61, 61, 61, 61],\n",
       "       [62, 62, 62, 62, 62, 62, 62, 62, 62, 62],\n",
       "       [63, 63, 63, 63, 63, 63, 63, 63, 63, 63],\n",
       "       [64, 64, 64, 64, 64, 64, 64, 64, 64, 64],\n",
       "       [65, 65, 65, 65, 65, 65, 65, 65, 65, 65],\n",
       "       [66, 66, 66, 66, 66, 66, 66, 66, 66, 66],\n",
       "       [67, 67, 67, 67, 67, 67, 67, 67, 67, 67],\n",
       "       [68, 68, 68, 68, 68, 68, 68, 68, 68, 68],\n",
       "       [69, 69, 69, 69, 69, 69, 69, 69, 69, 69],\n",
       "       [70, 70, 70, 70, 70, 70, 70, 70, 70, 70],\n",
       "       [71, 71, 71, 71, 71, 71, 71, 71, 71, 71],\n",
       "       [72, 72, 72, 72, 72, 72, 72, 72, 72, 72],\n",
       "       [73, 73, 73, 73, 73, 73, 73, 73, 73, 73],\n",
       "       [74, 74, 74, 74, 74, 74, 74, 74, 74, 74],\n",
       "       [75, 75, 75, 75, 75, 75, 75, 75, 75, 75],\n",
       "       [76, 76, 76, 76, 76, 76, 76, 76, 76, 76],\n",
       "       [77, 77, 77, 77, 77, 77, 77, 77, 77, 77],\n",
       "       [78, 78, 78, 78, 78, 78, 78, 78, 78, 78],\n",
       "       [79, 79, 79, 79, 79, 79, 79, 79, 79, 79],\n",
       "       [80, 80, 80, 80, 80, 80, 80, 80, 80, 80],\n",
       "       [81, 81, 81, 81, 81, 81, 81, 81, 81, 81],\n",
       "       [82, 82, 82, 82, 82, 82, 82, 82, 82, 82],\n",
       "       [83, 83, 83, 83, 83, 83, 83, 83, 83, 83],\n",
       "       [84, 84, 84, 84, 84, 84, 84, 84, 84, 84],\n",
       "       [85, 85, 85, 85, 85, 85, 85, 85, 85, 85],\n",
       "       [86, 86, 86, 86, 86, 86, 86, 86, 86, 86],\n",
       "       [87, 87, 87, 87, 87, 87, 87, 87, 87, 87],\n",
       "       [88, 88, 88, 88, 88, 88, 88, 88, 88, 88],\n",
       "       [89, 89, 89, 89, 89, 89, 89, 89, 89, 89],\n",
       "       [90, 90, 90, 90, 90, 90, 90, 90, 90, 90],\n",
       "       [91, 91, 91, 91, 91, 91, 91, 91, 91, 91],\n",
       "       [92, 92, 92, 92, 92, 92, 92, 92, 92, 92],\n",
       "       [93, 93, 93, 93, 93, 93, 93, 93, 93, 93],\n",
       "       [94, 94, 94, 94, 94, 94, 94, 94, 94, 94],\n",
       "       [95, 95, 95, 95, 95, 95, 95, 95, 95, 95],\n",
       "       [96, 96, 96, 96, 96, 96, 96, 96, 96, 96],\n",
       "       [97, 97, 97, 97, 97, 97, 97, 97, 97, 97],\n",
       "       [98, 98, 98, 98, 98, 98, 98, 98, 98, 98],\n",
       "       [99, 99, 99, 99, 99, 99, 99, 99, 99, 99]], dtype=int32)"
      ]
     },
     "execution_count": 22,
     "metadata": {},
     "output_type": "execute_result"
    }
   ],
   "source": [
    "file_uproot4[\"one/two/tree/ArrayInt32\"].array(library=\"np\")"
   ]
  },
  {
   "cell_type": "code",
   "execution_count": 23,
   "metadata": {},
   "outputs": [
    {
     "data": {
      "text/plain": [
       "array([array([], dtype=int64), array([1]), array([2, 2]),\n",
       "       array([3, 3, 3]), array([4, 4, 4, 4]), array([5, 5, 5, 5, 5]),\n",
       "       array([6, 6, 6, 6, 6, 6]), array([7, 7, 7, 7, 7, 7, 7]),\n",
       "       array([8, 8, 8, 8, 8, 8, 8, 8]),\n",
       "       array([9, 9, 9, 9, 9, 9, 9, 9, 9]), array([], dtype=int64),\n",
       "       array([11]), array([12, 12]), array([13, 13, 13]),\n",
       "       array([14, 14, 14, 14]), array([15, 15, 15, 15, 15]),\n",
       "       array([16, 16, 16, 16, 16, 16]),\n",
       "       array([17, 17, 17, 17, 17, 17, 17]),\n",
       "       array([18, 18, 18, 18, 18, 18, 18, 18]),\n",
       "       array([19, 19, 19, 19, 19, 19, 19, 19, 19]),\n",
       "       array([], dtype=int64), array([21]), array([22, 22]),\n",
       "       array([23, 23, 23]), array([24, 24, 24, 24]),\n",
       "       array([25, 25, 25, 25, 25]), array([26, 26, 26, 26, 26, 26]),\n",
       "       array([27, 27, 27, 27, 27, 27, 27]),\n",
       "       array([28, 28, 28, 28, 28, 28, 28, 28]),\n",
       "       array([29, 29, 29, 29, 29, 29, 29, 29, 29]),\n",
       "       array([], dtype=int64), array([31]), array([32, 32]),\n",
       "       array([33, 33, 33]), array([34, 34, 34, 34]),\n",
       "       array([35, 35, 35, 35, 35]), array([36, 36, 36, 36, 36, 36]),\n",
       "       array([37, 37, 37, 37, 37, 37, 37]),\n",
       "       array([38, 38, 38, 38, 38, 38, 38, 38]),\n",
       "       array([39, 39, 39, 39, 39, 39, 39, 39, 39]),\n",
       "       array([], dtype=int64), array([41]), array([42, 42]),\n",
       "       array([43, 43, 43]), array([44, 44, 44, 44]),\n",
       "       array([45, 45, 45, 45, 45]), array([46, 46, 46, 46, 46, 46]),\n",
       "       array([47, 47, 47, 47, 47, 47, 47]),\n",
       "       array([48, 48, 48, 48, 48, 48, 48, 48]),\n",
       "       array([49, 49, 49, 49, 49, 49, 49, 49, 49]),\n",
       "       array([], dtype=int64), array([51]), array([52, 52]),\n",
       "       array([53, 53, 53]), array([54, 54, 54, 54]),\n",
       "       array([55, 55, 55, 55, 55]), array([56, 56, 56, 56, 56, 56]),\n",
       "       array([57, 57, 57, 57, 57, 57, 57]),\n",
       "       array([58, 58, 58, 58, 58, 58, 58, 58]),\n",
       "       array([59, 59, 59, 59, 59, 59, 59, 59, 59]),\n",
       "       array([], dtype=int64), array([61]), array([62, 62]),\n",
       "       array([63, 63, 63]), array([64, 64, 64, 64]),\n",
       "       array([65, 65, 65, 65, 65]), array([66, 66, 66, 66, 66, 66]),\n",
       "       array([67, 67, 67, 67, 67, 67, 67]),\n",
       "       array([68, 68, 68, 68, 68, 68, 68, 68]),\n",
       "       array([69, 69, 69, 69, 69, 69, 69, 69, 69]),\n",
       "       array([], dtype=int64), array([71]), array([72, 72]),\n",
       "       array([73, 73, 73]), array([74, 74, 74, 74]),\n",
       "       array([75, 75, 75, 75, 75]), array([76, 76, 76, 76, 76, 76]),\n",
       "       array([77, 77, 77, 77, 77, 77, 77]),\n",
       "       array([78, 78, 78, 78, 78, 78, 78, 78]),\n",
       "       array([79, 79, 79, 79, 79, 79, 79, 79, 79]),\n",
       "       array([], dtype=int64), array([81]), array([82, 82]),\n",
       "       array([83, 83, 83]), array([84, 84, 84, 84]),\n",
       "       array([85, 85, 85, 85, 85]), array([86, 86, 86, 86, 86, 86]),\n",
       "       array([87, 87, 87, 87, 87, 87, 87]),\n",
       "       array([88, 88, 88, 88, 88, 88, 88, 88]),\n",
       "       array([89, 89, 89, 89, 89, 89, 89, 89, 89]),\n",
       "       array([], dtype=int64), array([91]), array([92, 92]),\n",
       "       array([93, 93, 93]), array([94, 94, 94, 94]),\n",
       "       array([95, 95, 95, 95, 95]), array([96, 96, 96, 96, 96, 96]),\n",
       "       array([97, 97, 97, 97, 97, 97, 97]),\n",
       "       array([98, 98, 98, 98, 98, 98, 98, 98]),\n",
       "       array([99, 99, 99, 99, 99, 99, 99, 99, 99])], dtype=object)"
      ]
     },
     "execution_count": 23,
     "metadata": {},
     "output_type": "execute_result"
    }
   ],
   "source": [
    "file_uproot4[\"one/two/tree/SliceInt64\"].array(library=\"np\")"
   ]
  },
  {
   "cell_type": "markdown",
   "metadata": {},
   "source": [
    "Also, Pandas is a `library`, rather than a special function, as well as CuPy (GPU arrays) and any others we might want to add in the future."
   ]
  },
  {
   "cell_type": "code",
   "execution_count": 24,
   "metadata": {},
   "outputs": [
    {
     "data": {
      "text/plain": [
       "entry  subentry\n",
       "1      0            1\n",
       "2      0            2\n",
       "       1            2\n",
       "3      0            3\n",
       "       1            3\n",
       "                   ..\n",
       "99     4           99\n",
       "       5           99\n",
       "       6           99\n",
       "       7           99\n",
       "       8           99\n",
       "Length: 450, dtype: int64"
      ]
     },
     "execution_count": 24,
     "metadata": {},
     "output_type": "execute_result"
    }
   ],
   "source": [
    "file_uproot4[\"one/two/tree/SliceInt64\"].array(library=\"pd\")"
   ]
  },
  {
   "cell_type": "markdown",
   "metadata": {},
   "source": [
    "## How ROOT data are organized\n",
    "\n",
    "Objects in directories are referenced by keys—you can ignore these, as they just make the square brackets syntax work.\n",
    "\n",
    "A TTree's TBranches are either containers of data, convertible to arrays, or placeholders in a hierarchy describing a \"split\" object (more on that later).\n",
    "\n",
    "The actual data are broken up into TBaskets, which is the smallest unit that can be read from a compressed file. There's no such thing as \"reading one event,\" unless you have one TBasket per event (which would be inefficient when reading many events).\n",
    "\n",
    "![](img/terminology.png)\n",
    "\n",
    "Often, you can ignore TBaskets: Uproot treats TBranches as the fundamental unit, with one TBranch → one array.\n",
    "\n",
    "But if your file compresses poorly or is slow to read, check the TBasket sizes to see that they are at least 10's to 100's of kilobytes each."
   ]
  },
  {
   "cell_type": "code",
   "execution_count": 25,
   "metadata": {},
   "outputs": [
    {
     "data": {
      "text/plain": [
       "<TTree b'Events' at 0x7f0d96267e50>"
      ]
     },
     "execution_count": 25,
     "metadata": {},
     "output_type": "execute_result"
    }
   ],
   "source": [
    "events = uproot.open(\"data/cms_opendata_2012_nanoaod_DoubleMuParked.root\")[\"Events\"]\n",
    "events"
   ]
  },
  {
   "cell_type": "code",
   "execution_count": 26,
   "metadata": {},
   "outputs": [
    {
     "name": "stdout",
     "output_type": "stream",
     "text": [
      "run                   5 baskets [950.0234375, 950.0234375, 950.0234375, 950.0234375, 106.15625] kB each\n",
      "luminosityBlock       5 baskets [950.0234375, 950.0234375, 950.0234375, 950.0234375, 106.15625] kB each\n",
      "event                 5 baskets [1900.046875, 1900.046875, 1900.046875, 1900.046875, 212.3125] kB each\n",
      "PV_npvs               5 baskets [950.0234375, 950.0234375, 950.0234375, 950.0234375, 106.15625] kB each\n",
      "PV_x                  5 baskets [950.0234375, 950.0234375, 950.0234375, 950.0234375, 106.15625] kB each\n",
      "PV_y                  5 baskets [950.0234375, 950.0234375, 950.0234375, 950.0234375, 106.15625] kB each\n",
      "PV_z                  5 baskets [950.0234375, 950.0234375, 950.0234375, 950.0234375, 106.15625] kB each\n",
      "nMuon                 5 baskets [950.0234375, 950.0234375, 950.0234375, 950.0234375, 106.15625] kB each\n",
      "Muon_pt              12 baskets [2486.1875, 709.421875, 1502.57421875, 1502.59375, 193.62890625, 1502.984375, 1502.25, 192.41015625, 1502.4765625, 1502.4140625, 192.50390625, 360.43359375] kB each\n",
      "Muon_eta             12 baskets [2486.1875, 709.421875, 1502.57421875, 1502.59375, 193.62890625, 1502.984375, 1502.25, 192.41015625, 1502.4765625, 1502.4140625, 192.50390625, 360.43359375] kB each\n",
      "Muon_phi             12 baskets [2486.1875, 709.421875, 1502.57421875, 1502.59375, 193.62890625, 1502.984375, 1502.25, 192.41015625, 1502.4765625, 1502.4140625, 192.50390625, 360.43359375] kB each\n",
      "Muon_mass            12 baskets [2486.5625, 709.046875, 1502.57421875, 1502.59375, 193.62890625, 1502.984375, 1502.25, 192.41015625, 1502.4765625, 1502.4140625, 192.50390625, 360.43359375] kB each\n",
      "Muon_charge          12 baskets [2486.5546875, 709.0546875, 1502.57421875, 1502.59375, 193.62890625, 1502.984375, 1502.25, 192.41015625, 1502.4765625, 1502.4140625, 192.50390625, 360.43359375] kB each\n",
      "Muon_pfRelIso04_all  12 baskets [2487.703125, 707.90625, 1502.5625, 1502.58203125, 193.65234375, 1502.984375, 1502.25, 192.41015625, 1502.4609375, 1502.40625, 192.52734375, 360.43359375] kB each\n",
      "Muon_tightId          9 baskets [937.4560546875, 573.9755859375, 1196.84375, 315.3828125, 1196.822265625, 315.1162109375, 1196.85546875, 315.0205078125, 169.7314453125] kB each\n"
     ]
    }
   ],
   "source": [
    "for name in events.keys():\n",
    "    print(f\"{name.decode():20} {events[name].numbaskets:2d} baskets {[events[name].basket_uncompressedbytes(i)/1024 for i in range(events[name].numbaskets)]} kB each\")"
   ]
  },
  {
   "cell_type": "markdown",
   "metadata": {},
   "source": [
    "This affects ROOT performance, but it affects Uproot performance _more_.\n",
    "\n",
    "![](img/root-none-muon.png)\n",
    "\n",
    "(The TFile-TTree-TBranch-TBasket structure has to be navigated in slow Python, but reading/decompressing/interpreting a TBasket is a NumPy call, about as fast as the hardware allows.)"
   ]
  },
  {
   "cell_type": "markdown",
   "metadata": {},
   "source": [
    "## Split objects\n",
    "\n",
    "ROOT TTrees are intended to deliver collections of C++ objects. Strictly speaking, these objects have no equivalent in Python—certainly their C++ methods can't be executed by Python. (The C++ code is not stored in the file with the data, even if we had a runtime C++ compiler. That's why some ROOT scripts require `.L` to load libraries.)\n",
    "\n",
    "What the ROOT files _do_ provide is a list of each class's private member data and how they are laid out in bytes (called the `TStreamerInfo`). We can use that to generate Python classes and reconstruct the objects. However, that has to run in slow Python, not fast NumPy.\n",
    "\n",
    "As a storage optimization, ROOT files can be written with each member datum in a separate branch. This is called the \"splitLevel\" and [you can control it when writing files](https://root.cern.ch/doc/master/classTTree.html#addingacolumnofobjs) (if you have access to the process that writes files).\n",
    "\n",
    "Split data are\n",
    "\n",
    "   * less likely to contain unsupported features (data structures that Uproot can't read might be in a branch you don't need to read);\n",
    "   * often faster because they can be read in a single NumPy call, rather than many Python statements;\n",
    "   * possible to read one column at a time, without touching the others (in ROOT and Uproot).\n",
    "\n",
    "Let's look at an example of the same data in unsplit and split form:"
   ]
  },
  {
   "cell_type": "code",
   "execution_count": 27,
   "metadata": {},
   "outputs": [],
   "source": [
    "unsplit = uproot.open(\"data/small-evnt-tree-nosplit.root\")[\"tree\"]\n",
    "split = uproot.open(\"data/small-evnt-tree-fullsplit.root\")[\"tree\"]"
   ]
  },
  {
   "cell_type": "code",
   "execution_count": 28,
   "metadata": {},
   "outputs": [
    {
     "name": "stdout",
     "output_type": "stream",
     "text": [
      "evt                        TStreamerInfo              asgenobj(Event)\n"
     ]
    }
   ],
   "source": [
    "unsplit.show()"
   ]
  },
  {
   "cell_type": "code",
   "execution_count": 29,
   "metadata": {},
   "outputs": [
    {
     "name": "stdout",
     "output_type": "stream",
     "text": [
      "evt                        TStreamerInfo              None\n",
      "Beg                        TStreamerString            asstring()\n",
      "I16                        TStreamerBasicType         asdtype('>i2')\n",
      "I32                        TStreamerBasicType         asdtype('>i4')\n",
      "I64                        TStreamerBasicType         asdtype('>i8')\n",
      "U16                        TStreamerBasicType         asdtype('>u2')\n",
      "U32                        TStreamerBasicType         asdtype('>u4')\n",
      "U64                        TStreamerBasicType         asdtype('>u8')\n",
      "F32                        TStreamerBasicType         asdtype('>f4')\n",
      "F64                        TStreamerBasicType         asdtype('>f8')\n",
      "Str                        TStreamerString            asstring()\n",
      "P3                         TStreamerObjectAny         None\n",
      "P3.Px                      TStreamerBasicType         asdtype('>i4')\n",
      "P3.Py                      TStreamerBasicType         asdtype('>f8')\n",
      "P3.Pz                      TStreamerBasicType         asdtype('>i4')\n",
      "\n",
      "ArrayI16[10]               TStreamerBasicType         asdtype(\"('>i2', (10,))\")\n",
      "ArrayI32[10]               TStreamerBasicType         asdtype(\"('>i4', (10,))\")\n",
      "ArrayI64[10]               TStreamerBasicType         asdtype(\"('>i8', (10,))\")\n",
      "ArrayU16[10]               TStreamerBasicType         asdtype(\"('>u2', (10,))\")\n",
      "ArrayU32[10]               TStreamerBasicType         asdtype(\"('>u4', (10,))\")\n",
      "ArrayU64[10]               TStreamerBasicType         asdtype(\"('>u8', (10,))\")\n",
      "ArrayF32[10]               TStreamerBasicType         asdtype(\"('>f4', (10,))\")\n",
      "ArrayF64[10]               TStreamerBasicType         asdtype(\"('>f8', (10,))\")\n",
      "N                          TStreamerBasicType         asdtype('>u4')\n",
      "SliceI16                   TStreamerBasicPointer      asjagged(asdtype('>i2'), 1)\n",
      "SliceI32                   TStreamerBasicPointer      asjagged(asdtype('>i4'), 1)\n",
      "SliceI64                   TStreamerBasicPointer      asjagged(asdtype('>i8'), 1)\n",
      "SliceU16                   TStreamerBasicPointer      asjagged(asdtype('>u2'), 1)\n",
      "SliceU32                   TStreamerBasicPointer      asjagged(asdtype('>u4'), 1)\n",
      "SliceU64                   TStreamerBasicPointer      asjagged(asdtype('>u8'), 1)\n",
      "SliceF32                   TStreamerBasicPointer      asjagged(asdtype('>f4'), 1)\n",
      "SliceF64                   TStreamerBasicPointer      asjagged(asdtype('>f8'), 1)\n",
      "StdStr                     TStreamerSTLstring         asstring(7)\n",
      "StlVecI16                  TStreamerSTL               asjagged(asdtype('>i2'), 10)\n",
      "StlVecI32                  TStreamerSTL               asjagged(asdtype('>i4'), 10)\n",
      "StlVecI64                  TStreamerSTL               asjagged(asdtype('>i8'), 10)\n",
      "StlVecU16                  TStreamerSTL               asjagged(asdtype('>u2'), 10)\n",
      "StlVecU32                  TStreamerSTL               asjagged(asdtype('>u4'), 10)\n",
      "StlVecU64                  TStreamerSTL               asjagged(asdtype('>u8'), 10)\n",
      "StlVecF32                  TStreamerSTL               asjagged(asdtype('>f4'), 10)\n",
      "StlVecF64                  TStreamerSTL               asjagged(asdtype('>f8'), 10)\n",
      "StlVecStr                  TStreamerSTL               asgenobj(STLVector(STLString()))\n",
      "End                        TStreamerString            asstring()\n",
      "\n"
     ]
    }
   ],
   "source": [
    "split.show()"
   ]
  },
  {
   "cell_type": "markdown",
   "metadata": {},
   "source": [
    "We can read the unsplit data, and they are Python objects with attributes."
   ]
  },
  {
   "cell_type": "code",
   "execution_count": 30,
   "metadata": {},
   "outputs": [
    {
     "data": {
      "text/plain": [
       "<ObjectArray [<Event at 0x7f0d93277dd0> <Event at 0x7f0d93277cd0> <Event at 0x7f0d93277d10> ... <Event at 0x7f0d93277b10> <Event at 0x7f0d93277c90> <Event at 0x7f0d93277f50>] at 0x7f0d93267c50>"
      ]
     },
     "execution_count": 30,
     "metadata": {},
     "output_type": "execute_result"
    }
   ],
   "source": [
    "unsplit_events = unsplit[\"evt\"].array()\n",
    "unsplit_events"
   ]
  },
  {
   "cell_type": "code",
   "execution_count": 37,
   "metadata": {},
   "outputs": [
    {
     "data": {
      "text/plain": [
       "array([5, 5, 5, 5, 5])"
      ]
     },
     "execution_count": 37,
     "metadata": {},
     "output_type": "execute_result"
    }
   ],
   "source": [
    "unsplit_events[5]._SliceI64"
   ]
  },
  {
   "cell_type": "markdown",
   "metadata": {},
   "source": [
    "We could ask for all attributes of one event."
   ]
  },
  {
   "cell_type": "code",
   "execution_count": 39,
   "metadata": {},
   "outputs": [
    {
     "data": {
      "text/plain": [
       "{'Beg': b'beg-005',\n",
       " 'I16': 5,\n",
       " 'I32': 5,\n",
       " 'I64': 5,\n",
       " 'U16': 5,\n",
       " 'U32': 5,\n",
       " 'U64': 5,\n",
       " 'F32': 5.0,\n",
       " 'F64': 5.0,\n",
       " 'Str': b'evt-005',\n",
       " 'P3': <Undefined (failed to read 'P3' version 0) at 0x7f0d9327f210>,\n",
       " 'ArrayI16': array([5, 5, 5, 5, 5, 5, 5, 5, 5, 5], dtype=int16),\n",
       " 'ArrayI32': array([5, 5, 5, 5, 5, 5, 5, 5, 5, 5], dtype=int32),\n",
       " 'ArrayI64': array([5, 5, 5, 5, 5, 5, 5, 5, 5, 5]),\n",
       " 'ArrayU16': array([5, 5, 5, 5, 5, 5, 5, 5, 5, 5], dtype=uint16),\n",
       " 'ArrayU32': array([5, 5, 5, 5, 5, 5, 5, 5, 5, 5], dtype=uint32),\n",
       " 'ArrayU64': array([5, 5, 5, 5, 5, 5, 5, 5, 5, 5], dtype=uint64),\n",
       " 'ArrayF32': array([5., 5., 5., 5., 5., 5., 5., 5., 5., 5.], dtype=float32),\n",
       " 'ArrayF64': array([5., 5., 5., 5., 5., 5., 5., 5., 5., 5.]),\n",
       " 'N': 5,\n",
       " 'SliceI16': array([5, 5, 5, 5, 5], dtype=int16),\n",
       " 'SliceI32': array([5, 5, 5, 5, 5], dtype=int32),\n",
       " 'SliceI64': array([5, 5, 5, 5, 5]),\n",
       " 'SliceU16': array([5, 5, 5, 5, 5], dtype=uint16),\n",
       " 'SliceU32': array([5, 5, 5, 5, 5], dtype=uint32),\n",
       " 'SliceU64': array([5, 5, 5, 5, 5], dtype=uint64),\n",
       " 'SliceF32': array([5., 5., 5., 5., 5.], dtype=float32),\n",
       " 'SliceF64': array([5., 5., 5., 5., 5.]),\n",
       " 'StdStr': b'std-005',\n",
       " 'StlVecI16': array([5, 5, 5, 5, 5], dtype=int16),\n",
       " 'StlVecI32': array([5, 5, 5, 5, 5], dtype=int32),\n",
       " 'StlVecI64': array([5, 5, 5, 5, 5]),\n",
       " 'StlVecU16': array([5, 5, 5, 5, 5], dtype=uint16),\n",
       " 'StlVecU32': array([5, 5, 5, 5, 5], dtype=uint32),\n",
       " 'StlVecU64': array([5, 5, 5, 5, 5], dtype=uint64),\n",
       " 'StlVecF32': array([5., 5., 5., 5., 5.], dtype=float32),\n",
       " 'StlVecF64': array([5., 5., 5., 5., 5.]),\n",
       " 'End': b'end-005'}"
      ]
     },
     "execution_count": 39,
     "metadata": {},
     "output_type": "execute_result"
    }
   ],
   "source": [
    "{name: getattr(unsplit_events[5], \"_\" + name) for name in unsplit_events[5]._fields}"
   ]
  },
  {
   "cell_type": "markdown",
   "metadata": {},
   "source": [
    "Or we could ask for the same attribute from all events."
   ]
  },
  {
   "cell_type": "code",
   "execution_count": 31,
   "metadata": {},
   "outputs": [
    {
     "data": {
      "text/plain": [
       "[array([], dtype=int64),\n",
       " array([1]),\n",
       " array([2, 2]),\n",
       " array([3, 3, 3]),\n",
       " array([4, 4, 4, 4]),\n",
       " array([5, 5, 5, 5, 5]),\n",
       " array([6, 6, 6, 6, 6, 6]),\n",
       " array([7, 7, 7, 7, 7, 7, 7]),\n",
       " array([8, 8, 8, 8, 8, 8, 8, 8]),\n",
       " array([9, 9, 9, 9, 9, 9, 9, 9, 9]),\n",
       " array([], dtype=int64),\n",
       " array([11]),\n",
       " array([12, 12]),\n",
       " array([13, 13, 13]),\n",
       " array([14, 14, 14, 14]),\n",
       " array([15, 15, 15, 15, 15]),\n",
       " array([16, 16, 16, 16, 16, 16]),\n",
       " array([17, 17, 17, 17, 17, 17, 17]),\n",
       " array([18, 18, 18, 18, 18, 18, 18, 18]),\n",
       " array([19, 19, 19, 19, 19, 19, 19, 19, 19]),\n",
       " array([], dtype=int64),\n",
       " array([21]),\n",
       " array([22, 22]),\n",
       " array([23, 23, 23]),\n",
       " array([24, 24, 24, 24]),\n",
       " array([25, 25, 25, 25, 25]),\n",
       " array([26, 26, 26, 26, 26, 26]),\n",
       " array([27, 27, 27, 27, 27, 27, 27]),\n",
       " array([28, 28, 28, 28, 28, 28, 28, 28]),\n",
       " array([29, 29, 29, 29, 29, 29, 29, 29, 29]),\n",
       " array([], dtype=int64),\n",
       " array([31]),\n",
       " array([32, 32]),\n",
       " array([33, 33, 33]),\n",
       " array([34, 34, 34, 34]),\n",
       " array([35, 35, 35, 35, 35]),\n",
       " array([36, 36, 36, 36, 36, 36]),\n",
       " array([37, 37, 37, 37, 37, 37, 37]),\n",
       " array([38, 38, 38, 38, 38, 38, 38, 38]),\n",
       " array([39, 39, 39, 39, 39, 39, 39, 39, 39]),\n",
       " array([], dtype=int64),\n",
       " array([41]),\n",
       " array([42, 42]),\n",
       " array([43, 43, 43]),\n",
       " array([44, 44, 44, 44]),\n",
       " array([45, 45, 45, 45, 45]),\n",
       " array([46, 46, 46, 46, 46, 46]),\n",
       " array([47, 47, 47, 47, 47, 47, 47]),\n",
       " array([48, 48, 48, 48, 48, 48, 48, 48]),\n",
       " array([49, 49, 49, 49, 49, 49, 49, 49, 49]),\n",
       " array([], dtype=int64),\n",
       " array([51]),\n",
       " array([52, 52]),\n",
       " array([53, 53, 53]),\n",
       " array([54, 54, 54, 54]),\n",
       " array([55, 55, 55, 55, 55]),\n",
       " array([56, 56, 56, 56, 56, 56]),\n",
       " array([57, 57, 57, 57, 57, 57, 57]),\n",
       " array([58, 58, 58, 58, 58, 58, 58, 58]),\n",
       " array([59, 59, 59, 59, 59, 59, 59, 59, 59]),\n",
       " array([], dtype=int64),\n",
       " array([61]),\n",
       " array([62, 62]),\n",
       " array([63, 63, 63]),\n",
       " array([64, 64, 64, 64]),\n",
       " array([65, 65, 65, 65, 65]),\n",
       " array([66, 66, 66, 66, 66, 66]),\n",
       " array([67, 67, 67, 67, 67, 67, 67]),\n",
       " array([68, 68, 68, 68, 68, 68, 68, 68]),\n",
       " array([69, 69, 69, 69, 69, 69, 69, 69, 69]),\n",
       " array([], dtype=int64),\n",
       " array([71]),\n",
       " array([72, 72]),\n",
       " array([73, 73, 73]),\n",
       " array([74, 74, 74, 74]),\n",
       " array([75, 75, 75, 75, 75]),\n",
       " array([76, 76, 76, 76, 76, 76]),\n",
       " array([77, 77, 77, 77, 77, 77, 77]),\n",
       " array([78, 78, 78, 78, 78, 78, 78, 78]),\n",
       " array([79, 79, 79, 79, 79, 79, 79, 79, 79]),\n",
       " array([], dtype=int64),\n",
       " array([81]),\n",
       " array([82, 82]),\n",
       " array([83, 83, 83]),\n",
       " array([84, 84, 84, 84]),\n",
       " array([85, 85, 85, 85, 85]),\n",
       " array([86, 86, 86, 86, 86, 86]),\n",
       " array([87, 87, 87, 87, 87, 87, 87]),\n",
       " array([88, 88, 88, 88, 88, 88, 88, 88]),\n",
       " array([89, 89, 89, 89, 89, 89, 89, 89, 89]),\n",
       " array([], dtype=int64),\n",
       " array([91]),\n",
       " array([92, 92]),\n",
       " array([93, 93, 93]),\n",
       " array([94, 94, 94, 94]),\n",
       " array([95, 95, 95, 95, 95]),\n",
       " array([96, 96, 96, 96, 96, 96]),\n",
       " array([97, 97, 97, 97, 97, 97, 97]),\n",
       " array([98, 98, 98, 98, 98, 98, 98, 98]),\n",
       " array([99, 99, 99, 99, 99, 99, 99, 99, 99])]"
      ]
     },
     "execution_count": 31,
     "metadata": {},
     "output_type": "execute_result"
    }
   ],
   "source": [
    "list_of_numpy_arrays = [x._SliceI64 for x in unsplit_events]\n",
    "list_of_numpy_arrays"
   ]
  },
  {
   "cell_type": "markdown",
   "metadata": {},
   "source": [
    "The latter approximates what the split file already has: a column representing a single field of all events."
   ]
  },
  {
   "cell_type": "code",
   "execution_count": 32,
   "metadata": {},
   "outputs": [
    {
     "data": {
      "text/plain": [
       "<JaggedArray [[] [1] [2 2] ... [97 97 97 ... 97 97 97] [98 98 98 ... 98 98 98] [99 99 99 ... 99 99 99]] at 0x7f0d9689c950>"
      ]
     },
     "execution_count": 32,
     "metadata": {},
     "output_type": "execute_result"
    }
   ],
   "source": [
    "jagged_array = split[\"SliceI64\"].array()\n",
    "jagged_array"
   ]
  },
  {
   "cell_type": "markdown",
   "metadata": {},
   "source": [
    "It looks different because it is different:\n",
    "\n",
    "   * the Python list comprehension over unsplit objects made a list of NumPy arrays;\n",
    "   * the split data was directly read into a JaggedArray.\n",
    "\n",
    "The JaggedArray has features that the list of NumPy arrays doesn't (more on Awkward Array in the second hour)."
   ]
  },
  {
   "cell_type": "code",
   "execution_count": 33,
   "metadata": {},
   "outputs": [
    {
     "data": {
      "text/plain": [
       "<JaggedArray [[] [1] [2 2] ... [97 97 97] [98 98 98] [99 99 99]] at 0x7f0d9327fa90>"
      ]
     },
     "execution_count": 33,
     "metadata": {},
     "output_type": "execute_result"
    }
   ],
   "source": [
    "jagged_array[:, :3]"
   ]
  },
  {
   "cell_type": "code",
   "execution_count": 34,
   "metadata": {
    "tags": [
     "raises-exception"
    ]
   },
   "outputs": [
    {
     "ename": "TypeError",
     "evalue": "list indices must be integers or slices, not tuple",
     "output_type": "error",
     "traceback": [
      "\u001b[0;31m---------------------------------------------------------------------------\u001b[0m",
      "\u001b[0;31mTypeError\u001b[0m                                 Traceback (most recent call last)",
      "\u001b[0;32m<ipython-input-34-1742d92ccb95>\u001b[0m in \u001b[0;36m<module>\u001b[0;34m\u001b[0m\n\u001b[0;32m----> 1\u001b[0;31m \u001b[0mlist_of_numpy_arrays\u001b[0m\u001b[0;34m[\u001b[0m\u001b[0;34m:\u001b[0m\u001b[0;34m,\u001b[0m \u001b[0;34m:\u001b[0m\u001b[0;36m3\u001b[0m\u001b[0;34m]\u001b[0m\u001b[0;34m\u001b[0m\u001b[0;34m\u001b[0m\u001b[0m\n\u001b[0m",
      "\u001b[0;31mTypeError\u001b[0m: list indices must be integers or slices, not tuple"
     ]
    }
   ],
   "source": [
    "list_of_numpy_arrays[:, :3]"
   ]
  },
  {
   "cell_type": "markdown",
   "metadata": {},
   "source": [
    "Through a construction, we can get the same kind of objects from unsplit data:"
   ]
  },
  {
   "cell_type": "code",
   "execution_count": 41,
   "metadata": {},
   "outputs": [
    {
     "data": {
      "text/plain": [
       "<Array [{Beg: b'beg-000', ... End: b'end-099'}] type='100 * {\"Beg\": bytes, \"I16\"...'>"
      ]
     },
     "execution_count": 41,
     "metadata": {},
     "output_type": "execute_result"
    }
   ],
   "source": [
    "import awkward1 as ak\n",
    "\n",
    "events = ak.Array([{name: getattr(obj, \"_\" + name) for name in obj._fields if name != \"P3\"} for obj in unsplit_events])\n",
    "events"
   ]
  },
  {
   "cell_type": "code",
   "execution_count": 45,
   "metadata": {},
   "outputs": [
    {
     "data": {
      "text/plain": [
       "100 * {\"Beg\": bytes, \"I16\": int64, \"I32\": int64, \"I64\": int64, \"U16\": int64, \"U32\": int64, \"U64\": int64, \"F32\": float64, \"F64\": float64, \"Str\": bytes, \"ArrayI16\": var * int64, \"ArrayI32\": var * int64, \"ArrayI64\": var * int64, \"ArrayU16\": var * int64, \"ArrayU32\": var * int64, \"ArrayU64\": var * int64, \"ArrayF32\": var * float64, \"ArrayF64\": var * float64, \"N\": int64, \"SliceI16\": var * int64, \"SliceI32\": var * int64, \"SliceI64\": var * int64, \"SliceU16\": var * int64, \"SliceU32\": var * int64, \"SliceU64\": var * int64, \"SliceF32\": var * float64, \"SliceF64\": var * float64, \"StdStr\": bytes, \"StlVecI16\": var * int64, \"StlVecI32\": var * int64, \"StlVecI64\": var * int64, \"StlVecU16\": var * int64, \"StlVecU32\": var * int64, \"StlVecU64\": var * int64, \"StlVecF32\": var * float64, \"StlVecF64\": var * float64, \"End\": bytes}"
      ]
     },
     "execution_count": 45,
     "metadata": {},
     "output_type": "execute_result"
    }
   ],
   "source": [
    "ak.type(events)"
   ]
  },
  {
   "cell_type": "code",
   "execution_count": 42,
   "metadata": {},
   "outputs": [
    {
     "data": {
      "text/plain": [
       "<Array [[], [1], [2, ... 99, 99, 99, 99, 99]] type='100 * var * int64'>"
      ]
     },
     "execution_count": 42,
     "metadata": {},
     "output_type": "execute_result"
    }
   ],
   "source": [
    "events.SliceI64"
   ]
  },
  {
   "cell_type": "code",
   "execution_count": 43,
   "metadata": {},
   "outputs": [
    {
     "data": {
      "text/plain": [
       "<Array [[], [1], [2, ... 99, 99, 99, 99, 99]] type='100 * var * int64'>"
      ]
     },
     "execution_count": 43,
     "metadata": {},
     "output_type": "execute_result"
    }
   ],
   "source": [
    "ak.from_awkward0(jagged_array)"
   ]
  },
  {
   "cell_type": "code",
   "execution_count": 46,
   "metadata": {},
   "outputs": [
    {
     "data": {
      "text/plain": [
       "<Array [[], [True], ... True, True, True]] type='100 * var * bool'>"
      ]
     },
     "execution_count": 46,
     "metadata": {},
     "output_type": "execute_result"
    }
   ],
   "source": [
    "ak.from_awkward0(jagged_array) == events.SliceI64"
   ]
  },
  {
   "cell_type": "code",
   "execution_count": 47,
   "metadata": {},
   "outputs": [
    {
     "data": {
      "text/plain": [
       "True"
      ]
     },
     "execution_count": 47,
     "metadata": {},
     "output_type": "execute_result"
    }
   ],
   "source": [
    "ak.all(ak.from_awkward0(jagged_array) == events.SliceI64)"
   ]
  },
  {
   "cell_type": "markdown",
   "metadata": {},
   "source": [
    "But you should not have to write this manually. Uproot 4 will do that for you (taking advantage of some Awkward 1 features)."
   ]
  },
  {
   "cell_type": "markdown",
   "metadata": {},
   "source": [
    "## Active objects\n",
    "\n",
    "Sometimes, though, we want objects to have methods. TTree (also auto-generated from `TStreamerInfo`, like anything else) is a prime example: we want TTrees to have methods that read TBaskets and convert them into arrays.\n",
    "\n",
    "Uproot has a stable set of \"mixin classes,\" which define methods but no data, as well as the auto-generated \"models\" that deserialize and store data. Runtime classes inherit from both.\n",
    "\n",
    "Histograms, for instance, have some analysis methods."
   ]
  },
  {
   "cell_type": "code",
   "execution_count": 48,
   "metadata": {},
   "outputs": [
    {
     "data": {
      "text/plain": [
       "[(b'hpx;1', 'TH1F'),\n",
       " (b'hpxpy;1', 'TH2F'),\n",
       " (b'hprof;1', 'TProfile'),\n",
       " (b'ntuple;1', 'TNtuple')]"
      ]
     },
     "execution_count": 48,
     "metadata": {},
     "output_type": "execute_result"
    }
   ],
   "source": [
    "histograms = uproot.open(\"data/hepdata-example.root\")\n",
    "histograms.classnames()"
   ]
  },
  {
   "cell_type": "code",
   "execution_count": 49,
   "metadata": {},
   "outputs": [
    {
     "name": "stdout",
     "output_type": "stream",
     "text": [
      "                    0                                                     2537.8\n",
      "                    +----------------------------------------------------------+\n",
      "[-inf, -4)     2    |                                                          |\n",
      "[-4, -3.92)    2    |                                                          |\n",
      "[-3.92, -3.84) 3    |                                                          |\n",
      "[-3.84, -3.76) 1    |                                                          |\n",
      "[-3.76, -3.68) 1    |                                                          |\n",
      "[-3.68, -3.6)  2    |                                                          |\n",
      "[-3.6, -3.52)  4    |                                                          |\n",
      "[-3.52, -3.44) 6    |                                                          |\n",
      "[-3.44, -3.36) 12   |                                                          |\n",
      "[-3.36, -3.28) 8    |                                                          |\n",
      "[-3.28, -3.2)  9    |                                                          |\n",
      "[-3.2, -3.12)  15   |                                                          |\n",
      "[-3.12, -3.04) 15   |                                                          |\n",
      "[-3.04, -2.96) 31   |*                                                         |\n",
      "[-2.96, -2.88) 35   |*                                                         |\n",
      "[-2.88, -2.8)  40   |*                                                         |\n",
      "[-2.8, -2.72)  64   |*                                                         |\n",
      "[-2.72, -2.64) 64   |*                                                         |\n",
      "[-2.64, -2.56) 81   |**                                                        |\n",
      "[-2.56, -2.48) 108  |**                                                        |\n",
      "[-2.48, -2.4)  124  |***                                                       |\n",
      "[-2.4, -2.32)  156  |****                                                      |\n",
      "[-2.32, -2.24) 165  |****                                                      |\n",
      "[-2.24, -2.16) 209  |*****                                                     |\n",
      "[-2.16, -2.08) 262  |******                                                    |\n",
      "[-2.08, -2)    297  |*******                                                   |\n",
      "[-2, -1.92)    392  |*********                                                 |\n",
      "[-1.92, -1.84) 432  |**********                                                |\n",
      "[-1.84, -1.76) 466  |***********                                               |\n",
      "[-1.76, -1.68) 521  |************                                              |\n",
      "[-1.68, -1.6)  604  |**************                                            |\n",
      "[-1.6, -1.52)  657  |***************                                           |\n",
      "[-1.52, -1.44) 788  |******************                                        |\n",
      "[-1.44, -1.36) 903  |*********************                                     |\n",
      "[-1.36, -1.28) 1079 |*************************                                 |\n",
      "[-1.28, -1.2)  1135 |**************************                                |\n",
      "[-1.2, -1.12)  1160 |***************************                               |\n",
      "[-1.12, -1.04) 1383 |********************************                          |\n",
      "[-1.04, -0.96) 1458 |*********************************                         |\n",
      "[-0.96, -0.88) 1612 |*************************************                     |\n",
      "[-0.88, -0.8)  1770 |****************************************                  |\n",
      "[-0.8, -0.72)  1868 |*******************************************               |\n",
      "[-0.72, -0.64) 1861 |*******************************************               |\n",
      "[-0.64, -0.56) 1946 |********************************************              |\n",
      "[-0.56, -0.48) 2114 |************************************************          |\n",
      "[-0.48, -0.4)  2175 |**************************************************        |\n",
      "[-0.4, -0.32)  2207 |**************************************************        |\n",
      "[-0.32, -0.24) 2273 |****************************************************      |\n",
      "[-0.24, -0.16) 2276 |****************************************************      |\n",
      "[-0.16, -0.08) 2329 |*****************************************************     |\n",
      "[-0.08, 0)     2325 |*****************************************************     |\n",
      "[0, 0.08)      2381 |******************************************************    |\n",
      "[0.08, 0.16)   2417 |*******************************************************   |\n",
      "[0.16, 0.24)   2364 |******************************************************    |\n",
      "[0.24, 0.32)   2284 |****************************************************      |\n",
      "[0.32, 0.4)    2188 |**************************************************        |\n",
      "[0.4, 0.48)    2164 |*************************************************         |\n",
      "[0.48, 0.56)   2130 |*************************************************         |\n",
      "[0.56, 0.64)   1940 |********************************************              |\n",
      "[0.64, 0.72)   1859 |******************************************                |\n",
      "[0.72, 0.8)    1763 |****************************************                  |\n",
      "[0.8, 0.88)    1700 |***************************************                   |\n",
      "[0.88, 0.96)   1611 |*************************************                     |\n",
      "[0.96, 1.04)   1459 |*********************************                         |\n",
      "[1.04, 1.12)   1390 |********************************                          |\n",
      "[1.12, 1.2)    1237 |****************************                              |\n",
      "[1.2, 1.28)    1083 |*************************                                 |\n",
      "[1.28, 1.36)   1046 |************************                                  |\n",
      "[1.36, 1.44)   888  |********************                                      |\n",
      "[1.44, 1.52)   752  |*****************                                         |\n",
      "[1.52, 1.6)    742  |*****************                                         |\n",
      "[1.6, 1.68)    673  |***************                                           |\n",
      "[1.68, 1.76)   555  |*************                                             |\n",
      "[1.76, 1.84)   533  |************                                              |\n",
      "[1.84, 1.92)   366  |********                                                  |\n",
      "[1.92, 2)      378  |*********                                                 |\n",
      "[2, 2.08)      272  |******                                                    |\n",
      "[2.08, 2.16)   256  |******                                                    |\n",
      "[2.16, 2.24)   200  |*****                                                     |\n",
      "[2.24, 2.32)   174  |****                                                      |\n",
      "[2.32, 2.4)    132  |***                                                       |\n",
      "[2.4, 2.48)    118  |***                                                       |\n",
      "[2.48, 2.56)   100  |**                                                        |\n",
      "[2.56, 2.64)   89   |**                                                        |\n",
      "[2.64, 2.72)   86   |**                                                        |\n",
      "[2.72, 2.8)    39   |*                                                         |\n",
      "[2.8, 2.88)    37   |*                                                         |\n",
      "[2.88, 2.96)   25   |*                                                         |\n",
      "[2.96, 3.04)   23   |*                                                         |\n",
      "[3.04, 3.12)   20   |                                                          |\n",
      "[3.12, 3.2)    16   |                                                          |\n",
      "[3.2, 3.28)    14   |                                                          |\n",
      "[3.28, 3.36)   9    |                                                          |\n",
      "[3.36, 3.44)   13   |                                                          |\n",
      "[3.44, 3.52)   8    |                                                          |\n",
      "[3.52, 3.6)    2    |                                                          |\n",
      "[3.6, 3.68)    2    |                                                          |\n",
      "[3.68, 3.76)   6    |                                                          |\n",
      "[3.76, 3.84)   1    |                                                          |\n",
      "[3.84, 3.92)   0    |                                                          |\n",
      "[3.92, 4)      1    |                                                          |\n",
      "[4, inf]       4    |                                                          |\n",
      "                    +----------------------------------------------------------+\n"
     ]
    }
   ],
   "source": [
    "histograms[\"hpx\"].show()"
   ]
  },
  {
   "cell_type": "markdown",
   "metadata": {},
   "source": [
    "(A shout-out: see [scikit-hep/histoprint](https://github.com/ast0815/histoprint) for a more fully featured package that will take over the job of pretty-printing histograms.)"
   ]
  },
  {
   "cell_type": "markdown",
   "metadata": {},
   "source": [
    "These methods are convenient ways to access the C++ private members. For instance,"
   ]
  },
  {
   "cell_type": "code",
   "execution_count": 73,
   "metadata": {},
   "outputs": [
    {
     "data": {
      "text/plain": [
       "b'This is the px distribution'"
      ]
     },
     "execution_count": 73,
     "metadata": {},
     "output_type": "execute_result"
    }
   ],
   "source": [
    "histograms[\"hpx\"]._fTitle"
   ]
  },
  {
   "cell_type": "code",
   "execution_count": 74,
   "metadata": {},
   "outputs": [
    {
     "data": {
      "text/plain": [
       "b'This is the px distribution'"
      ]
     },
     "execution_count": 74,
     "metadata": {},
     "output_type": "execute_result"
    }
   ],
   "source": [
    "histograms[\"hpx\"].title"
   ]
  },
  {
   "cell_type": "code",
   "execution_count": 75,
   "metadata": {},
   "outputs": [
    {
     "data": {
      "text/plain": [
       "<TAxis b'xaxis' at 0x7f0d8ba5b050>"
      ]
     },
     "execution_count": 75,
     "metadata": {},
     "output_type": "execute_result"
    }
   ],
   "source": [
    "histograms[\"hpx\"]._fXaxis"
   ]
  },
  {
   "cell_type": "code",
   "execution_count": 86,
   "metadata": {},
   "outputs": [
    {
     "data": {
      "text/plain": [
       "array([[-4.  , -3.92],\n",
       "       [-3.92, -3.84],\n",
       "       [-3.84, -3.76],\n",
       "       [-3.76, -3.68],\n",
       "       [-3.68, -3.6 ],\n",
       "       [-3.6 , -3.52],\n",
       "       [-3.52, -3.44],\n",
       "       [-3.44, -3.36],\n",
       "       [-3.36, -3.28],\n",
       "       [-3.28, -3.2 ],\n",
       "       [-3.2 , -3.12],\n",
       "       [-3.12, -3.04],\n",
       "       [-3.04, -2.96],\n",
       "       [-2.96, -2.88],\n",
       "       [-2.88, -2.8 ],\n",
       "       [-2.8 , -2.72],\n",
       "       [-2.72, -2.64],\n",
       "       [-2.64, -2.56],\n",
       "       [-2.56, -2.48],\n",
       "       [-2.48, -2.4 ],\n",
       "       [-2.4 , -2.32],\n",
       "       [-2.32, -2.24],\n",
       "       [-2.24, -2.16],\n",
       "       [-2.16, -2.08],\n",
       "       [-2.08, -2.  ],\n",
       "       [-2.  , -1.92],\n",
       "       [-1.92, -1.84],\n",
       "       [-1.84, -1.76],\n",
       "       [-1.76, -1.68],\n",
       "       [-1.68, -1.6 ],\n",
       "       [-1.6 , -1.52],\n",
       "       [-1.52, -1.44],\n",
       "       [-1.44, -1.36],\n",
       "       [-1.36, -1.28],\n",
       "       [-1.28, -1.2 ],\n",
       "       [-1.2 , -1.12],\n",
       "       [-1.12, -1.04],\n",
       "       [-1.04, -0.96],\n",
       "       [-0.96, -0.88],\n",
       "       [-0.88, -0.8 ],\n",
       "       [-0.8 , -0.72],\n",
       "       [-0.72, -0.64],\n",
       "       [-0.64, -0.56],\n",
       "       [-0.56, -0.48],\n",
       "       [-0.48, -0.4 ],\n",
       "       [-0.4 , -0.32],\n",
       "       [-0.32, -0.24],\n",
       "       [-0.24, -0.16],\n",
       "       [-0.16, -0.08],\n",
       "       [-0.08,  0.  ],\n",
       "       [ 0.  ,  0.08],\n",
       "       [ 0.08,  0.16],\n",
       "       [ 0.16,  0.24],\n",
       "       [ 0.24,  0.32],\n",
       "       [ 0.32,  0.4 ],\n",
       "       [ 0.4 ,  0.48],\n",
       "       [ 0.48,  0.56],\n",
       "       [ 0.56,  0.64],\n",
       "       [ 0.64,  0.72],\n",
       "       [ 0.72,  0.8 ],\n",
       "       [ 0.8 ,  0.88],\n",
       "       [ 0.88,  0.96],\n",
       "       [ 0.96,  1.04],\n",
       "       [ 1.04,  1.12],\n",
       "       [ 1.12,  1.2 ],\n",
       "       [ 1.2 ,  1.28],\n",
       "       [ 1.28,  1.36],\n",
       "       [ 1.36,  1.44],\n",
       "       [ 1.44,  1.52],\n",
       "       [ 1.52,  1.6 ],\n",
       "       [ 1.6 ,  1.68],\n",
       "       [ 1.68,  1.76],\n",
       "       [ 1.76,  1.84],\n",
       "       [ 1.84,  1.92],\n",
       "       [ 1.92,  2.  ],\n",
       "       [ 2.  ,  2.08],\n",
       "       [ 2.08,  2.16],\n",
       "       [ 2.16,  2.24],\n",
       "       [ 2.24,  2.32],\n",
       "       [ 2.32,  2.4 ],\n",
       "       [ 2.4 ,  2.48],\n",
       "       [ 2.48,  2.56],\n",
       "       [ 2.56,  2.64],\n",
       "       [ 2.64,  2.72],\n",
       "       [ 2.72,  2.8 ],\n",
       "       [ 2.8 ,  2.88],\n",
       "       [ 2.88,  2.96],\n",
       "       [ 2.96,  3.04],\n",
       "       [ 3.04,  3.12],\n",
       "       [ 3.12,  3.2 ],\n",
       "       [ 3.2 ,  3.28],\n",
       "       [ 3.28,  3.36],\n",
       "       [ 3.36,  3.44],\n",
       "       [ 3.44,  3.52],\n",
       "       [ 3.52,  3.6 ],\n",
       "       [ 3.6 ,  3.68],\n",
       "       [ 3.68,  3.76],\n",
       "       [ 3.76,  3.84],\n",
       "       [ 3.84,  3.92],\n",
       "       [ 3.92,  4.  ]])"
      ]
     },
     "execution_count": 86,
     "metadata": {},
     "output_type": "execute_result"
    }
   ],
   "source": [
    "histograms[\"hpx\"].bins"
   ]
  },
  {
   "cell_type": "code",
   "execution_count": 87,
   "metadata": {},
   "outputs": [
    {
     "data": {
      "text/plain": [
       "array([-4.  , -3.92, -3.84, -3.76, -3.68, -3.6 , -3.52, -3.44, -3.36,\n",
       "       -3.28, -3.2 , -3.12, -3.04, -2.96, -2.88, -2.8 , -2.72, -2.64,\n",
       "       -2.56, -2.48, -2.4 , -2.32, -2.24, -2.16, -2.08, -2.  , -1.92,\n",
       "       -1.84, -1.76, -1.68, -1.6 , -1.52, -1.44, -1.36, -1.28, -1.2 ,\n",
       "       -1.12, -1.04, -0.96, -0.88, -0.8 , -0.72, -0.64, -0.56, -0.48,\n",
       "       -0.4 , -0.32, -0.24, -0.16, -0.08,  0.  ,  0.08,  0.16,  0.24,\n",
       "        0.32,  0.4 ,  0.48,  0.56,  0.64,  0.72,  0.8 ,  0.88,  0.96,\n",
       "        1.04,  1.12,  1.2 ,  1.28,  1.36,  1.44,  1.52,  1.6 ,  1.68,\n",
       "        1.76,  1.84,  1.92,  2.  ,  2.08,  2.16,  2.24,  2.32,  2.4 ,\n",
       "        2.48,  2.56,  2.64,  2.72,  2.8 ,  2.88,  2.96,  3.04,  3.12,\n",
       "        3.2 ,  3.28,  3.36,  3.44,  3.52,  3.6 ,  3.68,  3.76,  3.84,\n",
       "        3.92,  4.  ])"
      ]
     },
     "execution_count": 87,
     "metadata": {},
     "output_type": "execute_result"
    }
   ],
   "source": [
    "histograms[\"hpx\"].edges"
   ]
  },
  {
   "cell_type": "code",
   "execution_count": 89,
   "metadata": {},
   "outputs": [
    {
     "name": "stdout",
     "output_type": "stream",
     "text": [
      "dependent_variables:\n",
      "- header:\n",
      "    name: counts\n",
      "    units: null\n",
      "  qualifiers: []\n",
      "  values:\n",
      "  - errors:\n",
      "    - label: stat\n",
      "      symerror: 1.4142135623730951\n",
      "    value: 2.0\n",
      "  - errors:\n",
      "    - label: stat\n",
      "      symerror: 1.7320508075688772\n",
      "    value: 3.0\n",
      "  - errors:\n",
      "    - label: stat\n",
      "      symerror: 1.0\n",
      "    value: 1.0\n",
      "  - errors:\n",
      "    - label: stat\n",
      "      symerror: 1.0\n",
      "    value: 1.0\n",
      "  - errors:\n",
      "    - label: stat\n",
      "      symerror: 1.4142135623730951\n",
      "    value: 2.0\n",
      "  - errors:\n",
      "    - label: stat\n",
      "      symerror: 2.0\n",
      "    value: 4.0\n",
      "  - errors:\n",
      "    - label: stat\n",
      "      symerror: 2.449489742783178\n",
      "    value: 6.0\n",
      "  - errors:\n",
      "    - label: stat\n",
      "      symerror: 3.4641016151377544\n",
      "    value: 12.0\n",
      "  - errors:\n",
      "    - label: stat\n",
      "      symerror: 2.8284271247461903\n",
      "    value: 8.0\n",
      "  - errors:\n",
      "    - label: stat\n",
      "      symerror: 3.0\n",
      "    value: 9.0\n",
      "  - errors:\n",
      "    - label: stat\n",
      "      symerror: 3.872983346207417\n",
      "    value: 15.0\n",
      "  - errors:\n",
      "    - label: stat\n",
      "      symerror: 3.872983346207417\n",
      "    value: 15.0\n",
      "  - errors:\n",
      "    - label: stat\n",
      "      symerror: 5.5677643628300215\n",
      "    value: 31.0\n",
      "  - errors:\n",
      "    - label: stat\n",
      "      symerror: 5.916079783099616\n",
      "    value: 35.0\n",
      "  - errors:\n",
      "    - label: stat\n",
      "      symerror: 6.324555320336759\n",
      "    value: 40.0\n",
      "  - errors:\n",
      "    - label: stat\n",
      "      symerror: 8.0\n",
      "    value: 64.0\n",
      "  - errors:\n",
      "    - label: stat\n",
      "      symerror: 8.0\n",
      "    value: 64.0\n",
      "  - errors:\n",
      "    - label: stat\n",
      "      symerror: 9.0\n",
      "    value: 81.0\n",
      "  - errors:\n",
      "    - label: stat\n",
      "      symerror: 10.392304845413264\n",
      "    value: 108.0\n",
      "  - errors:\n",
      "    - label: stat\n",
      "      symerror: 11.135528725660043\n",
      "    value: 124.0\n",
      "  - errors:\n",
      "    - label: stat\n",
      "      symerror: 12.489995996796797\n",
      "    value: 156.0\n",
      "  - errors:\n",
      "    - label: stat\n",
      "      symerror: 12.84523257866513\n",
      "    value: 165.0\n",
      "  - errors:\n",
      "    - label: stat\n",
      "      symerror: 14.45683229480096\n",
      "    value: 209.0\n",
      "  - errors:\n",
      "    - label: stat\n",
      "      symerror: 16.186414056238647\n",
      "    value: 262.0\n",
      "  - errors:\n",
      "    - label: stat\n",
      "      symerror: 17.233687939614086\n",
      "    value: 297.0\n",
      "  - errors:\n",
      "    - label: stat\n",
      "      symerror: 19.79898987322333\n",
      "    value: 392.0\n",
      "  - errors:\n",
      "    - label: stat\n",
      "      symerror: 20.784609690826528\n",
      "    value: 432.0\n",
      "  - errors:\n",
      "    - label: stat\n",
      "      symerror: 21.587033144922902\n",
      "    value: 466.0\n",
      "  - errors:\n",
      "    - label: stat\n",
      "      symerror: 22.825424421026653\n",
      "    value: 521.0\n",
      "  - errors:\n",
      "    - label: stat\n",
      "      symerror: 24.576411454889016\n",
      "    value: 604.0\n",
      "  - errors:\n",
      "    - label: stat\n",
      "      symerror: 25.632011235952593\n",
      "    value: 657.0\n",
      "  - errors:\n",
      "    - label: stat\n",
      "      symerror: 28.071337695236398\n",
      "    value: 788.0\n",
      "  - errors:\n",
      "    - label: stat\n",
      "      symerror: 30.04995840263344\n",
      "    value: 903.0\n",
      "  - errors:\n",
      "    - label: stat\n",
      "      symerror: 32.848135411313685\n",
      "    value: 1079.0\n",
      "  - errors:\n",
      "    - label: stat\n",
      "      symerror: 33.689761055846034\n",
      "    value: 1135.0\n",
      "  - errors:\n",
      "    - label: stat\n",
      "      symerror: 34.058772731852805\n",
      "    value: 1160.0\n",
      "  - errors:\n",
      "    - label: stat\n",
      "      symerror: 37.1887079635741\n",
      "    value: 1383.0\n",
      "  - errors:\n",
      "    - label: stat\n",
      "      symerror: 38.18376618407357\n",
      "    value: 1458.0\n",
      "  - errors:\n",
      "    - label: stat\n",
      "      symerror: 40.149719799769464\n",
      "    value: 1612.0\n",
      "  - errors:\n",
      "    - label: stat\n",
      "      symerror: 42.07136793592526\n",
      "    value: 1770.0\n",
      "  - errors:\n",
      "    - label: stat\n",
      "      symerror: 43.22036556994862\n",
      "    value: 1868.0\n",
      "  - errors:\n",
      "    - label: stat\n",
      "      symerror: 43.139309220245984\n",
      "    value: 1861.0\n",
      "  - errors:\n",
      "    - label: stat\n",
      "      symerror: 44.11349000022555\n",
      "    value: 1946.0\n",
      "  - errors:\n",
      "    - label: stat\n",
      "      symerror: 45.9782557302906\n",
      "    value: 2114.0\n",
      "  - errors:\n",
      "    - label: stat\n",
      "      symerror: 46.636895265444075\n",
      "    value: 2175.0\n",
      "  - errors:\n",
      "    - label: stat\n",
      "      symerror: 46.97871858618538\n",
      "    value: 2207.0\n",
      "  - errors:\n",
      "    - label: stat\n",
      "      symerror: 47.67598976424087\n",
      "    value: 2273.0\n",
      "  - errors:\n",
      "    - label: stat\n",
      "      symerror: 47.70744176750625\n",
      "    value: 2276.0\n",
      "  - errors:\n",
      "    - label: stat\n",
      "      symerror: 48.25971404805462\n",
      "    value: 2329.0\n",
      "  - errors:\n",
      "    - label: stat\n",
      "      symerror: 48.218253804964775\n",
      "    value: 2325.0\n",
      "  - errors:\n",
      "    - label: stat\n",
      "      symerror: 48.79549159502341\n",
      "    value: 2381.0\n",
      "  - errors:\n",
      "    - label: stat\n",
      "      symerror: 49.16299421312742\n",
      "    value: 2417.0\n",
      "  - errors:\n",
      "    - label: stat\n",
      "      symerror: 48.620983124572874\n",
      "    value: 2364.0\n",
      "  - errors:\n",
      "    - label: stat\n",
      "      symerror: 47.791212581394085\n",
      "    value: 2284.0\n",
      "  - errors:\n",
      "    - label: stat\n",
      "      symerror: 46.776062254106\n",
      "    value: 2188.0\n",
      "  - errors:\n",
      "    - label: stat\n",
      "      symerror: 46.51881339845203\n",
      "    value: 2164.0\n",
      "  - errors:\n",
      "    - label: stat\n",
      "      symerror: 46.151923036857305\n",
      "    value: 2130.0\n",
      "  - errors:\n",
      "    - label: stat\n",
      "      symerror: 44.04543109109048\n",
      "    value: 1940.0\n",
      "  - errors:\n",
      "    - label: stat\n",
      "      symerror: 43.116122274620196\n",
      "    value: 1859.0\n",
      "  - errors:\n",
      "    - label: stat\n",
      "      symerror: 41.98809355043403\n",
      "    value: 1763.0\n",
      "  - errors:\n",
      "    - label: stat\n",
      "      symerror: 41.23105625617661\n",
      "    value: 1700.0\n",
      "  - errors:\n",
      "    - label: stat\n",
      "      symerror: 40.13726448077895\n",
      "    value: 1611.0\n",
      "  - errors:\n",
      "    - label: stat\n",
      "      symerror: 38.19685850956856\n",
      "    value: 1459.0\n",
      "  - errors:\n",
      "    - label: stat\n",
      "      symerror: 37.282703764614496\n",
      "    value: 1390.0\n",
      "  - errors:\n",
      "    - label: stat\n",
      "      symerror: 35.17101079013795\n",
      "    value: 1237.0\n",
      "  - errors:\n",
      "    - label: stat\n",
      "      symerror: 32.90896534380867\n",
      "    value: 1083.0\n",
      "  - errors:\n",
      "    - label: stat\n",
      "      symerror: 32.341923257592455\n",
      "    value: 1046.0\n",
      "  - errors:\n",
      "    - label: stat\n",
      "      symerror: 29.79932885150268\n",
      "    value: 888.0\n",
      "  - errors:\n",
      "    - label: stat\n",
      "      symerror: 27.422618401604176\n",
      "    value: 752.0\n",
      "  - errors:\n",
      "    - label: stat\n",
      "      symerror: 27.23967694375247\n",
      "    value: 742.0\n",
      "  - errors:\n",
      "    - label: stat\n",
      "      symerror: 25.942243542145693\n",
      "    value: 673.0\n",
      "  - errors:\n",
      "    - label: stat\n",
      "      symerror: 23.558437978779494\n",
      "    value: 555.0\n",
      "  - errors:\n",
      "    - label: stat\n",
      "      symerror: 23.08679276123039\n",
      "    value: 533.0\n",
      "  - errors:\n",
      "    - label: stat\n",
      "      symerror: 19.131126469708992\n",
      "    value: 366.0\n",
      "  - errors:\n",
      "    - label: stat\n",
      "      symerror: 19.44222209522358\n",
      "    value: 378.0\n",
      "  - errors:\n",
      "    - label: stat\n",
      "      symerror: 16.492422502470642\n",
      "    value: 272.0\n",
      "  - errors:\n",
      "    - label: stat\n",
      "      symerror: 16.0\n",
      "    value: 256.0\n",
      "  - errors:\n",
      "    - label: stat\n",
      "      symerror: 14.142135623730951\n",
      "    value: 200.0\n",
      "  - errors:\n",
      "    - label: stat\n",
      "      symerror: 13.19090595827292\n",
      "    value: 174.0\n",
      "  - errors:\n",
      "    - label: stat\n",
      "      symerror: 11.489125293076057\n",
      "    value: 132.0\n",
      "  - errors:\n",
      "    - label: stat\n",
      "      symerror: 10.862780491200215\n",
      "    value: 118.0\n",
      "  - errors:\n",
      "    - label: stat\n",
      "      symerror: 10.0\n",
      "    value: 100.0\n",
      "  - errors:\n",
      "    - label: stat\n",
      "      symerror: 9.433981132056603\n",
      "    value: 89.0\n",
      "  - errors:\n",
      "    - label: stat\n",
      "      symerror: 9.273618495495704\n",
      "    value: 86.0\n",
      "  - errors:\n",
      "    - label: stat\n",
      "      symerror: 6.244997998398398\n",
      "    value: 39.0\n",
      "  - errors:\n",
      "    - label: stat\n",
      "      symerror: 6.082762530298219\n",
      "    value: 37.0\n",
      "  - errors:\n",
      "    - label: stat\n",
      "      symerror: 5.0\n",
      "    value: 25.0\n",
      "  - errors:\n",
      "    - label: stat\n",
      "      symerror: 4.795831523312719\n",
      "    value: 23.0\n",
      "  - errors:\n",
      "    - label: stat\n",
      "      symerror: 4.47213595499958\n",
      "    value: 20.0\n",
      "  - errors:\n",
      "    - label: stat\n",
      "      symerror: 4.0\n",
      "    value: 16.0\n",
      "  - errors:\n",
      "    - label: stat\n",
      "      symerror: 3.7416573867739413\n",
      "    value: 14.0\n",
      "  - errors:\n",
      "    - label: stat\n",
      "      symerror: 3.0\n",
      "    value: 9.0\n",
      "  - errors:\n",
      "    - label: stat\n",
      "      symerror: 3.605551275463989\n",
      "    value: 13.0\n",
      "  - errors:\n",
      "    - label: stat\n",
      "      symerror: 2.8284271247461903\n",
      "    value: 8.0\n",
      "  - errors:\n",
      "    - label: stat\n",
      "      symerror: 1.4142135623730951\n",
      "    value: 2.0\n",
      "  - errors:\n",
      "    - label: stat\n",
      "      symerror: 1.4142135623730951\n",
      "    value: 2.0\n",
      "  - errors:\n",
      "    - label: stat\n",
      "      symerror: 2.449489742783178\n",
      "    value: 6.0\n",
      "  - errors:\n",
      "    - label: stat\n",
      "      symerror: 1.0\n",
      "    value: 1.0\n",
      "  - errors:\n",
      "    - label: stat\n",
      "      symerror: 0.0\n",
      "    value: 0.0\n",
      "  - errors:\n",
      "    - label: stat\n",
      "      symerror: 1.0\n",
      "    value: 1.0\n",
      "independent_variables:\n",
      "- header:\n",
      "    name: This is the px distribution\n",
      "    units: null\n",
      "  values:\n",
      "  - high: -3.92\n",
      "    low: -4.0\n",
      "  - high: -3.84\n",
      "    low: -3.92\n",
      "  - high: -3.76\n",
      "    low: -3.84\n",
      "  - high: -3.68\n",
      "    low: -3.76\n",
      "  - high: -3.6\n",
      "    low: -3.68\n",
      "  - high: -3.52\n",
      "    low: -3.6\n",
      "  - high: -3.44\n",
      "    low: -3.52\n",
      "  - high: -3.36\n",
      "    low: -3.44\n",
      "  - high: -3.2800000000000002\n",
      "    low: -3.36\n",
      "  - high: -3.2\n",
      "    low: -3.2800000000000002\n",
      "  - high: -3.12\n",
      "    low: -3.2\n",
      "  - high: -3.04\n",
      "    low: -3.12\n",
      "  - high: -2.96\n",
      "    low: -3.04\n",
      "  - high: -2.88\n",
      "    low: -2.96\n",
      "  - high: -2.8\n",
      "    low: -2.88\n",
      "  - high: -2.7199999999999998\n",
      "    low: -2.8\n",
      "  - high: -2.6399999999999997\n",
      "    low: -2.7199999999999998\n",
      "  - high: -2.56\n",
      "    low: -2.6399999999999997\n",
      "  - high: -2.48\n",
      "    low: -2.56\n",
      "  - high: -2.4\n",
      "    low: -2.48\n",
      "  - high: -2.3200000000000003\n",
      "    low: -2.4\n",
      "  - high: -2.24\n",
      "    low: -2.3200000000000003\n",
      "  - high: -2.16\n",
      "    low: -2.24\n",
      "  - high: -2.08\n",
      "    low: -2.16\n",
      "  - high: -2.0\n",
      "    low: -2.08\n",
      "  - high: -1.92\n",
      "    low: -2.0\n",
      "  - high: -1.8399999999999999\n",
      "    low: -1.92\n",
      "  - high: -1.7599999999999998\n",
      "    low: -1.8399999999999999\n",
      "  - high: -1.6800000000000002\n",
      "    low: -1.7599999999999998\n",
      "  - high: -1.6\n",
      "    low: -1.6800000000000002\n",
      "  - high: -1.52\n",
      "    low: -1.6\n",
      "  - high: -1.44\n",
      "    low: -1.52\n",
      "  - high: -1.3599999999999999\n",
      "    low: -1.44\n",
      "  - high: -1.2799999999999998\n",
      "    low: -1.3599999999999999\n",
      "  - high: -1.1999999999999997\n",
      "    low: -1.2799999999999998\n",
      "  - high: -1.12\n",
      "    low: -1.1999999999999997\n",
      "  - high: -1.04\n",
      "    low: -1.12\n",
      "  - high: -0.96\n",
      "    low: -1.04\n",
      "  - high: -0.8799999999999999\n",
      "    low: -0.96\n",
      "  - high: -0.7999999999999998\n",
      "    low: -0.8799999999999999\n",
      "  - high: -0.7199999999999998\n",
      "    low: -0.7999999999999998\n",
      "  - high: -0.6400000000000001\n",
      "    low: -0.7199999999999998\n",
      "  - high: -0.56\n",
      "    low: -0.6400000000000001\n",
      "  - high: -0.48\n",
      "    low: -0.56\n",
      "  - high: -0.3999999999999999\n",
      "    low: -0.48\n",
      "  - high: -0.31999999999999984\n",
      "    low: -0.3999999999999999\n",
      "  - high: -0.23999999999999977\n",
      "    low: -0.31999999999999984\n",
      "  - high: -0.16000000000000014\n",
      "    low: -0.23999999999999977\n",
      "  - high: -0.08000000000000007\n",
      "    low: -0.16000000000000014\n",
      "  - high: 0.0\n",
      "    low: -0.08000000000000007\n",
      "  - high: 0.08000000000000007\n",
      "    low: 0.0\n",
      "  - high: 0.16000000000000014\n",
      "    low: 0.08000000000000007\n",
      "  - high: 0.2400000000000002\n",
      "    low: 0.16000000000000014\n",
      "  - high: 0.3200000000000003\n",
      "    low: 0.2400000000000002\n",
      "  - high: 0.40000000000000036\n",
      "    low: 0.3200000000000003\n",
      "  - high: 0.4800000000000004\n",
      "    low: 0.40000000000000036\n",
      "  - high: 0.5600000000000005\n",
      "    low: 0.4800000000000004\n",
      "  - high: 0.6399999999999997\n",
      "    low: 0.5600000000000005\n",
      "  - high: 0.7199999999999998\n",
      "    low: 0.6399999999999997\n",
      "  - high: 0.7999999999999998\n",
      "    low: 0.7199999999999998\n",
      "  - high: 0.8799999999999999\n",
      "    low: 0.7999999999999998\n",
      "  - high: 0.96\n",
      "    low: 0.8799999999999999\n",
      "  - high: 1.04\n",
      "    low: 0.96\n",
      "  - high: 1.12\n",
      "    low: 1.04\n",
      "  - high: 1.2000000000000002\n",
      "    low: 1.12\n",
      "  - high: 1.2800000000000002\n",
      "    low: 1.2000000000000002\n",
      "  - high: 1.3600000000000003\n",
      "    low: 1.2800000000000002\n",
      "  - high: 1.4400000000000004\n",
      "    low: 1.3600000000000003\n",
      "  - high: 1.5200000000000005\n",
      "    low: 1.4400000000000004\n",
      "  - high: 1.6000000000000005\n",
      "    low: 1.5200000000000005\n",
      "  - high: 1.6799999999999997\n",
      "    low: 1.6000000000000005\n",
      "  - high: 1.7599999999999998\n",
      "    low: 1.6799999999999997\n",
      "  - high: 1.8399999999999999\n",
      "    low: 1.7599999999999998\n",
      "  - high: 1.92\n",
      "    low: 1.8399999999999999\n",
      "  - high: 2.0\n",
      "    low: 1.92\n",
      "  - high: 2.08\n",
      "    low: 2.0\n",
      "  - high: 2.16\n",
      "    low: 2.08\n",
      "  - high: 2.24\n",
      "    low: 2.16\n",
      "  - high: 2.3200000000000003\n",
      "    low: 2.24\n",
      "  - high: 2.4000000000000004\n",
      "    low: 2.3200000000000003\n",
      "  - high: 2.4800000000000004\n",
      "    low: 2.4000000000000004\n",
      "  - high: 2.5600000000000005\n",
      "    low: 2.4800000000000004\n",
      "  - high: 2.6400000000000006\n",
      "    low: 2.5600000000000005\n",
      "  - high: 2.7199999999999998\n",
      "    low: 2.6400000000000006\n",
      "  - high: 2.8\n",
      "    low: 2.7199999999999998\n",
      "  - high: 2.88\n",
      "    low: 2.8\n",
      "  - high: 2.96\n",
      "    low: 2.88\n",
      "  - high: 3.04\n",
      "    low: 2.96\n",
      "  - high: 3.12\n",
      "    low: 3.04\n",
      "  - high: 3.2\n",
      "    low: 3.12\n",
      "  - high: 3.2800000000000002\n",
      "    low: 3.2\n",
      "  - high: 3.3600000000000003\n",
      "    low: 3.2800000000000002\n",
      "  - high: 3.4400000000000004\n",
      "    low: 3.3600000000000003\n",
      "  - high: 3.5200000000000005\n",
      "    low: 3.4400000000000004\n",
      "  - high: 3.6000000000000005\n",
      "    low: 3.5200000000000005\n",
      "  - high: 3.6799999999999997\n",
      "    low: 3.6000000000000005\n",
      "  - high: 3.76\n",
      "    low: 3.6799999999999997\n",
      "  - high: 3.84\n",
      "    low: 3.76\n",
      "  - high: 3.92\n",
      "    low: 3.84\n",
      "  - high: 4.0\n",
      "    low: 3.92\n",
      "\n"
     ]
    }
   ],
   "source": [
    "print(histograms[\"hpx\"].hepdata())"
   ]
  },
  {
   "cell_type": "markdown",
   "metadata": {},
   "source": [
    "The `numpy` method turns the ROOT histogram into the same form that `np.histogram` would return."
   ]
  },
  {
   "cell_type": "code",
   "execution_count": 60,
   "metadata": {},
   "outputs": [
    {
     "data": {
      "text/plain": [
       "(array([2.000e+00, 3.000e+00, 1.000e+00, 1.000e+00, 2.000e+00, 4.000e+00,\n",
       "        6.000e+00, 1.200e+01, 8.000e+00, 9.000e+00, 1.500e+01, 1.500e+01,\n",
       "        3.100e+01, 3.500e+01, 4.000e+01, 6.400e+01, 6.400e+01, 8.100e+01,\n",
       "        1.080e+02, 1.240e+02, 1.560e+02, 1.650e+02, 2.090e+02, 2.620e+02,\n",
       "        2.970e+02, 3.920e+02, 4.320e+02, 4.660e+02, 5.210e+02, 6.040e+02,\n",
       "        6.570e+02, 7.880e+02, 9.030e+02, 1.079e+03, 1.135e+03, 1.160e+03,\n",
       "        1.383e+03, 1.458e+03, 1.612e+03, 1.770e+03, 1.868e+03, 1.861e+03,\n",
       "        1.946e+03, 2.114e+03, 2.175e+03, 2.207e+03, 2.273e+03, 2.276e+03,\n",
       "        2.329e+03, 2.325e+03, 2.381e+03, 2.417e+03, 2.364e+03, 2.284e+03,\n",
       "        2.188e+03, 2.164e+03, 2.130e+03, 1.940e+03, 1.859e+03, 1.763e+03,\n",
       "        1.700e+03, 1.611e+03, 1.459e+03, 1.390e+03, 1.237e+03, 1.083e+03,\n",
       "        1.046e+03, 8.880e+02, 7.520e+02, 7.420e+02, 6.730e+02, 5.550e+02,\n",
       "        5.330e+02, 3.660e+02, 3.780e+02, 2.720e+02, 2.560e+02, 2.000e+02,\n",
       "        1.740e+02, 1.320e+02, 1.180e+02, 1.000e+02, 8.900e+01, 8.600e+01,\n",
       "        3.900e+01, 3.700e+01, 2.500e+01, 2.300e+01, 2.000e+01, 1.600e+01,\n",
       "        1.400e+01, 9.000e+00, 1.300e+01, 8.000e+00, 2.000e+00, 2.000e+00,\n",
       "        6.000e+00, 1.000e+00, 0.000e+00, 1.000e+00], dtype=float32),\n",
       " array([-4.  , -3.92, -3.84, -3.76, -3.68, -3.6 , -3.52, -3.44, -3.36,\n",
       "        -3.28, -3.2 , -3.12, -3.04, -2.96, -2.88, -2.8 , -2.72, -2.64,\n",
       "        -2.56, -2.48, -2.4 , -2.32, -2.24, -2.16, -2.08, -2.  , -1.92,\n",
       "        -1.84, -1.76, -1.68, -1.6 , -1.52, -1.44, -1.36, -1.28, -1.2 ,\n",
       "        -1.12, -1.04, -0.96, -0.88, -0.8 , -0.72, -0.64, -0.56, -0.48,\n",
       "        -0.4 , -0.32, -0.24, -0.16, -0.08,  0.  ,  0.08,  0.16,  0.24,\n",
       "         0.32,  0.4 ,  0.48,  0.56,  0.64,  0.72,  0.8 ,  0.88,  0.96,\n",
       "         1.04,  1.12,  1.2 ,  1.28,  1.36,  1.44,  1.52,  1.6 ,  1.68,\n",
       "         1.76,  1.84,  1.92,  2.  ,  2.08,  2.16,  2.24,  2.32,  2.4 ,\n",
       "         2.48,  2.56,  2.64,  2.72,  2.8 ,  2.88,  2.96,  3.04,  3.12,\n",
       "         3.2 ,  3.28,  3.36,  3.44,  3.52,  3.6 ,  3.68,  3.76,  3.84,\n",
       "         3.92,  4.  ]))"
      ]
     },
     "execution_count": 60,
     "metadata": {},
     "output_type": "execute_result"
    }
   ],
   "source": [
    "histograms[\"hpx\"].numpy()"
   ]
  },
  {
   "cell_type": "markdown",
   "metadata": {},
   "source": [
    "Same for 2-D histograms and `np.histogram2d`."
   ]
  },
  {
   "cell_type": "code",
   "execution_count": 90,
   "metadata": {},
   "outputs": [
    {
     "data": {
      "text/plain": [
       "(array([[0., 0., 0., ..., 0., 0., 0.],\n",
       "        [0., 0., 0., ..., 0., 0., 0.],\n",
       "        [0., 0., 0., ..., 0., 0., 0.],\n",
       "        ...,\n",
       "        [0., 0., 0., ..., 0., 0., 0.],\n",
       "        [0., 0., 0., ..., 0., 0., 0.],\n",
       "        [0., 0., 0., ..., 0., 0., 0.]], dtype=float32),\n",
       " [(array([-4. , -3.8, -3.6, -3.4, -3.2, -3. , -2.8, -2.6, -2.4, -2.2, -2. ,\n",
       "          -1.8, -1.6, -1.4, -1.2, -1. , -0.8, -0.6, -0.4, -0.2,  0. ,  0.2,\n",
       "           0.4,  0.6,  0.8,  1. ,  1.2,  1.4,  1.6,  1.8,  2. ,  2.2,  2.4,\n",
       "           2.6,  2.8,  3. ,  3.2,  3.4,  3.6,  3.8,  4. ]),\n",
       "   array([-4. , -3.8, -3.6, -3.4, -3.2, -3. , -2.8, -2.6, -2.4, -2.2, -2. ,\n",
       "          -1.8, -1.6, -1.4, -1.2, -1. , -0.8, -0.6, -0.4, -0.2,  0. ,  0.2,\n",
       "           0.4,  0.6,  0.8,  1. ,  1.2,  1.4,  1.6,  1.8,  2. ,  2.2,  2.4,\n",
       "           2.6,  2.8,  3. ,  3.2,  3.4,  3.6,  3.8,  4. ]))])"
      ]
     },
     "execution_count": 90,
     "metadata": {},
     "output_type": "execute_result"
    }
   ],
   "source": [
    "histograms[\"hpxpy\"].numpy()"
   ]
  },
  {
   "cell_type": "markdown",
   "metadata": {},
   "source": [
    "Unfortunately, Matplotlib, the predominant Python plotting package, does not like to take prebinned histogram data.\n",
    "\n",
    "This idea of filling histograms in a separate job from plotting them, which [we've been doing at least since HBOOK was released in 1974](https://indico.cern.ch/event/667648/attachments/1526850/2425425/cern17.pdf), is largely unknown beyond particle physics.\n",
    "\n",
    "The best you can do is a bar chart."
   ]
  },
  {
   "cell_type": "code",
   "execution_count": 91,
   "metadata": {},
   "outputs": [
    {
     "data": {
      "text/plain": [
       "<BarContainer object of 100 artists>"
      ]
     },
     "execution_count": 91,
     "metadata": {},
     "output_type": "execute_result"
    },
    {
     "data": {
      "image/png": "[encoded data removed]",
      "text/plain": [
       "<Figure size 432x288 with 1 Axes>"
      ]
     },
     "metadata": {
      "needs_background": "light"
     },
     "output_type": "display_data"
    }
   ],
   "source": [
    "import matplotlib.pyplot as plt\n",
    "\n",
    "content, edges = histograms[\"hpx\"].numpy()\n",
    "\n",
    "plt.bar(edges[:-1], content)"
   ]
  },
  {
   "cell_type": "markdown",
   "metadata": {},
   "source": [
    "But there are projects in Scikit-HEP that are seeking to address that (another shout-out)."
   ]
  },
  {
   "cell_type": "code",
   "execution_count": 92,
   "metadata": {},
   "outputs": [
    {
     "data": {
      "text/plain": [
       "<matplotlib.axes._subplots.AxesSubplot at 0x7f0d89b0fcd0>"
      ]
     },
     "execution_count": 92,
     "metadata": {},
     "output_type": "execute_result"
    },
    {
     "data": {
      "image/png": "[encoded data removed]",
      "text/plain": [
       "<Figure size 432x288 with 1 Axes>"
      ]
     },
     "metadata": {
      "needs_background": "light"
     },
     "output_type": "display_data"
    }
   ],
   "source": [
    "import mplhep as hep\n",
    "\n",
    "hep.histplot(histograms[\"hpx\"].numpy())"
   ]
  },
  {
   "cell_type": "code",
   "execution_count": 107,
   "metadata": {},
   "outputs": [
    {
     "data": {
      "text/plain": [
       "Text(0.5, 24.0, \"b'py vs px'\")"
      ]
     },
     "execution_count": 107,
     "metadata": {},
     "output_type": "execute_result"
    },
    {
     "data": {
      "image/png": "[encoded data removed]",
      "text/plain": [
       "<Figure size 1490.4x360 with 3 Axes>"
      ]
     },
     "metadata": {
      "needs_background": "light"
     },
     "output_type": "display_data"
    }
   ],
   "source": [
    "fig, (ax1, ax2) = plt.subplots(1, 2, figsize=(10, 5))\n",
    "\n",
    "hep.histplot(histograms[\"hpx\"].numpy(), ax=ax1)\n",
    "ax1.set_xlabel(histograms[\"hpx\"].title)\n",
    "\n",
    "content, ((xbins, ybins),) = histograms[\"hpxpy\"].numpy()\n",
    "hep.hist2dplot(content, xbins, ybins, ax=ax2)\n",
    "ax2.set_xlabel(histograms[\"hpxpy\"].title)"
   ]
  },
  {
   "cell_type": "code",
   "execution_count": null,
   "metadata": {},
   "outputs": [],
   "source": []
  }
 ],
 "metadata": {
  "kernelspec": {
   "display_name": "Python 3",
   "language": "python",
   "name": "python3"
  },
  "language_info": {
   "codemirror_mode": {
    "name": "ipython",
    "version": 3
   },
   "file_extension": ".py",
   "mimetype": "text/x-python",
   "name": "python",
   "nbconvert_exporter": "python",
   "pygments_lexer": "ipython3",
   "version": "3.7.6"
  }
 },
 "nbformat": 4,
 "nbformat_minor": 4
}
